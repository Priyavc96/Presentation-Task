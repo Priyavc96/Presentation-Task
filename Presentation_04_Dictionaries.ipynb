{
  "nbformat": 4,
  "nbformat_minor": 0,
  "metadata": {
    "colab": {
      "name": "Presentation 04-Dictionaries.ipynb",
      "provenance": [],
      "collapsed_sections": []
    },
    "kernelspec": {
      "name": "python3",
      "display_name": "Python 3"
    },
    "language_info": {
      "name": "python"
    }
  },
  "cells": [
    {
      "cell_type": "markdown",
      "metadata": {
        "id": "in01nHBpXhaF"
      },
      "source": [
        "#Data type in Python:Dictionary and its operations"
      ]
    },
    {
      "cell_type": "markdown",
      "metadata": {
        "id": "VQZAlB6zXuD2"
      },
      "source": [
        "A python dictionary is a collection of different data types which is wrapped in curly brackets, {}, with a series of key value pairs inside the brackets separated by commas.\n"
      ]
    },
    {
      "cell_type": "markdown",
      "metadata": {
        "id": "6RIhxEorX8ze"
      },
      "source": [
        "Properties of dictionary:\n",
        "\n",
        "1.Can store different data types\n",
        "\n",
        "2.Immutable\n",
        "\n",
        "3.A dictionary can contain another dictonary called Nested dictonary"
      ]
    },
    {
      "cell_type": "code",
      "metadata": {
        "colab": {
          "base_uri": "https://localhost:8080/"
        },
        "id": "I_2XrSKxa64b",
        "outputId": "873db62f-8c44-47f6-b0c0-a3e69918d02b"
      },
      "source": [
        "#Example of dictionary\n",
        "\n",
        "A={\"name\":\"ram\",\"age\":\"25\",\"height\":\"5.5 ft\",\"weight\":\"60 kg\"}\n",
        "type(A)"
      ],
      "execution_count": null,
      "outputs": [
        {
          "output_type": "execute_result",
          "data": {
            "text/plain": [
              "dict"
            ]
          },
          "metadata": {
            "tags": []
          },
          "execution_count": 12
        }
      ]
    },
    {
      "cell_type": "code",
      "metadata": {
        "colab": {
          "base_uri": "https://localhost:8080/"
        },
        "id": "-F-s3ZP2b1tw",
        "outputId": "eafd1b51-ecae-4779-e3bf-37de4b0e4b51"
      },
      "source": [
        "# To call a value \n",
        "a=A.get(\"name\")\n",
        "print(a)\n",
        "b=A.get(\"weight\")\n",
        "print(b)"
      ],
      "execution_count": null,
      "outputs": [
        {
          "output_type": "stream",
          "text": [
            "ram\n",
            "60 kg\n"
          ],
          "name": "stdout"
        }
      ]
    },
    {
      "cell_type": "code",
      "metadata": {
        "colab": {
          "base_uri": "https://localhost:8080/"
        },
        "id": "6FUdNo2DcnLU",
        "outputId": "77eee650-919c-478a-81de-b45c8084f066"
      },
      "source": [
        "# To add item in the existing dictionary\n",
        "A[\"hobby\"]=\"reading\"\n",
        "print(A)"
      ],
      "execution_count": null,
      "outputs": [
        {
          "output_type": "stream",
          "text": [
            "{'name': 'ram', 'age': '25', 'height': '5.5 ft', 'weight': '60 kg', 'hobby': 'reading'}\n"
          ],
          "name": "stdout"
        }
      ]
    },
    {
      "cell_type": "code",
      "metadata": {
        "colab": {
          "base_uri": "https://localhost:8080/"
        },
        "id": "pB6W_yMVdyIS",
        "outputId": "b50308ca-bfea-4a5e-cb5f-298a5a2999ef"
      },
      "source": [
        "# To change the vlaue\n",
        "A[\"age\"]=30\n",
        "print(A)"
      ],
      "execution_count": null,
      "outputs": [
        {
          "output_type": "stream",
          "text": [
            "{'name': 'ram', 'age': 30, 'height': '5.5 ft', 'weight': '60 kg', 'hobby': 'reading'}\n"
          ],
          "name": "stdout"
        }
      ]
    },
    {
      "cell_type": "code",
      "metadata": {
        "colab": {
          "base_uri": "https://localhost:8080/"
        },
        "id": "EZCa81UCeb6O",
        "outputId": "ffa88914-ee88-48c0-9626-7369e8646959"
      },
      "source": [
        "# To get the keys in dictionary\n",
        "Key = list(A.keys())\n",
        "print(Key)"
      ],
      "execution_count": null,
      "outputs": [
        {
          "output_type": "stream",
          "text": [
            "['name', 'age', 'height', 'weight', 'hobby']\n"
          ],
          "name": "stdout"
        }
      ]
    },
    {
      "cell_type": "code",
      "metadata": {
        "colab": {
          "base_uri": "https://localhost:8080/"
        },
        "id": "mq_R3txff_xx",
        "outputId": "c4a0e647-f792-46f6-de83-04c3328bd60c"
      },
      "source": [
        "#To get the value in dictionary\n",
        "Value = list(A.values())\n",
        "print(Value)"
      ],
      "execution_count": null,
      "outputs": [
        {
          "output_type": "stream",
          "text": [
            "['ram', 30, '5.5 ft', '60 kg', 'reading']\n"
          ],
          "name": "stdout"
        }
      ]
    },
    {
      "cell_type": "code",
      "metadata": {
        "id": "ZalOlPIhgVOx"
      },
      "source": [
        "# Removing item from a dictionary\n",
        "1.Using pop(key)\n",
        "2.Using popitem(it removes the last added)"
      ],
      "execution_count": null,
      "outputs": []
    },
    {
      "cell_type": "code",
      "metadata": {
        "colab": {
          "base_uri": "https://localhost:8080/"
        },
        "id": "eF8CHZqchS1j",
        "outputId": "9b7107ba-6ebf-4ac5-bdb6-0bbda0760cea"
      },
      "source": [
        "# Using pop key\n",
        "remove=A.pop(\"name\")\n",
        "print(remove)\n",
        "print(A)"
      ],
      "execution_count": null,
      "outputs": [
        {
          "output_type": "stream",
          "text": [
            "ram\n",
            "{'age': 30, 'height': '5.5 ft', 'weight': '60 kg', 'hobby': 'reading'}\n"
          ],
          "name": "stdout"
        }
      ]
    },
    {
      "cell_type": "code",
      "metadata": {
        "colab": {
          "base_uri": "https://localhost:8080/"
        },
        "id": "cFrJSOaliLU7",
        "outputId": "c515c73f-e103-40b2-e2ab-50efc1526236"
      },
      "source": [
        "# Using popitem\n",
        "remove1=A.popitem()\n",
        "print(remove1)\n",
        "print(A)"
      ],
      "execution_count": null,
      "outputs": [
        {
          "output_type": "stream",
          "text": [
            "('hobby', 'reading')\n",
            "{'age': 30, 'height': '5.5 ft', 'weight': '60 kg'}\n"
          ],
          "name": "stdout"
        }
      ]
    },
    {
      "cell_type": "code",
      "metadata": {
        "colab": {
          "base_uri": "https://localhost:8080/"
        },
        "id": "Vje4mrgojCpW",
        "outputId": "68fcc1e1-b6b8-48e4-a4b6-e92a7ac5635e"
      },
      "source": [
        "# delete keyword from dictionary\n",
        "del A[\"age\"]\n",
        "print(A)"
      ],
      "execution_count": null,
      "outputs": [
        {
          "output_type": "stream",
          "text": [
            "{'height': '5.5 ft', 'weight': '60 kg'}\n"
          ],
          "name": "stdout"
        }
      ]
    },
    {
      "cell_type": "code",
      "metadata": {
        "colab": {
          "base_uri": "https://localhost:8080/"
        },
        "id": "KwWI8DVckgc9",
        "outputId": "6ab03048-42e3-456f-82e6-548ea3f5c645"
      },
      "source": [
        "# Copy a dictionary\n",
        "A={\"name\":\"ram\",\"age\":\"25\",\"height\":\"5.5 ft\",\"weight\":\"60 kg\"}\n",
        "My_dict=A.copy()\n",
        "print(My_dict)"
      ],
      "execution_count": null,
      "outputs": [
        {
          "output_type": "stream",
          "text": [
            "{'name': 'ram', 'age': '25', 'height': '5.5 ft', 'weight': '60 kg'}\n"
          ],
          "name": "stdout"
        }
      ]
    },
    {
      "cell_type": "markdown",
      "metadata": {
        "id": "pygF1CC2lX6q"
      },
      "source": [
        "Nested Dictionary :A nested dictionary is a dictionary inside a dictionary. It's a collection of dictionaries into one single dictionary."
      ]
    },
    {
      "cell_type": "code",
      "metadata": {
        "id": "L8ttYttUlhj1",
        "colab": {
          "base_uri": "https://localhost:8080/",
          "height": 35
        },
        "outputId": "9c0cde9a-38cf-49a8-c1bd-9c51ebc79b8d"
      },
      "source": [
        "people = {1: {'name': 'John', 'age': '27', 'sex': 'Male'},\n",
        "          2: {'name': 'Sara', 'age': '22', 'sex': 'Female'}}\n",
        "        \n",
        "#Accessing John\n",
        "people[1]['name']\n",
        "\n"
      ],
      "execution_count": null,
      "outputs": [
        {
          "output_type": "execute_result",
          "data": {
            "application/vnd.google.colaboratory.intrinsic+json": {
              "type": "string"
            },
            "text/plain": [
              "'John'"
            ]
          },
          "metadata": {
            "tags": []
          },
          "execution_count": 14
        }
      ]
    },
    {
      "cell_type": "code",
      "metadata": {
        "colab": {
          "base_uri": "https://localhost:8080/",
          "height": 35
        },
        "id": "ynV5APqOla3R",
        "outputId": "e280c08f-dca3-466c-ff89-f6a2e949d09c"
      },
      "source": [
        "#Accessing age for Sara\n",
        "people[2]['age']"
      ],
      "execution_count": null,
      "outputs": [
        {
          "output_type": "execute_result",
          "data": {
            "application/vnd.google.colaboratory.intrinsic+json": {
              "type": "string"
            },
            "text/plain": [
              "'22'"
            ]
          },
          "metadata": {
            "tags": []
          },
          "execution_count": 15
        }
      ]
    }
  ]
}