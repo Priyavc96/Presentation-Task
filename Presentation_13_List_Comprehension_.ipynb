{
  "nbformat": 4,
  "nbformat_minor": 0,
  "metadata": {
    "colab": {
      "name": "Presentation 13-List Comprehension .ipynb",
      "provenance": [],
      "collapsed_sections": []
    },
    "kernelspec": {
      "name": "python3",
      "display_name": "Python 3"
    },
    "language_info": {
      "name": "python"
    }
  },
  "cells": [
    {
      "cell_type": "markdown",
      "metadata": {
        "id": "Z7oOT-kN4cat"
      },
      "source": [
        "**List Comprehension**\n",
        "\n",
        "List comprehension offers a shorter syntax when you want to create a new list based on the values of an existing list."
      ]
    },
    {
      "cell_type": "code",
      "metadata": {
        "id": "uL5Np7DAAc-y"
      },
      "source": [
        "\"\"\" \n",
        "Syntax\n",
        "\n",
        "newlist = [expression for item in iterable if condition == True]\n",
        "\n",
        "\"\"\"\n"
      ],
      "execution_count": null,
      "outputs": []
    },
    {
      "cell_type": "code",
      "metadata": {
        "id": "eshEO_-k6oaO",
        "colab": {
          "base_uri": "https://localhost:8080/"
        },
        "outputId": "3b8ea76e-c5ad-4b99-9cc5-be98d65b8c0a"
      },
      "source": [
        "#Normal method:\n",
        "fruits = [\"apple\", \"banana\", \"cherry\", \"kiwi\", \"mango\"]\n",
        "newlist = []                  #print fruits containing \"a\"\n",
        "\n",
        "for x in fruits:\n",
        "  if \"a\" in x:\n",
        "    newlist.append(x)\n",
        "\n",
        "print(newlist)"
      ],
      "execution_count": null,
      "outputs": [
        {
          "output_type": "stream",
          "text": [
            "['apple', 'banana', 'mango']\n"
          ],
          "name": "stdout"
        }
      ]
    },
    {
      "cell_type": "code",
      "metadata": {
        "id": "GuqHp7tU627g",
        "colab": {
          "base_uri": "https://localhost:8080/"
        },
        "outputId": "991fb25a-bca7-498c-a0fe-e6466324ce9b"
      },
      "source": [
        "#Using list comprehension:\n",
        "newlist = [x for x in fruits if 'a' in x ]\n",
        "print(newlist)"
      ],
      "execution_count": null,
      "outputs": [
        {
          "output_type": "stream",
          "text": [
            "['apple', 'banana', 'mango']\n"
          ],
          "name": "stdout"
        }
      ]
    },
    {
      "cell_type": "code",
      "metadata": {
        "id": "-tEqMaiW8gfM",
        "colab": {
          "base_uri": "https://localhost:8080/"
        },
        "outputId": "a4d91cbf-c23c-45a6-812d-2e7e9650ffd2"
      },
      "source": [
        "# To write a list with numbers 1 to 9\n",
        "newlist = [x for x in range(10)]\n",
        "print(newlist)\n"
      ],
      "execution_count": null,
      "outputs": [
        {
          "output_type": "stream",
          "text": [
            "[0, 1, 2, 3, 4, 5, 6, 7, 8, 9]\n"
          ],
          "name": "stdout"
        }
      ]
    },
    {
      "cell_type": "code",
      "metadata": {
        "id": "WhBf6Qr7B9Wv",
        "colab": {
          "base_uri": "https://localhost:8080/"
        },
        "outputId": "09024fa8-06ae-4503-d8e2-10da7ad965e9"
      },
      "source": [
        "# To take numbers greater than 5 from above list\n",
        "newlist1=[x for x in newlist if x>5]\n",
        "print(newlist1)\n"
      ],
      "execution_count": null,
      "outputs": [
        {
          "output_type": "stream",
          "text": [
            "[6, 7, 8, 9]\n"
          ],
          "name": "stdout"
        }
      ]
    },
    {
      "cell_type": "code",
      "metadata": {
        "id": "FvYdQcWtCyYq",
        "colab": {
          "base_uri": "https://localhost:8080/"
        },
        "outputId": "52fb075d-1044-49f5-a31e-6e513e17c338"
      },
      "source": [
        "# to convert a string to list of characters\n",
        "# normal method\n",
        "x  = 'DataScience'\n",
        "\n",
        "x_list = [] # step 1\n",
        "\n",
        "for char in x: # step 2\n",
        "    x_list.append(char) # step 3\n",
        "    \n",
        "print(x_list)"
      ],
      "execution_count": null,
      "outputs": [
        {
          "output_type": "stream",
          "text": [
            "['D', 'a', 't', 'a', 'S', 'c', 'i', 'e', 'n', 'c', 'e']\n"
          ],
          "name": "stdout"
        }
      ]
    },
    {
      "cell_type": "code",
      "metadata": {
        "id": "ZnbId_QrC4wy",
        "colab": {
          "base_uri": "https://localhost:8080/"
        },
        "outputId": "92c3ec97-be07-47d6-a76d-26a0dae97820"
      },
      "source": [
        "#Using list comprehension:\n",
        "x_list1=[char for char in x]\n",
        "print(x_list1)\n"
      ],
      "execution_count": null,
      "outputs": [
        {
          "output_type": "stream",
          "text": [
            "['D', 'a', 't', 'a', 'S', 'c', 'i', 'e', 'n', 'c', 'e']\n"
          ],
          "name": "stdout"
        }
      ]
    },
    {
      "cell_type": "code",
      "metadata": {
        "id": "_1LObweHFR49",
        "colab": {
          "base_uri": "https://localhost:8080/"
        },
        "outputId": "20bb0ffe-38c8-4af2-c93b-317d252aec30"
      },
      "source": [
        "# Convert Kms to meters\n",
        "# 1km = 1000m\n",
        "km_list = [1,2,3,4,5]\n",
        "\n",
        "m_list = []\n",
        "\n",
        "for i in km_list:\n",
        "    m_list.append(i*1000)\n",
        "    \n",
        "print(m_list)"
      ],
      "execution_count": null,
      "outputs": [
        {
          "output_type": "stream",
          "text": [
            "[1000, 2000, 3000, 4000, 5000]\n"
          ],
          "name": "stdout"
        }
      ]
    },
    {
      "cell_type": "code",
      "metadata": {
        "id": "_KwXr7KfFWkb",
        "colab": {
          "base_uri": "https://localhost:8080/"
        },
        "outputId": "25b79548-404f-48ab-8fb0-c4966e5df916"
      },
      "source": [
        "m_list = [i*1000 for i in km_list]\n",
        "print(m_list)"
      ],
      "execution_count": null,
      "outputs": [
        {
          "output_type": "stream",
          "text": [
            "[1000, 2000, 3000, 4000, 5000]\n"
          ],
          "name": "stdout"
        }
      ]
    }
  ]
}