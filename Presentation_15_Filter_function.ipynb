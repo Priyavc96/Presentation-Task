{
  "nbformat": 4,
  "nbformat_minor": 0,
  "metadata": {
    "colab": {
      "name": "Presentation 15-Filter function.ipynb",
      "provenance": [],
      "collapsed_sections": []
    },
    "kernelspec": {
      "name": "python3",
      "display_name": "Python 3"
    },
    "language_info": {
      "name": "python"
    }
  },
  "cells": [
    {
      "cell_type": "markdown",
      "metadata": {
        "id": "3LfHfGR1PMAz"
      },
      "source": [
        "**Filter**\n",
        "\n",
        "The filter() function returns an iterator were the items are filtered through a function to test if the item is accepted or not.\n",
        "\n"
      ]
    },
    {
      "cell_type": "code",
      "metadata": {
        "id": "29OiAqwkO0Lx"
      },
      "source": [
        "\"\"\"\n",
        "about filter function\n",
        "\n",
        "syntax ---->\n",
        "filter(function,sequence)\n",
        "\n",
        "it applies the function to all the elements in the sequences and \n",
        "retains only those elements which passes the specific conditions\n",
        "\n",
        "returns the filter object\n",
        "\"\"\""
      ],
      "execution_count": null,
      "outputs": []
    },
    {
      "cell_type": "code",
      "metadata": {
        "colab": {
          "base_uri": "https://localhost:8080/"
        },
        "id": "Iz_KYL6NPREB",
        "outputId": "f0165d9d-cd0a-4a1b-8045-882517a2a1d1"
      },
      "source": [
        "#Example 1:\n",
        "ages = [5, 12, 17, 18, 24, 32]\n",
        "\n",
        "def myFunc(x):\n",
        "  if x < 18:\n",
        "    return False\n",
        "  else:\n",
        "    return True\n",
        "\n",
        "adults = filter(myFunc, ages)\n",
        "\n",
        "for x in adults:\n",
        "  print(x)"
      ],
      "execution_count": null,
      "outputs": [
        {
          "output_type": "stream",
          "text": [
            "18\n",
            "24\n",
            "32\n"
          ],
          "name": "stdout"
        }
      ]
    },
    {
      "cell_type": "code",
      "metadata": {
        "colab": {
          "base_uri": "https://localhost:8080/"
        },
        "id": "8N6w_dwxQ2wg",
        "outputId": "b11434df-3ae6-47d2-e1f5-eb47498195e2"
      },
      "source": [
        "#Example 2:\n",
        "\n",
        "nums=[2,10,18,15,20,24,30,35,42,50]\n",
        "\n",
        "def myfunc(nums):\n",
        "  if nums%5==0:\n",
        "    return True\n",
        "  else:\n",
        "    return False\n",
        "\n",
        "Nums_divisible_by5=filter(myfunc,nums)\n",
        "list(filter(myfunc,nums))    "
      ],
      "execution_count": null,
      "outputs": [
        {
          "output_type": "execute_result",
          "data": {
            "text/plain": [
              "[10, 15, 20, 30, 35, 50]"
            ]
          },
          "metadata": {
            "tags": []
          },
          "execution_count": 13
        }
      ]
    },
    {
      "cell_type": "markdown",
      "metadata": {
        "id": "-p0Q4aUtSWk0"
      },
      "source": [
        "**Difference between Map and filter function**"
      ]
    },
    {
      "cell_type": "markdown",
      "metadata": {
        "id": "lXq8fKwQS_5h"
      },
      "source": [
        "Map takes all objects in a list and allows you to apply a function to it whereas Filter takes all objects in a list and runs that through a function to create a new list with all objects that return True in that function."
      ]
    },
    {
      "cell_type": "code",
      "metadata": {
        "colab": {
          "base_uri": "https://localhost:8080/"
        },
        "id": "9l1PowFCScrC",
        "outputId": "51925b7d-d0e5-4424-a5ed-a4d16bd47c17"
      },
      "source": [
        "nums=[2,10,18,15,20,24,30,35,42,50]\n",
        "\n",
        "\n",
        "list(filter(myfunc,nums))    \n"
      ],
      "execution_count": null,
      "outputs": [
        {
          "output_type": "execute_result",
          "data": {
            "text/plain": [
              "[10, 15, 20, 30, 35, 50]"
            ]
          },
          "metadata": {
            "tags": []
          },
          "execution_count": 14
        }
      ]
    },
    {
      "cell_type": "code",
      "metadata": {
        "colab": {
          "base_uri": "https://localhost:8080/"
        },
        "id": "Ax-P6nt1TUHh",
        "outputId": "a3dab8fb-031d-4de0-eb96-fba2981284ec"
      },
      "source": [
        "list(map(myfunc,nums))    "
      ],
      "execution_count": null,
      "outputs": [
        {
          "output_type": "execute_result",
          "data": {
            "text/plain": [
              "[False, True, False, True, True, False, True, True, False, True]"
            ]
          },
          "metadata": {
            "tags": []
          },
          "execution_count": 15
        }
      ]
    },
    {
      "cell_type": "markdown",
      "metadata": {
        "id": "FzoGCNWtTzab"
      },
      "source": [
        "**Using map() and filter() with lambda functions**"
      ]
    },
    {
      "cell_type": "code",
      "metadata": {
        "id": "6ZgqsshTT2H0"
      },
      "source": [
        "# Example 1  Squaring the numbers\n",
        "\n",
        "\n",
        "# sequence\n",
        "my_nums = [1,2,3,4,5]\n",
        "\n",
        "# lambda with map function\n",
        "list(map(lambda num:num**2,my_nums))"
      ],
      "execution_count": null,
      "outputs": []
    },
    {
      "cell_type": "code",
      "metadata": {
        "id": "O4MI_SrYUCQx"
      },
      "source": [
        "# Example 2 Nos. divisible by 2\n",
        "\n",
        "nums = [0,1,2,3,4,5,6,7,8,9,10]\n",
        "\n",
        "# filter with map function\n",
        "filter(lambda num:num%2 == 0,nums)\n",
        "list(filter(lambda num:num%2 == 0,nums))"
      ],
      "execution_count": null,
      "outputs": []
    }
  ]
}