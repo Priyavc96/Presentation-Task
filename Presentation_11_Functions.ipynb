{
  "nbformat": 4,
  "nbformat_minor": 0,
  "metadata": {
    "colab": {
      "name": "Presentation 11-Functions.ipynb",
      "provenance": [],
      "collapsed_sections": []
    },
    "kernelspec": {
      "name": "python3",
      "display_name": "Python 3"
    },
    "language_info": {
      "name": "python"
    }
  },
  "cells": [
    {
      "cell_type": "markdown",
      "metadata": {
        "id": "JPvl8uBueCYv"
      },
      "source": [
        "**Function**\n",
        "\n",
        "Functions are the block of reusable code that will execute only when it is called.\n",
        "\n"
      ]
    },
    {
      "cell_type": "code",
      "metadata": {
        "id": "D5aZCLIOeBll"
      },
      "source": [
        "# syntax\n",
        "\"\"\"\n",
        "def function_name():\n",
        "    statement 1\n",
        "    statement 2\n",
        "    ...\n",
        "    ...\n",
        "    ...\n",
        "    statement n\n",
        "\"\"\""
      ],
      "execution_count": null,
      "outputs": []
    },
    {
      "cell_type": "code",
      "metadata": {
        "id": "6lCQU6KHebQu",
        "colab": {
          "base_uri": "https://localhost:8080/"
        },
        "outputId": "b20757c4-5e62-4578-ac53-352dc70a6df7"
      },
      "source": [
        "# defining the function\n",
        "\n",
        "def my_function():\n",
        "  print(\"Hello from a function\")\n",
        "my_function() "
      ],
      "execution_count": null,
      "outputs": [
        {
          "output_type": "stream",
          "text": [
            "Hello from a function\n"
          ],
          "name": "stdout"
        }
      ]
    },
    {
      "cell_type": "code",
      "metadata": {
        "id": "mQLpKzyWfOM7",
        "colab": {
          "base_uri": "https://localhost:8080/"
        },
        "outputId": "a8ff6515-5c5c-4529-a844-f1f2bc115763"
      },
      "source": [
        "# calling the function\n",
        "my_function()"
      ],
      "execution_count": null,
      "outputs": [
        {
          "output_type": "stream",
          "text": [
            "Hello from a function\n"
          ],
          "name": "stdout"
        }
      ]
    },
    {
      "cell_type": "code",
      "metadata": {
        "id": "cIkNSPTBg1Sr"
      },
      "source": [
        "#Ex2) Adding two numbers\n",
        "def add():\n",
        "    x = 5\n",
        "    y = 20\n",
        "    z = x + y\n",
        "    print(z)"
      ],
      "execution_count": null,
      "outputs": []
    },
    {
      "cell_type": "code",
      "metadata": {
        "id": "wdly9pYAhBOD",
        "colab": {
          "base_uri": "https://localhost:8080/"
        },
        "outputId": "34436c51-ccaf-4765-b49e-57b5d6f35872"
      },
      "source": [
        "add()"
      ],
      "execution_count": null,
      "outputs": [
        {
          "output_type": "stream",
          "text": [
            "25\n"
          ],
          "name": "stdout"
        }
      ]
    },
    {
      "cell_type": "markdown",
      "metadata": {
        "id": "R2RO6sibhSLb"
      },
      "source": [
        "**Passing parameters or argument to a function**"
      ]
    },
    {
      "cell_type": "code",
      "metadata": {
        "id": "TyLQ0CqmhNBE",
        "colab": {
          "base_uri": "https://localhost:8080/"
        },
        "outputId": "1f148c17-efc6-43c2-f8c0-c593920f615b"
      },
      "source": [
        "# Passing number:\n",
        "def add(x,y):\n",
        "    z = x + y\n",
        "    print(z)\n",
        "\n",
        "add(10,20)   "
      ],
      "execution_count": null,
      "outputs": [
        {
          "output_type": "stream",
          "text": [
            "30\n"
          ],
          "name": "stdout"
        }
      ]
    },
    {
      "cell_type": "code",
      "metadata": {
        "id": "ASxKY3R2jIGD",
        "colab": {
          "base_uri": "https://localhost:8080/"
        },
        "outputId": "e08e6850-c3e1-44ef-f5f7-d46e7af615c7"
      },
      "source": [
        "#Passing a string:\n",
        "def my_func(fname):\n",
        "  print(fname  +' is a fruit')\n",
        "my_func('apple')\n",
        "my_func('mango')\n"
      ],
      "execution_count": null,
      "outputs": [
        {
          "output_type": "stream",
          "text": [
            "apple is a fruit\n",
            "mango is a fruit\n"
          ],
          "name": "stdout"
        }
      ]
    },
    {
      "cell_type": "code",
      "metadata": {
        "id": "c3xlbMK6mD-O",
        "colab": {
          "base_uri": "https://localhost:8080/"
        },
        "outputId": "add0e2e1-f793-4920-e53d-d9735c2c8c8d"
      },
      "source": [
        "# Passing a list\n",
        "def func(list1):\n",
        "    for i in list1:\n",
        "        print(i)\n",
        "func([1,2,3,4,5])        "
      ],
      "execution_count": null,
      "outputs": [
        {
          "output_type": "stream",
          "text": [
            "1\n",
            "2\n",
            "3\n",
            "4\n",
            "5\n"
          ],
          "name": "stdout"
        }
      ]
    },
    {
      "cell_type": "markdown",
      "metadata": {
        "id": "9WGdC9aupYAq"
      },
      "source": [
        "**return keyword**\n",
        "\n",
        "return keyword can be used to return values from a function\n",
        "\n",
        "it can be used to end the execution of a function\n",
        "\n",
        "statements below return keyword will not get executed"
      ]
    },
    {
      "cell_type": "code",
      "metadata": {
        "id": "s_zZfuVrp2IK",
        "colab": {
          "base_uri": "https://localhost:8080/"
        },
        "outputId": "f413554f-d5f1-4bfb-e08d-35e2501457a1"
      },
      "source": [
        "#returning product\n",
        "\n",
        "def product(x,y):\n",
        "    z = x * y\n",
        "    return z\n",
        "    print(z) #will not execute\n",
        "\n",
        "product(10,20)"
      ],
      "execution_count": null,
      "outputs": [
        {
          "output_type": "execute_result",
          "data": {
            "text/plain": [
              "200"
            ]
          },
          "metadata": {
            "tags": []
          },
          "execution_count": 9
        }
      ]
    },
    {
      "cell_type": "markdown",
      "metadata": {
        "id": "EPKspnshsiwI"
      },
      "source": [
        "**Default values**\n",
        "\n",
        "They are used to initialize the parameters with default values inorder to avoid the errors"
      ]
    },
    {
      "cell_type": "code",
      "metadata": {
        "id": "yOCuu-R9sPJL"
      },
      "source": [
        "#Without default values\n",
        "def add(x,y,z):\n",
        "    my_num = x + y + z\n",
        "    print(my_num)"
      ],
      "execution_count": null,
      "outputs": []
    },
    {
      "cell_type": "code",
      "metadata": {
        "id": "M5xyR5w8tGCw",
        "colab": {
          "base_uri": "https://localhost:8080/"
        },
        "outputId": "63addbf5-b667-4e6a-8c97-6c12d3bcc0cc"
      },
      "source": [
        "add(10,20,30)"
      ],
      "execution_count": null,
      "outputs": [
        {
          "output_type": "stream",
          "text": [
            "60\n"
          ],
          "name": "stdout"
        }
      ]
    },
    {
      "cell_type": "code",
      "metadata": {
        "id": "3cxWap9mtc6o",
        "colab": {
          "base_uri": "https://localhost:8080/",
          "height": 180
        },
        "outputId": "3d63a563-15f7-4a61-e15b-4670593ca8d7"
      },
      "source": [
        "# when value is not passed\n",
        "add(100,50) #ERROR"
      ],
      "execution_count": null,
      "outputs": [
        {
          "output_type": "error",
          "ename": "TypeError",
          "evalue": "ignored",
          "traceback": [
            "\u001b[0;31m---------------------------------------------------------------------------\u001b[0m",
            "\u001b[0;31mTypeError\u001b[0m                                 Traceback (most recent call last)",
            "\u001b[0;32m<ipython-input-12-474e8f3beac3>\u001b[0m in \u001b[0;36m<module>\u001b[0;34m()\u001b[0m\n\u001b[1;32m      1\u001b[0m \u001b[0;31m# when value is not passed\u001b[0m\u001b[0;34m\u001b[0m\u001b[0;34m\u001b[0m\u001b[0;34m\u001b[0m\u001b[0m\n\u001b[0;32m----> 2\u001b[0;31m \u001b[0madd\u001b[0m\u001b[0;34m(\u001b[0m\u001b[0;36m100\u001b[0m\u001b[0;34m,\u001b[0m\u001b[0;36m50\u001b[0m\u001b[0;34m)\u001b[0m \u001b[0;31m#ERROR\u001b[0m\u001b[0;34m\u001b[0m\u001b[0;34m\u001b[0m\u001b[0m\n\u001b[0m",
            "\u001b[0;31mTypeError\u001b[0m: add() missing 1 required positional argument: 'z'"
          ]
        }
      ]
    },
    {
      "cell_type": "code",
      "metadata": {
        "id": "-T-NuZBQth7Y"
      },
      "source": [
        "# With default values\n",
        "\n",
        "def add(x,y,z = 0): #z is initilized to 0 (default)\n",
        "    my_num = x + y + z\n",
        "    print(my_num)"
      ],
      "execution_count": null,
      "outputs": []
    },
    {
      "cell_type": "code",
      "metadata": {
        "id": "qbIcvot9t7Ar",
        "colab": {
          "base_uri": "https://localhost:8080/"
        },
        "outputId": "3a1f59b3-6452-40b9-fd0d-94f21c026600"
      },
      "source": [
        "add(100,50)"
      ],
      "execution_count": null,
      "outputs": [
        {
          "output_type": "stream",
          "text": [
            "150\n"
          ],
          "name": "stdout"
        }
      ]
    },
    {
      "cell_type": "markdown",
      "metadata": {
        "id": "n5mPIxO4u6Mr"
      },
      "source": [
        "**A function can call any other function**\n"
      ]
    },
    {
      "cell_type": "code",
      "metadata": {
        "id": "OJyHv6N0vCjj"
      },
      "source": [
        "def func1():\n",
        "    print(\"func1\")\n",
        "\n",
        "def func2():\n",
        "    print(\"func2\")\n",
        "    func1()\n",
        "    \n",
        "def func3():\n",
        "    print(\"func3\")\n",
        "    func2()"
      ],
      "execution_count": null,
      "outputs": []
    },
    {
      "cell_type": "code",
      "metadata": {
        "colab": {
          "base_uri": "https://localhost:8080/"
        },
        "id": "SZORqbW8vIWz",
        "outputId": "e4d38d35-3f4b-44d0-9413-8ad452bf51f4"
      },
      "source": [
        "func3()"
      ],
      "execution_count": null,
      "outputs": [
        {
          "output_type": "stream",
          "text": [
            "func3\n",
            "func2\n",
            "func1\n"
          ],
          "name": "stdout"
        }
      ]
    },
    {
      "cell_type": "markdown",
      "metadata": {
        "id": "SxJcz4JyvSQL"
      },
      "source": [
        "**Recursion or Recursive Function :**\n"
      ]
    },
    {
      "cell_type": "code",
      "metadata": {
        "id": "lKxNrbCFvUio"
      },
      "source": [
        "\n",
        "# Printing Hello for 5 times using recursion\n",
        "def my_func(num):\n",
        "    num = num + 1\n",
        "    if(num>5):\n",
        "        return\n",
        "    else:\n",
        "        print(\"Hello\")\n",
        "        my_func(num)"
      ],
      "execution_count": null,
      "outputs": []
    },
    {
      "cell_type": "code",
      "metadata": {
        "colab": {
          "base_uri": "https://localhost:8080/"
        },
        "id": "Ps354mlrwSTB",
        "outputId": "f42b44f7-d5b9-499f-d0a7-f16222e92f13"
      },
      "source": [
        " my_func(0)"
      ],
      "execution_count": null,
      "outputs": [
        {
          "output_type": "stream",
          "text": [
            "Hello\n",
            "Hello\n",
            "Hello\n",
            "Hello\n",
            "Hello\n"
          ],
          "name": "stdout"
        }
      ]
    }
  ]
}