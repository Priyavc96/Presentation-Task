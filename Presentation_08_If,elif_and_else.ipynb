{
  "nbformat": 4,
  "nbformat_minor": 0,
  "metadata": {
    "colab": {
      "name": "Presentation 08-If,elif and else.ipynb",
      "provenance": [],
      "collapsed_sections": []
    },
    "kernelspec": {
      "name": "python3",
      "display_name": "Python 3"
    },
    "language_info": {
      "name": "python"
    }
  },
  "cells": [
    {
      "cell_type": "markdown",
      "metadata": {
        "id": "wI2YSxZ-Gaqc"
      },
      "source": [
        "**Python Conditions and If statements**\n",
        "\n",
        "Python supports the usual logical conditions from mathematics:\n",
        "\n",
        "Equals:  a == b\n",
        "\n",
        "Not Equals:  a != b\n",
        "\n",
        "Less than:  a < b\n",
        "\n",
        "Less than or equal to:  a <= b\n",
        "\n",
        "Greater than:  a > b\n",
        "\n",
        "Greater than or equal to:  a >= b\n",
        "\n",
        "These conditions can be used in several ways, most commonly in \"if statements\" and loops.\n",
        "\n"
      ]
    },
    {
      "cell_type": "markdown",
      "metadata": {
        "id": "VSmTGNVDHLDD"
      },
      "source": [
        "**If condition**"
      ]
    },
    {
      "cell_type": "code",
      "metadata": {
        "id": "1GKhYHkTFigc"
      },
      "source": [
        "\"\"\"\n",
        "syntax of if\n",
        "\n",
        "if(condition/s):\n",
        "    statement1\n",
        "    statement2\n",
        "    ..........\n",
        "\"\"\""
      ],
      "execution_count": null,
      "outputs": []
    },
    {
      "cell_type": "code",
      "metadata": {
        "id": "D0cbtBqRHd79",
        "colab": {
          "base_uri": "https://localhost:8080/"
        },
        "outputId": "569c1dbe-05ca-41ff-9f2d-dcb2e86837c0"
      },
      "source": [
        "#Example:\n",
        "\n",
        "num1=25\n",
        "num2=50\n",
        "\n",
        "if (num1<num2):\n",
        "   print(\"25 is less than 50\")"
      ],
      "execution_count": null,
      "outputs": [
        {
          "output_type": "stream",
          "text": [
            "25 is less than 50\n"
          ],
          "name": "stdout"
        }
      ]
    },
    {
      "cell_type": "code",
      "metadata": {
        "id": "8QH9LT9xIbAE",
        "colab": {
          "base_uri": "https://localhost:8080/"
        },
        "outputId": "803a2601-8e08-46ae-cdc7-0f3fbd9c1546"
      },
      "source": [
        "num1=10\n",
        "num2=10\n",
        "\n",
        "if (num1==num2):\n",
        "   print('numbers are equal')"
      ],
      "execution_count": null,
      "outputs": [
        {
          "output_type": "stream",
          "text": [
            "numbers are equal\n"
          ],
          "name": "stdout"
        }
      ]
    },
    {
      "cell_type": "markdown",
      "metadata": {
        "id": "ETitkYtVJAvE"
      },
      "source": [
        "**Indentation**\n",
        "\n",
        "Python relies on indentation (whitespace at the beginning of a line) to define scope in the code.\n"
      ]
    },
    {
      "cell_type": "code",
      "metadata": {
        "id": "M1qaF-ZQJe6S",
        "colab": {
          "base_uri": "https://localhost:8080/"
        },
        "outputId": "cd2a14a9-7b3b-4339-eac6-7fcc368e436a"
      },
      "source": [
        "if (10>5):\n",
        " print('10 is greater than 5')"
      ],
      "execution_count": null,
      "outputs": [
        {
          "output_type": "stream",
          "text": [
            "10 is greater than 5\n"
          ],
          "name": "stdout"
        }
      ]
    },
    {
      "cell_type": "code",
      "metadata": {
        "id": "iuVM9FukKUwW",
        "colab": {
          "base_uri": "https://localhost:8080/",
          "height": 129
        },
        "outputId": "0e0af88b-531f-43d4-b109-dd83530b6f15"
      },
      "source": [
        "if (10>5):\n",
        " print('10 is greater than 5')\n",
        "  print('5 is less  than 10')"
      ],
      "execution_count": null,
      "outputs": [
        {
          "output_type": "error",
          "ename": "IndentationError",
          "evalue": "ignored",
          "traceback": [
            "\u001b[0;36m  File \u001b[0;32m\"<ipython-input-16-0a6d797e7bef>\"\u001b[0;36m, line \u001b[0;32m3\u001b[0m\n\u001b[0;31m    print('5 is less  than 10')\u001b[0m\n\u001b[0m    ^\u001b[0m\n\u001b[0;31mIndentationError\u001b[0m\u001b[0;31m:\u001b[0m unexpected indent\n"
          ]
        }
      ]
    },
    {
      "cell_type": "code",
      "metadata": {
        "id": "WvGGRzNWKyiE",
        "colab": {
          "base_uri": "https://localhost:8080/",
          "height": 129
        },
        "outputId": "8e53844e-f2bd-400c-bc65-2a2b6d433cb6"
      },
      "source": [
        "if (10>5):\n",
        "   print('10 is greater than 5')\n",
        "  print('5 is less  than 10')\n"
      ],
      "execution_count": null,
      "outputs": [
        {
          "output_type": "error",
          "ename": "IndentationError",
          "evalue": "ignored",
          "traceback": [
            "\u001b[0;36m  File \u001b[0;32m\"<ipython-input-17-753cb20bdfe1>\"\u001b[0;36m, line \u001b[0;32m3\u001b[0m\n\u001b[0;31m    print('5 is less  than 10')\u001b[0m\n\u001b[0m                               ^\u001b[0m\n\u001b[0;31mIndentationError\u001b[0m\u001b[0;31m:\u001b[0m unindent does not match any outer indentation level\n"
          ]
        }
      ]
    },
    {
      "cell_type": "code",
      "metadata": {
        "id": "iW9-ZYLULo9R",
        "colab": {
          "base_uri": "https://localhost:8080/"
        },
        "outputId": "3ee78758-546f-4649-a722-210fcd06143a"
      },
      "source": [
        "if (10>5):\n",
        "   print('Condition satisfied')\n",
        "   print('no error')\n",
        "   print('10 is greater than 5')"
      ],
      "execution_count": null,
      "outputs": [
        {
          "output_type": "stream",
          "text": [
            "Condition satisfied\n",
            "no error\n",
            "10 is greater than 5\n"
          ],
          "name": "stdout"
        }
      ]
    },
    {
      "cell_type": "markdown",
      "metadata": {
        "id": "JpDxB_1pMeT1"
      },
      "source": [
        "**If...else...**"
      ]
    },
    {
      "cell_type": "code",
      "metadata": {
        "id": "xNWs-ujhMhqL"
      },
      "source": [
        "\"\"\"\n",
        "syntax of if else\n",
        "\n",
        "if(condition/s):\n",
        "    statement1\n",
        "    statement2\n",
        "    ..........\n",
        "else:\n",
        "    statement1\n",
        "    statement2\n",
        "    ..........\n",
        "\"\"\"\n"
      ],
      "execution_count": null,
      "outputs": []
    },
    {
      "cell_type": "code",
      "metadata": {
        "id": "eW790gyHMpYh",
        "colab": {
          "base_uri": "https://localhost:8080/"
        },
        "outputId": "032eb17d-936b-4641-e807-24915c10ce73"
      },
      "source": [
        "if(5>10):\n",
        "   print('Condition Satisfied')\n",
        "else:\n",
        "   print('Not satisfied')      "
      ],
      "execution_count": null,
      "outputs": [
        {
          "output_type": "stream",
          "text": [
            "Not satisfied\n"
          ],
          "name": "stdout"
        }
      ]
    },
    {
      "cell_type": "code",
      "metadata": {
        "id": "J8PuYouVNXaS",
        "colab": {
          "base_uri": "https://localhost:8080/"
        },
        "outputId": "c9e16734-e276-491c-adff-8dbee719a52a"
      },
      "source": [
        "A=100\n",
        "B=100\n",
        " \n",
        "if(A==B):\n",
        "  print('numbers are equal')\n",
        "else:\n",
        "  print('numbers are not equal')  "
      ],
      "execution_count": null,
      "outputs": [
        {
          "output_type": "stream",
          "text": [
            "numbers are equal\n"
          ],
          "name": "stdout"
        }
      ]
    },
    {
      "cell_type": "markdown",
      "metadata": {
        "id": "iGTmaTrGOPfP"
      },
      "source": [
        "**if...elif...else**\n",
        "\n",
        "The **elif** keyword in python is a way of saying \"if the previous conditions were not true, then try this condition\".\n",
        "\n",
        "The **else** keyword catches anything which isn't caught by the preceding conditions.\n",
        "\n"
      ]
    },
    {
      "cell_type": "code",
      "metadata": {
        "id": "ehyKuIQMOWbU"
      },
      "source": [
        "\"\"\"\n",
        "syntax of if else\n",
        "\n",
        "if(condition/s):\n",
        "    statement1\n",
        "    statement2\n",
        "    ..........\n",
        "elif(condition/s):\n",
        "    statement1\n",
        "    statement2\n",
        "    ..........\n",
        "else:\n",
        "    statement1\n",
        "    statement2\n",
        "    ..........\n",
        "\"\"\""
      ],
      "execution_count": null,
      "outputs": []
    },
    {
      "cell_type": "code",
      "metadata": {
        "id": "4V0WvgIPOas9",
        "colab": {
          "base_uri": "https://localhost:8080/"
        },
        "outputId": "656b7638-a9d0-4af2-cfa4-0ca8cac3adef"
      },
      "source": [
        "a=20\n",
        "b=40\n",
        "if (a>b):\n",
        "  print('Condition not satisfied')\n",
        "elif (a==b):\n",
        "  print('Both are equal')\n",
        "else:\n",
        "  print('b is greater than a')    "
      ],
      "execution_count": null,
      "outputs": [
        {
          "output_type": "stream",
          "text": [
            "b is greater than a\n"
          ],
          "name": "stdout"
        }
      ]
    },
    {
      "cell_type": "markdown",
      "metadata": {
        "id": "BPWwZlz9QrWu"
      },
      "source": [
        "**Multiple Conditions**\n",
        "\n",
        "by using or & and operators\n",
        "\n"
      ]
    },
    {
      "cell_type": "code",
      "metadata": {
        "id": "e2q243TsQwDd",
        "colab": {
          "base_uri": "https://localhost:8080/"
        },
        "outputId": "74782802-d587-4336-ef94-9569c69f993c"
      },
      "source": [
        "#Example using \"OR\"\n",
        "num1=5\n",
        "if(num1>0 or num1==10 or num1>20):                # (If anyone condition is satisfied it will give output)\n",
        " print('Satisfied')\n",
        "else:\n",
        "  print('Not Satisfied') "
      ],
      "execution_count": null,
      "outputs": [
        {
          "output_type": "stream",
          "text": [
            "Satisfied\n"
          ],
          "name": "stdout"
        }
      ]
    },
    {
      "cell_type": "code",
      "metadata": {
        "id": "ahF9QAKC_4zR",
        "colab": {
          "base_uri": "https://localhost:8080/"
        },
        "outputId": "fda321a5-3e65-4dc1-ce10-5a51ab34d281"
      },
      "source": [
        "#Example using \"AND\"\n",
        "num1=10\n",
        "if (num1==10 and num1>5):\n",
        "  print('Satisfied')\n",
        "else:\n",
        "  print(\"Not Satisfied\")  "
      ],
      "execution_count": null,
      "outputs": [
        {
          "output_type": "stream",
          "text": [
            "Satisfied\n"
          ],
          "name": "stdout"
        }
      ]
    },
    {
      "cell_type": "code",
      "metadata": {
        "id": "QPBo08rhAhLG",
        "colab": {
          "base_uri": "https://localhost:8080/"
        },
        "outputId": "f3976e69-bd75-4340-f08f-f5f8920b8a86"
      },
      "source": [
        "num=10\n",
        "if (num>5 and num<1):\n",
        "  print('Satisfied')\n",
        "else:\n",
        "   print(\"Not Satisfied\") "
      ],
      "execution_count": null,
      "outputs": [
        {
          "output_type": "stream",
          "text": [
            "Not Satisfied\n"
          ],
          "name": "stdout"
        }
      ]
    },
    {
      "cell_type": "markdown",
      "metadata": {
        "id": "P1c2pUhnBs5C"
      },
      "source": [
        "**Nested if else**"
      ]
    },
    {
      "cell_type": "code",
      "metadata": {
        "id": "IxudVYSmBwNN",
        "colab": {
          "base_uri": "https://localhost:8080/"
        },
        "outputId": "56a08443-11c9-40a9-994c-f9e8a37da1c2"
      },
      "source": [
        "num1=100\n",
        "if (num1==100):\n",
        "  print(\"Satisfied\")\n",
        "  if (num1<0):\n",
        "   print('negative number')\n",
        "  elif (num1>50):\n",
        "   print(\"100 is greater than 50\")\n",
        "  else:\n",
        "    ('Above conditions are not satisfied')\n",
        "else:\n",
        "  print(\"number is not equal to 100\")"
      ],
      "execution_count": null,
      "outputs": [
        {
          "output_type": "stream",
          "text": [
            "Satisfied\n",
            "100 is greater than 50\n"
          ],
          "name": "stdout"
        }
      ]
    }
  ]
}