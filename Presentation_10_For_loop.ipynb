{
  "nbformat": 4,
  "nbformat_minor": 0,
  "metadata": {
    "colab": {
      "name": "Presentation 10-For loop.ipynb",
      "provenance": [],
      "collapsed_sections": []
    },
    "kernelspec": {
      "name": "python3",
      "display_name": "Python 3"
    },
    "language_info": {
      "name": "python"
    }
  },
  "cells": [
    {
      "cell_type": "markdown",
      "metadata": {
        "id": "fLcKBWTTSLcI"
      },
      "source": [
        "**For loops**\n",
        "\n",
        "For loops are basically used to loop over a sequence.\n",
        "\n",
        "Sequence can be anything like strings,Lists,Tuples,Dictionaries,Sets etc"
      ]
    },
    {
      "cell_type": "code",
      "metadata": {
        "id": "dDEaL49mRuKB",
        "colab": {
          "base_uri": "https://localhost:8080/",
          "height": 35
        },
        "outputId": "46234e9e-256b-49f0-8257-4cf0d3b87664"
      },
      "source": [
        "\"\"\"\n",
        "syntax\n",
        "\n",
        "for item in seq:\n",
        "    statements....\n",
        "\"\"\""
      ],
      "execution_count": 1,
      "outputs": [
        {
          "output_type": "execute_result",
          "data": {
            "application/vnd.google.colaboratory.intrinsic+json": {
              "type": "string"
            },
            "text/plain": [
              "'\\nsyntax\\n\\nfor item in seq:\\n    statements....\\n'"
            ]
          },
          "metadata": {
            "tags": []
          },
          "execution_count": 1
        }
      ]
    },
    {
      "cell_type": "code",
      "metadata": {
        "id": "C2CoKEduTN8A",
        "colab": {
          "base_uri": "https://localhost:8080/"
        },
        "outputId": "53a4ab08-4698-4133-e4c1-43949df38aad"
      },
      "source": [
        "# looping over the strings\n",
        "\n",
        "String = \"rose\"\n",
        "\n",
        "for i in String:\n",
        "    print(i)"
      ],
      "execution_count": 2,
      "outputs": [
        {
          "output_type": "stream",
          "text": [
            "r\n",
            "o\n",
            "s\n",
            "e\n"
          ],
          "name": "stdout"
        }
      ]
    },
    {
      "cell_type": "code",
      "metadata": {
        "id": "4jq0wMnLVSty",
        "colab": {
          "base_uri": "https://localhost:8080/"
        },
        "outputId": "69febade-7a73-47ca-8a4d-ab5847229361"
      },
      "source": [
        "# Looping over list\n",
        "\n",
        "list=[10,20,30,40,50,60]\n",
        "\n",
        "for num in list:\n",
        "   print(num)"
      ],
      "execution_count": 3,
      "outputs": [
        {
          "output_type": "stream",
          "text": [
            "10\n",
            "20\n",
            "30\n",
            "40\n",
            "50\n",
            "60\n"
          ],
          "name": "stdout"
        }
      ]
    },
    {
      "cell_type": "markdown",
      "metadata": {
        "id": "560kCiBAWAW2"
      },
      "source": [
        "**range(start,stop,step)**\n",
        "\n",
        "start = starting position (default value is 0)\n",
        "\n",
        "stop = end position(exclusive) (default value is end position)\n",
        "\n",
        "step = step size or increment size (default value is 1)\n"
      ]
    },
    {
      "cell_type": "code",
      "metadata": {
        "id": "1Je91AahWpIX",
        "colab": {
          "base_uri": "https://localhost:8080/"
        },
        "outputId": "e507d96b-af3e-41ae-d360-9dec223161a6"
      },
      "source": [
        "#Example:\n",
        "\n",
        "for i in range(20):\n",
        "  print(i)"
      ],
      "execution_count": 4,
      "outputs": [
        {
          "output_type": "stream",
          "text": [
            "0\n",
            "1\n",
            "2\n",
            "3\n",
            "4\n",
            "5\n",
            "6\n",
            "7\n",
            "8\n",
            "9\n",
            "10\n",
            "11\n",
            "12\n",
            "13\n",
            "14\n",
            "15\n",
            "16\n",
            "17\n",
            "18\n",
            "19\n"
          ],
          "name": "stdout"
        }
      ]
    },
    {
      "cell_type": "code",
      "metadata": {
        "id": "a463OIqsW4T1",
        "colab": {
          "base_uri": "https://localhost:8080/"
        },
        "outputId": "f50ef595-ece3-49c0-a1fb-fb238092a6d0"
      },
      "source": [
        "for i in range(10,20):\n",
        "  print(i)"
      ],
      "execution_count": 5,
      "outputs": [
        {
          "output_type": "stream",
          "text": [
            "10\n",
            "11\n",
            "12\n",
            "13\n",
            "14\n",
            "15\n",
            "16\n",
            "17\n",
            "18\n",
            "19\n"
          ],
          "name": "stdout"
        }
      ]
    },
    {
      "cell_type": "code",
      "metadata": {
        "id": "pAy44urKXB6A",
        "colab": {
          "base_uri": "https://localhost:8080/"
        },
        "outputId": "07a8bdbe-4a0a-40d4-eeec-81763c6b4ddd"
      },
      "source": [
        "for i in range (1,20,5):\n",
        "  print(i)"
      ],
      "execution_count": 6,
      "outputs": [
        {
          "output_type": "stream",
          "text": [
            "1\n",
            "6\n",
            "11\n",
            "16\n"
          ],
          "name": "stdout"
        }
      ]
    },
    {
      "cell_type": "code",
      "metadata": {
        "id": "iDY1QQzjX4Vg",
        "colab": {
          "base_uri": "https://localhost:8080/"
        },
        "outputId": "90be8957-0d9e-4541-c4ac-66425683f198"
      },
      "source": [
        "#looping in reverse order from 10 to 1\n",
        "\n",
        "for i in range(10,0,-1):\n",
        "  print(i)"
      ],
      "execution_count": 7,
      "outputs": [
        {
          "output_type": "stream",
          "text": [
            "10\n",
            "9\n",
            "8\n",
            "7\n",
            "6\n",
            "5\n",
            "4\n",
            "3\n",
            "2\n",
            "1\n"
          ],
          "name": "stdout"
        }
      ]
    },
    {
      "cell_type": "markdown",
      "metadata": {
        "id": "uzMz2qF3Y8w2"
      },
      "source": [
        "**Break**"
      ]
    },
    {
      "cell_type": "code",
      "metadata": {
        "id": "dn_2RV9yYLLG",
        "colab": {
          "base_uri": "https://localhost:8080/"
        },
        "outputId": "2fa7f3ed-23fb-4ddd-cf65-b0756d9fad07"
      },
      "source": [
        "# using break in for loops\n",
        "for i in range(10):\n",
        "    if ( i == 5):\n",
        "        break\n",
        "    print(i)"
      ],
      "execution_count": null,
      "outputs": [
        {
          "output_type": "stream",
          "text": [
            "0\n",
            "1\n",
            "2\n",
            "3\n",
            "4\n"
          ],
          "name": "stdout"
        }
      ]
    },
    {
      "cell_type": "markdown",
      "metadata": {
        "id": "UOcRlWGlZCBY"
      },
      "source": [
        "**Continue**"
      ]
    },
    {
      "cell_type": "code",
      "metadata": {
        "id": "mwfGHH09YViN",
        "colab": {
          "base_uri": "https://localhost:8080/"
        },
        "outputId": "db8684e5-3e64-4a1b-d9e9-d58368952a3b"
      },
      "source": [
        "# using continue in for loops\n",
        "# Assume we dont want to print 14,15,16\n",
        "for i in range(10,20):\n",
        "    if(i==14 or i ==15 or i ==16):\n",
        "        continue\n",
        "    print(i)"
      ],
      "execution_count": null,
      "outputs": [
        {
          "output_type": "stream",
          "text": [
            "10\n",
            "11\n",
            "12\n",
            "13\n",
            "17\n",
            "18\n",
            "19\n"
          ],
          "name": "stdout"
        }
      ]
    },
    {
      "cell_type": "markdown",
      "metadata": {
        "id": "cOV1TA-YZqLG"
      },
      "source": [
        "**Pass**\n",
        "\n",
        " Empty code is not allowed in loops,if else conditions,functions,Classes etc.\n",
        "\n",
        " Pass keyword avoids error when empty code is not allowed."
      ]
    },
    {
      "cell_type": "code",
      "metadata": {
        "id": "mVQmKt3fZvgv"
      },
      "source": [
        "if(8>4):\n",
        "    pass"
      ],
      "execution_count": 8,
      "outputs": []
    },
    {
      "cell_type": "code",
      "metadata": {
        "id": "6bAohO3UbQ45",
        "colab": {
          "base_uri": "https://localhost:8080/"
        },
        "outputId": "867ce87c-cb6c-469f-8d2b-1a7e2b7dbd52"
      },
      "source": [
        "\n",
        "if(4>2):\n",
        "    print(\"A\")\n",
        "else:\n",
        "    pass"
      ],
      "execution_count": 9,
      "outputs": [
        {
          "output_type": "stream",
          "text": [
            "A\n"
          ],
          "name": "stdout"
        }
      ]
    },
    {
      "cell_type": "code",
      "metadata": {
        "id": "GE3kOFogbWp3"
      },
      "source": [
        "for i in range(10):\n",
        "    pass"
      ],
      "execution_count": 10,
      "outputs": []
    }
  ]
}