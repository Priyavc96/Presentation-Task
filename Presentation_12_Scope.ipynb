{
  "nbformat": 4,
  "nbformat_minor": 0,
  "metadata": {
    "colab": {
      "name": "Presentation 12-Scope.ipynb",
      "provenance": []
    },
    "kernelspec": {
      "name": "python3",
      "display_name": "Python 3"
    },
    "language_info": {
      "name": "python"
    }
  },
  "cells": [
    {
      "cell_type": "markdown",
      "metadata": {
        "id": "vIhei2hHzgQS"
      },
      "source": [
        "**Scope**\n",
        "\n",
        " The scope of a variable refers to the places that you can see or access a variable.\n",
        "\n",
        " There are 3 types of scope:\n",
        "\n",
        "1.Local scope\n",
        "\n",
        "2.Enclosing scope\n",
        "\n",
        "3.Global scope"
      ]
    },
    {
      "cell_type": "markdown",
      "metadata": {
        "id": "3p4tidLghlDC"
      },
      "source": [
        "**Local Scope**\n",
        "\n",
        "A variable created inside a function belongs to the local scope of that function, and can only be used inside that function.\n",
        "\n"
      ]
    },
    {
      "cell_type": "code",
      "metadata": {
        "id": "VV4wck7vzKjS",
        "colab": {
          "base_uri": "https://localhost:8080/"
        },
        "outputId": "a8a0b96f-c03e-47ed-b6df-a3fffbcf9555"
      },
      "source": [
        "# Local Scope Example:\n",
        "\n",
        "def myfunc():\n",
        "  x = 300\n",
        "  print(x)\n",
        "\n",
        "myfunc()\n"
      ],
      "execution_count": null,
      "outputs": [
        {
          "output_type": "stream",
          "text": [
            "300\n"
          ],
          "name": "stdout"
        }
      ]
    },
    {
      "cell_type": "markdown",
      "metadata": {
        "id": "Sy31QFdfjGU1"
      },
      "source": [
        "**Enclosing scope**\n",
        "\n",
        "Here we can access the variable when it is available for any function inside the function."
      ]
    },
    {
      "cell_type": "code",
      "metadata": {
        "colab": {
          "base_uri": "https://localhost:8080/"
        },
        "id": "Azw742kYjghN",
        "outputId": "f9b4a762-6d16-4875-f849-6463811d4a0f"
      },
      "source": [
        "#Enclosing loop example:\n",
        "\n",
        "def myfunc():\n",
        "  x = 300\n",
        "  print('x=300')\n",
        "  def myinnerfunc():\n",
        "    print(x)\n",
        "  myinnerfunc()\n",
        "\n",
        "myfunc()"
      ],
      "execution_count": null,
      "outputs": [
        {
          "output_type": "stream",
          "text": [
            "x=300\n",
            "300\n"
          ],
          "name": "stdout"
        }
      ]
    },
    {
      "cell_type": "markdown",
      "metadata": {
        "id": "5cNjOuSll-gd"
      },
      "source": [
        "**Global Scope**\n",
        "\n",
        "A variable created in the main body of the Python code is a global variable and belongs to the global scope.\n",
        "\n",
        "Global variables are available from within any scope, global and local."
      ]
    },
    {
      "cell_type": "code",
      "metadata": {
        "colab": {
          "base_uri": "https://localhost:8080/"
        },
        "id": "g67wy2XLm-Fl",
        "outputId": "b451b3fb-0409-4cf2-d749-013f43124086"
      },
      "source": [
        "a= \"Apple\"\n",
        "\n",
        "def my_func():\n",
        "    \n",
        "    print('my_func : ',a)\n",
        "    \n",
        "    def my_inner_fun():\n",
        "        print('my_inner_fun : ',a)\n",
        "        \n",
        "    my_inner_fun()\n",
        "    \n",
        "print('Global : ',a)\n",
        "\n",
        "my_func()"
      ],
      "execution_count": null,
      "outputs": [
        {
          "output_type": "stream",
          "text": [
            "Global :  Apple\n",
            "my_func :  Apple\n",
            "my_inner_fun :  Apple\n"
          ],
          "name": "stdout"
        }
      ]
    },
    {
      "cell_type": "markdown",
      "metadata": {
        "id": "RDEOjDbVw-V0"
      },
      "source": [
        "**How to change global variables inside functions**\n"
      ]
    },
    {
      "cell_type": "code",
      "metadata": {
        "colab": {
          "base_uri": "https://localhost:8080/"
        },
        "id": "TUTFQ0Q_xKQY",
        "outputId": "01fe1bc9-6bc6-4d7e-adda-0f2ff95e8e00"
      },
      "source": [
        "x = 300\n",
        "\n",
        "def my_fun():\n",
        "    x = 200\n",
        "    print('local',x)\n",
        "\n",
        "my_fun()\n",
        "print('GLobal',x)"
      ],
      "execution_count": null,
      "outputs": [
        {
          "output_type": "stream",
          "text": [
            "local 200\n",
            "GLobal 300\n"
          ],
          "name": "stdout"
        }
      ]
    },
    {
      "cell_type": "markdown",
      "metadata": {
        "id": "K8fyd0iCxnd5"
      },
      "source": [
        "**Global Keyword**\n",
        "\n",
        "If you need to create a global variable, but are stuck in the local scope, you can use the global keyword.\n",
        "\n",
        "The global keyword makes the variable global."
      ]
    },
    {
      "cell_type": "code",
      "metadata": {
        "id": "UCdKCK4GxkUp",
        "colab": {
          "base_uri": "https://localhost:8080/"
        },
        "outputId": "ec3c7138-701e-4c0d-9128-9b5523ed7a17"
      },
      "source": [
        "x = 300\n",
        "\n",
        "def myfunc():\n",
        "  global x\n",
        "  x = 200\n",
        "\n",
        "myfunc()\n",
        "\n",
        "print(x)"
      ],
      "execution_count": null,
      "outputs": [
        {
          "output_type": "stream",
          "text": [
            "200\n"
          ],
          "name": "stdout"
        }
      ]
    },
    {
      "cell_type": "markdown",
      "metadata": {
        "id": "FPg37AcMzCuh"
      },
      "source": [
        "**Order execution:----> Local,Enclosing,Global**"
      ]
    },
    {
      "cell_type": "code",
      "metadata": {
        "colab": {
          "base_uri": "https://localhost:8080/"
        },
        "id": "-z-0LTE2zPcR",
        "outputId": "5d323d10-5f18-4878-df01-533ee961c459"
      },
      "source": [
        "y = 1000\n",
        "\n",
        "def func1():\n",
        "    y = 100\n",
        "    print('Value of y in func1= ', y )\n",
        "    \n",
        "    def func2():\n",
        "        y = 10\n",
        "        print('Value of y in func2= ', y )\n",
        "        \n",
        "        def func3():\n",
        "            y = 1\n",
        "            print('Value of y = ', y )\n",
        "        \n",
        "        func3()\n",
        "    \n",
        "    func2()\n",
        "    \n",
        "print('Value of y global = ', y )\n",
        "func1()"
      ],
      "execution_count": null,
      "outputs": [
        {
          "output_type": "stream",
          "text": [
            "Value of y global =  1000\n",
            "Value of y in func1=  100\n",
            "Value of y in func2=  10\n",
            "Value of y =  1\n"
          ],
          "name": "stdout"
        }
      ]
    }
  ]
}