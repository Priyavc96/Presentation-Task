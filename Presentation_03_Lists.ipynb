{
  "nbformat": 4,
  "nbformat_minor": 0,
  "metadata": {
    "colab": {
      "name": "Presentation 03-Lists.ipynb",
      "provenance": [],
      "collapsed_sections": []
    },
    "kernelspec": {
      "name": "python3",
      "display_name": "Python 3"
    },
    "language_info": {
      "name": "python"
    }
  },
  "cells": [
    {
      "cell_type": "markdown",
      "metadata": {
        "id": "R-uTppO6LPKk"
      },
      "source": [
        "#List\n",
        "A list is created by placing all the items(elements) inside [ ] square brackets."
      ]
    },
    {
      "cell_type": "markdown",
      "metadata": {
        "id": "aqnKFQrfLv8L"
      },
      "source": [
        "Properties of List\n",
        "\n",
        "1.It can store different data types\n",
        "\n",
        "2.Duplicate values are allowed\n",
        "\n",
        "3.It is mutable\n",
        "\n",
        "4.Order is retained\n",
        "\n",
        "5.Slicing and indexing is possible"
      ]
    },
    {
      "cell_type": "code",
      "metadata": {
        "id": "HW2kfKgXKbx7",
        "colab": {
          "base_uri": "https://localhost:8080/"
        },
        "outputId": "654d0862-2760-4558-cc91-765ac32f9ba8"
      },
      "source": [
        "#Example of List\n",
        "\n",
        "L1=['Peacock','parrot','sparrow','owl','crow']\n",
        "print(L1)\n",
        "type(L1)"
      ],
      "execution_count": null,
      "outputs": [
        {
          "output_type": "stream",
          "text": [
            "['Peacock', 'parrot', 'sparrow', 'owl', 'crow']\n"
          ],
          "name": "stdout"
        },
        {
          "output_type": "execute_result",
          "data": {
            "text/plain": [
              "list"
            ]
          },
          "metadata": {
            "tags": []
          },
          "execution_count": 1
        }
      ]
    },
    {
      "cell_type": "code",
      "metadata": {
        "id": "LYiXYvEGNh10",
        "colab": {
          "base_uri": "https://localhost:8080/"
        },
        "outputId": "660f4c9a-eea6-4fca-f24e-83c67d97f32d"
      },
      "source": [
        "#lenght of List\n",
        "len(L1)"
      ],
      "execution_count": null,
      "outputs": [
        {
          "output_type": "execute_result",
          "data": {
            "text/plain": [
              "5"
            ]
          },
          "metadata": {
            "tags": []
          },
          "execution_count": 2
        }
      ]
    },
    {
      "cell_type": "markdown",
      "metadata": {
        "id": "2RpJxiK7NtT3"
      },
      "source": [
        "**Indexing**"
      ]
    },
    {
      "cell_type": "code",
      "metadata": {
        "colab": {
          "base_uri": "https://localhost:8080/",
          "height": 35
        },
        "id": "YI18dNb4Nmig",
        "outputId": "16772922-cabb-4364-b736-9e7c26d7b833"
      },
      "source": [
        "L1=['Peacock','parrot','sparrow','owl','crow']\n",
        "L1[0]        # to get the first element in list"
      ],
      "execution_count": null,
      "outputs": [
        {
          "output_type": "execute_result",
          "data": {
            "application/vnd.google.colaboratory.intrinsic+json": {
              "type": "string"
            },
            "text/plain": [
              "'Peacock'"
            ]
          },
          "metadata": {
            "tags": []
          },
          "execution_count": 3
        }
      ]
    },
    {
      "cell_type": "code",
      "metadata": {
        "colab": {
          "base_uri": "https://localhost:8080/",
          "height": 35
        },
        "id": "8GWtQbtIODgi",
        "outputId": "8a0e0612-271b-452e-994f-1eebb3c7bdc6"
      },
      "source": [
        "L1[4]        # to get 'crow' as output"
      ],
      "execution_count": null,
      "outputs": [
        {
          "output_type": "execute_result",
          "data": {
            "application/vnd.google.colaboratory.intrinsic+json": {
              "type": "string"
            },
            "text/plain": [
              "'crow'"
            ]
          },
          "metadata": {
            "tags": []
          },
          "execution_count": 4
        }
      ]
    },
    {
      "cell_type": "markdown",
      "metadata": {
        "id": "sRwf-PQQOd_Q"
      },
      "source": [
        "**Slicing**\n",
        "\n",
        "[start:stop:step]\n",
        "\n",
        " start = starting position (default value is 0)\n",
        " \n",
        "stop = end position(exclusive) (default value is end position)\n",
        " \n",
        "\n",
        "step = step size or increment size (default value is 1)"
      ]
    },
    {
      "cell_type": "code",
      "metadata": {
        "colab": {
          "base_uri": "https://localhost:8080/"
        },
        "id": "v3QDtrN6OdWX",
        "outputId": "c90c6084-000c-442f-b57a-32db087c1691"
      },
      "source": [
        "L2= [10,20,30,40,'True','False',3.5,\"Maths\"]\n",
        "\n",
        "L2[0:5]              # to get the first 5 values"
      ],
      "execution_count": null,
      "outputs": [
        {
          "output_type": "execute_result",
          "data": {
            "text/plain": [
              "[10, 20, 30, 40, 'True']"
            ]
          },
          "metadata": {
            "tags": []
          },
          "execution_count": 5
        }
      ]
    },
    {
      "cell_type": "code",
      "metadata": {
        "colab": {
          "base_uri": "https://localhost:8080/"
        },
        "id": "tZGAcY3zPc4y",
        "outputId": "fe1a1a27-44a7-4e42-be72-8122c96d23ac"
      },
      "source": [
        "# to get the last 2 values\n",
        "\n",
        "L2[6:]"
      ],
      "execution_count": null,
      "outputs": [
        {
          "output_type": "execute_result",
          "data": {
            "text/plain": [
              "[3.5, 'Maths']"
            ]
          },
          "metadata": {
            "tags": []
          },
          "execution_count": 6
        }
      ]
    },
    {
      "cell_type": "code",
      "metadata": {
        "colab": {
          "base_uri": "https://localhost:8080/"
        },
        "id": "YkR3yL-mPsCJ",
        "outputId": "d85bf817-3356-4ebd-9e6c-a191f51ee857"
      },
      "source": [
        "# to get alternate values\n",
        "L2[::2]"
      ],
      "execution_count": null,
      "outputs": [
        {
          "output_type": "execute_result",
          "data": {
            "text/plain": [
              "[10, 30, 'True', 3.5]"
            ]
          },
          "metadata": {
            "tags": []
          },
          "execution_count": 7
        }
      ]
    },
    {
      "cell_type": "markdown",
      "metadata": {
        "id": "dbV4rcCZQEtZ"
      },
      "source": [
        "**Mutable**"
      ]
    },
    {
      "cell_type": "code",
      "metadata": {
        "colab": {
          "base_uri": "https://localhost:8080/"
        },
        "id": "mhlkCAL8QCWP",
        "outputId": "e7485c3f-f3cf-4d27-f1a2-9f9111de83d5"
      },
      "source": [
        "# To change the value in a list\n",
        "\n",
        "L2=[10,20,30,40,'True','False',3.5,\"Maths\"]\n",
        "L2[1]=200\n",
        "print(L2)\n"
      ],
      "execution_count": null,
      "outputs": [
        {
          "output_type": "stream",
          "text": [
            "[10, 200, 30, 40, 'True', 'False', 3.5, 'Maths']\n"
          ],
          "name": "stdout"
        }
      ]
    },
    {
      "cell_type": "code",
      "metadata": {
        "colab": {
          "base_uri": "https://localhost:8080/"
        },
        "id": "JzWZRPUUQl-5",
        "outputId": "1cfa2f4c-2400-4088-d7e5-529111ffb3f3"
      },
      "source": [
        "#Similarly any value can be changed based on index position\n",
        "\n",
        "L2=[10,20,30,40,'True','False',3.5,\"Maths\"]\n",
        "L2[5]=\"True\"\n",
        "L2"
      ],
      "execution_count": null,
      "outputs": [
        {
          "output_type": "execute_result",
          "data": {
            "text/plain": [
              "[10, 20, 30, 40, 'True', 'True', 3.5, 'Maths']"
            ]
          },
          "metadata": {
            "tags": []
          },
          "execution_count": 9
        }
      ]
    },
    {
      "cell_type": "markdown",
      "metadata": {
        "id": "bWFQoDRLRxIo"
      },
      "source": [
        "**append.(val)**\n",
        "\n",
        "It is used to add value at the end of the list."
      ]
    },
    {
      "cell_type": "code",
      "metadata": {
        "colab": {
          "base_uri": "https://localhost:8080/"
        },
        "id": "GSpyF9T5RLEn",
        "outputId": "e7ff9d7d-01b0-4b56-d8c3-8aa7ac0c7e92"
      },
      "source": [
        "L2=[10,20,30,40,'True','False',3.5,\"Maths\"]\n",
        "L2.append(\"Python\")\n",
        "L2\n"
      ],
      "execution_count": null,
      "outputs": [
        {
          "output_type": "execute_result",
          "data": {
            "text/plain": [
              "[10, 20, 30, 40, 'True', 'False', 3.5, 'Maths', 'Python']"
            ]
          },
          "metadata": {
            "tags": []
          },
          "execution_count": 10
        }
      ]
    },
    {
      "cell_type": "markdown",
      "metadata": {
        "id": "UuqsWp9DSZ5D"
      },
      "source": [
        "**Insert(pos,elemnt)**"
      ]
    },
    {
      "cell_type": "code",
      "metadata": {
        "colab": {
          "base_uri": "https://localhost:8080/"
        },
        "id": "-ScMlHU9ShHS",
        "outputId": "cc6a87d8-5178-49c5-ff27-97b2ecde9bf4"
      },
      "source": [
        "L3=[10,20,30,40,50,60]\n",
        "L3.insert(2,'Apple')              # to insert \"Apple\" at the second index value\n",
        "L3"
      ],
      "execution_count": null,
      "outputs": [
        {
          "output_type": "execute_result",
          "data": {
            "text/plain": [
              "[10, 20, 'Apple', 30, 40, 50, 60]"
            ]
          },
          "metadata": {
            "tags": []
          },
          "execution_count": 11
        }
      ]
    },
    {
      "cell_type": "code",
      "metadata": {
        "colab": {
          "base_uri": "https://localhost:8080/"
        },
        "id": "3dLqX6mNTIum",
        "outputId": "ca3dc0a5-aebc-4708-cfec-d604e71ea17f"
      },
      "source": [
        "L3=[10,20,30,40,50,60]           # to insert \"false\" at the second index value\n",
        "L3.insert(4,\"false\")\n",
        "L3"
      ],
      "execution_count": null,
      "outputs": [
        {
          "output_type": "execute_result",
          "data": {
            "text/plain": [
              "[10, 20, 30, 40, 'false', 50, 60]"
            ]
          },
          "metadata": {
            "tags": []
          },
          "execution_count": 12
        }
      ]
    },
    {
      "cell_type": "markdown",
      "metadata": {
        "id": "GlkiwIprTyl2"
      },
      "source": [
        "**.extend()**"
      ]
    },
    {
      "cell_type": "code",
      "metadata": {
        "colab": {
          "base_uri": "https://localhost:8080/"
        },
        "id": "G7YL2vF5Udvf",
        "outputId": "17f1b44d-874c-40da-d3a6-f75d44a83baa"
      },
      "source": [
        "list1=[1,2,3,4,5]\n",
        "list2=['A','B','c','D','E']\n",
        "list1.extend(list2)\n",
        "list1"
      ],
      "execution_count": null,
      "outputs": [
        {
          "output_type": "execute_result",
          "data": {
            "text/plain": [
              "[1, 2, 3, 4, 5, 'A', 'B', 'c', 'D', 'E']"
            ]
          },
          "metadata": {
            "tags": []
          },
          "execution_count": 13
        }
      ]
    },
    {
      "cell_type": "markdown",
      "metadata": {
        "id": "Oaw3nA5HVU11"
      },
      "source": [
        "**.pop(index)**"
      ]
    },
    {
      "cell_type": "code",
      "metadata": {
        "colab": {
          "base_uri": "https://localhost:8080/"
        },
        "id": "Rk0ibD2hVZEv",
        "outputId": "6340bd2c-e2d5-4472-c9a0-285243e99a97"
      },
      "source": [
        "list1=[1,2,3,4,5]\n",
        "rem=list1.pop(0)\n",
        "print(rem)\n",
        "list1"
      ],
      "execution_count": null,
      "outputs": [
        {
          "output_type": "stream",
          "text": [
            "1\n"
          ],
          "name": "stdout"
        },
        {
          "output_type": "execute_result",
          "data": {
            "text/plain": [
              "[2, 3, 4, 5]"
            ]
          },
          "metadata": {
            "tags": []
          },
          "execution_count": 14
        }
      ]
    },
    {
      "cell_type": "markdown",
      "metadata": {
        "id": "PSZCKT8Wuk6S"
      },
      "source": [
        "**Nested list**"
      ]
    },
    {
      "cell_type": "code",
      "metadata": {
        "colab": {
          "base_uri": "https://localhost:8080/"
        },
        "id": "J97YFKJhuomJ",
        "outputId": "ec10b87f-67dc-43d0-8a00-4279a802a87b"
      },
      "source": [
        "List_A=[1,2,3,[4,5,6,[7,8,9]]]\n",
        "type(List_A)"
      ],
      "execution_count": null,
      "outputs": [
        {
          "output_type": "execute_result",
          "data": {
            "text/plain": [
              "list"
            ]
          },
          "metadata": {
            "tags": []
          },
          "execution_count": 15
        }
      ]
    },
    {
      "cell_type": "code",
      "metadata": {
        "colab": {
          "base_uri": "https://localhost:8080/"
        },
        "id": "K56JWjeWvkOx",
        "outputId": "a912fae3-892b-4f68-e5d5-1e3ee0606527"
      },
      "source": [
        "# to access elemnt 3\n",
        "List_A[2]"
      ],
      "execution_count": null,
      "outputs": [
        {
          "output_type": "execute_result",
          "data": {
            "text/plain": [
              "3"
            ]
          },
          "metadata": {
            "tags": []
          },
          "execution_count": 16
        }
      ]
    },
    {
      "cell_type": "code",
      "metadata": {
        "colab": {
          "base_uri": "https://localhost:8080/"
        },
        "id": "OIKI4GDTxE1b",
        "outputId": "58953d69-022e-43c9-caae-a65062931c85"
      },
      "source": [
        "# to access element 7\n",
        "List_A[3][3][0]"
      ],
      "execution_count": null,
      "outputs": [
        {
          "output_type": "execute_result",
          "data": {
            "text/plain": [
              "7"
            ]
          },
          "metadata": {
            "tags": []
          },
          "execution_count": 17
        }
      ]
    },
    {
      "cell_type": "code",
      "metadata": {
        "colab": {
          "base_uri": "https://localhost:8080/"
        },
        "id": "pAhXnNHDzkMa",
        "outputId": "dbd70d57-4c6e-402f-c7bb-7b7a824fd742"
      },
      "source": [
        "# to acces elements 4,5,6\n",
        "List_A[3][0:3]"
      ],
      "execution_count": null,
      "outputs": [
        {
          "output_type": "execute_result",
          "data": {
            "text/plain": [
              "[4, 5, 6]"
            ]
          },
          "metadata": {
            "tags": []
          },
          "execution_count": 18
        }
      ]
    },
    {
      "cell_type": "markdown",
      "metadata": {
        "id": "Ip6XZ9iY0e-F"
      },
      "source": [
        "**Copying the list**"
      ]
    },
    {
      "cell_type": "code",
      "metadata": {
        "colab": {
          "base_uri": "https://localhost:8080/"
        },
        "id": "_dq0GlwV1Rmg",
        "outputId": "402b3d21-7941-4d7c-aa96-eeeafcb277ba"
      },
      "source": [
        "ListA1=[10,20,30,\"python\",'maths']\n",
        "print(ListA1)"
      ],
      "execution_count": null,
      "outputs": [
        {
          "output_type": "stream",
          "text": [
            "[10, 20, 30, 'python', 'maths']\n"
          ],
          "name": "stdout"
        }
      ]
    },
    {
      "cell_type": "code",
      "metadata": {
        "colab": {
          "base_uri": "https://localhost:8080/"
        },
        "id": "oM2gnE6A3RbP",
        "outputId": "0a30d417-d835-4f22-ae95-5c0c1a6a20b9"
      },
      "source": [
        "ListA2 = ListA1\n",
        "print(ListA2)"
      ],
      "execution_count": null,
      "outputs": [
        {
          "output_type": "stream",
          "text": [
            "[10, 20, 30, 'python', 'maths']\n"
          ],
          "name": "stdout"
        }
      ]
    },
    {
      "cell_type": "code",
      "metadata": {
        "colab": {
          "base_uri": "https://localhost:8080/"
        },
        "id": "oE1cHxbQ3_6f",
        "outputId": "dcd2f7b8-77e3-422e-c666-02d0706c0f60"
      },
      "source": [
        "print(ListA1)\n",
        "print(ListA2)"
      ],
      "execution_count": null,
      "outputs": [
        {
          "output_type": "stream",
          "text": [
            "[10, 20, 30, 'python', 'maths']\n",
            "[10, 20, 30, 'python', 'maths']\n"
          ],
          "name": "stdout"
        }
      ]
    },
    {
      "cell_type": "code",
      "metadata": {
        "colab": {
          "base_uri": "https://localhost:8080/"
        },
        "id": "51GuQFeV4HbN",
        "outputId": "6ac6d0e5-0f7b-4704-9818-342f3d725376"
      },
      "source": [
        "ListA1[0]=100                    #ListA1 ans ListA2 both are changed\n",
        "print(ListA1)\n",
        "print(ListA2)\n"
      ],
      "execution_count": null,
      "outputs": [
        {
          "output_type": "stream",
          "text": [
            "[100, 20, 30, 'python', 'maths']\n",
            "[100, 20, 30, 'python', 'maths']\n"
          ],
          "name": "stdout"
        }
      ]
    },
    {
      "cell_type": "code",
      "metadata": {
        "colab": {
          "base_uri": "https://localhost:8080/"
        },
        "id": "WphmofUL4g01",
        "outputId": "92df93bb-392a-494a-8925-feff4c57e611"
      },
      "source": [
        "ListA3= ListA1.copy()\n",
        "print(ListA1)\n",
        "print(ListA3)\n"
      ],
      "execution_count": null,
      "outputs": [
        {
          "output_type": "stream",
          "text": [
            "[100, 20, 30, 'python', 'maths']\n",
            "[100, 20, 30, 'python', 'maths']\n"
          ],
          "name": "stdout"
        }
      ]
    },
    {
      "cell_type": "code",
      "metadata": {
        "colab": {
          "base_uri": "https://localhost:8080/"
        },
        "id": "acfERV7e6QD6",
        "outputId": "db6ca948-0419-42f8-aea0-8445af389b05"
      },
      "source": [
        "ListA1[0]=500                               # Only List A1 is changed \n",
        "print(ListA1)\n",
        "print(ListA3)"
      ],
      "execution_count": null,
      "outputs": [
        {
          "output_type": "stream",
          "text": [
            "[500, 20, 30, 'python', 'maths']\n",
            "[100, 20, 30, 'python', 'maths']\n"
          ],
          "name": "stdout"
        }
      ]
    }
  ]
}