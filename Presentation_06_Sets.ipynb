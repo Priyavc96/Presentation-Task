{
  "nbformat": 4,
  "nbformat_minor": 0,
  "metadata": {
    "colab": {
      "name": "Presentation 06-Sets.ipynb",
      "provenance": [],
      "collapsed_sections": []
    },
    "kernelspec": {
      "name": "python3",
      "display_name": "Python 3"
    },
    "language_info": {
      "name": "python"
    }
  },
  "cells": [
    {
      "cell_type": "markdown",
      "metadata": {
        "id": "hhoBE7tyEeZE"
      },
      "source": [
        "**Sets**\n",
        "\n",
        "In Python sets are written with curly brackets.\n",
        "\n",
        "**Properties:**\n",
        "\n",
        "Can store different data types\n",
        "\n",
        "Order is not retained\n",
        "\n",
        "Duplicate values are not allowed\n",
        "\n",
        "Indexing and slicing is not possible\n",
        "\n",
        "\n"
      ]
    },
    {
      "cell_type": "code",
      "metadata": {
        "id": "c2LKP7mmC3IH",
        "colab": {
          "base_uri": "https://localhost:8080/"
        },
        "outputId": "33d18f31-8728-4484-f8da-1ec33a5d27f3"
      },
      "source": [
        "# Example of set\n",
        "\n",
        "Set1={10,20,30,40,'python','maths'}\n",
        "print(Set1)"
      ],
      "execution_count": null,
      "outputs": [
        {
          "output_type": "stream",
          "text": [
            "{'python', 40, 10, 20, 'maths', 30}\n"
          ],
          "name": "stdout"
        }
      ]
    },
    {
      "cell_type": "code",
      "metadata": {
        "id": "GZ-ouC38HVvW",
        "colab": {
          "base_uri": "https://localhost:8080/"
        },
        "outputId": "a27f9892-82d7-4b8f-e837-5be1b347eb85"
      },
      "source": [
        "type(Set1)"
      ],
      "execution_count": null,
      "outputs": [
        {
          "output_type": "execute_result",
          "data": {
            "text/plain": [
              "set"
            ]
          },
          "metadata": {
            "tags": []
          },
          "execution_count": 2
        }
      ]
    },
    {
      "cell_type": "code",
      "metadata": {
        "id": "lPJPQfGGHapr",
        "colab": {
          "base_uri": "https://localhost:8080/"
        },
        "outputId": "c50721f5-9cf0-4cb8-b538-35fa6cfb2b30"
      },
      "source": [
        "len(Set1)"
      ],
      "execution_count": null,
      "outputs": [
        {
          "output_type": "execute_result",
          "data": {
            "text/plain": [
              "6"
            ]
          },
          "metadata": {
            "tags": []
          },
          "execution_count": 3
        }
      ]
    },
    {
      "cell_type": "markdown",
      "metadata": {
        "id": "O0H_txFBIEBI"
      },
      "source": [
        "**Indexing and Slicing is not allowed in sets**\n"
      ]
    },
    {
      "cell_type": "code",
      "metadata": {
        "id": "fPYzcL0RISD5",
        "colab": {
          "base_uri": "https://localhost:8080/",
          "height": 163
        },
        "outputId": "0d56ee61-d1a8-4879-dee9-aef83da3a3c7"
      },
      "source": [
        "Set1[0]"
      ],
      "execution_count": null,
      "outputs": [
        {
          "output_type": "error",
          "ename": "TypeError",
          "evalue": "ignored",
          "traceback": [
            "\u001b[0;31m---------------------------------------------------------------------------\u001b[0m",
            "\u001b[0;31mTypeError\u001b[0m                                 Traceback (most recent call last)",
            "\u001b[0;32m<ipython-input-4-25c87e89cfea>\u001b[0m in \u001b[0;36m<module>\u001b[0;34m()\u001b[0m\n\u001b[0;32m----> 1\u001b[0;31m \u001b[0mSet1\u001b[0m\u001b[0;34m[\u001b[0m\u001b[0;36m0\u001b[0m\u001b[0;34m]\u001b[0m\u001b[0;34m\u001b[0m\u001b[0;34m\u001b[0m\u001b[0m\n\u001b[0m",
            "\u001b[0;31mTypeError\u001b[0m: 'set' object is not subscriptable"
          ]
        }
      ]
    },
    {
      "cell_type": "markdown",
      "metadata": {
        "id": "jvQ2EMQ7Id8E"
      },
      "source": [
        "**Empty Set**"
      ]
    },
    {
      "cell_type": "code",
      "metadata": {
        "id": "ilfv8HeTI4Qs",
        "colab": {
          "base_uri": "https://localhost:8080/"
        },
        "outputId": "eadddd41-85ea-4e1e-ef52-f97d44d003ad"
      },
      "source": [
        "Set2={}\n",
        "type(Set2)"
      ],
      "execution_count": null,
      "outputs": [
        {
          "output_type": "execute_result",
          "data": {
            "text/plain": [
              "dict"
            ]
          },
          "metadata": {
            "tags": []
          },
          "execution_count": 5
        }
      ]
    },
    {
      "cell_type": "code",
      "metadata": {
        "id": "FH3qrZZzJVIa",
        "colab": {
          "base_uri": "https://localhost:8080/"
        },
        "outputId": "51a88d3e-18fe-4f14-b455-d62c4071f653"
      },
      "source": [
        "set3 = set()\n",
        "type(set3)"
      ],
      "execution_count": null,
      "outputs": [
        {
          "output_type": "execute_result",
          "data": {
            "text/plain": [
              "set"
            ]
          },
          "metadata": {
            "tags": []
          },
          "execution_count": 6
        }
      ]
    },
    {
      "cell_type": "markdown",
      "metadata": {
        "id": "eqF-aRE_Kq86"
      },
      "source": [
        "**Mutability**\n",
        "\n",
        "Once set is created we can add and remove the elements from the set, but we cannot modify the existing elements in a set\n",
        "\n"
      ]
    },
    {
      "cell_type": "markdown",
      "metadata": {
        "id": "w40eCY_sLIVi"
      },
      "source": [
        "**1.To add item**"
      ]
    },
    {
      "cell_type": "code",
      "metadata": {
        "id": "B0rNvMGqKuNC",
        "colab": {
          "base_uri": "https://localhost:8080/"
        },
        "outputId": "f4af3b21-ba81-4999-8e5b-582563c3e1ba"
      },
      "source": [
        "Set1={10,20,30,40,50}\n",
        "Set1.add(200)\n",
        "print(Set1)"
      ],
      "execution_count": null,
      "outputs": [
        {
          "output_type": "stream",
          "text": [
            "{40, 200, 10, 50, 20, 30}\n"
          ],
          "name": "stdout"
        }
      ]
    },
    {
      "cell_type": "markdown",
      "metadata": {
        "id": "LOUwGA_sLinZ"
      },
      "source": [
        "**2. Update(list)**\n",
        "\n",
        "It is used to add more than 1 value in a set.All the items should be passed in the form of lists"
      ]
    },
    {
      "cell_type": "code",
      "metadata": {
        "id": "Zie4FpwsLbfJ",
        "colab": {
          "base_uri": "https://localhost:8080/"
        },
        "outputId": "4444c0dd-3370-4301-ae69-b33f803704d2"
      },
      "source": [
        "Set1={10,20,30,40,50}\n",
        "list=['a','b','c']\n",
        "Set1.update(list)\n",
        "print(Set1)"
      ],
      "execution_count": null,
      "outputs": [
        {
          "output_type": "stream",
          "text": [
            "{40, 10, 'b', 50, 20, 'c', 'a', 30}\n"
          ],
          "name": "stdout"
        }
      ]
    },
    {
      "cell_type": "markdown",
      "metadata": {
        "id": "6-CgoWlkMS4s"
      },
      "source": [
        "**3.copy()**"
      ]
    },
    {
      "cell_type": "code",
      "metadata": {
        "id": "CZsEXdBMMgm1",
        "colab": {
          "base_uri": "https://localhost:8080/"
        },
        "outputId": "e61f3ae4-e5c8-4451-94e4-398ca84ecdfa"
      },
      "source": [
        "Set2=Set1.copy()\n",
        "Set2"
      ],
      "execution_count": null,
      "outputs": [
        {
          "output_type": "execute_result",
          "data": {
            "text/plain": [
              "{10, 20, 30, 40, 50, 'a', 'b', 'c'}"
            ]
          },
          "metadata": {
            "tags": []
          },
          "execution_count": 9
        }
      ]
    },
    {
      "cell_type": "markdown",
      "metadata": {
        "id": "FuYpLglgMyak"
      },
      "source": [
        "**4.To remove item**"
      ]
    },
    {
      "cell_type": "code",
      "metadata": {
        "id": "qI-HBqm3M-sM",
        "colab": {
          "base_uri": "https://localhost:8080/"
        },
        "outputId": "a73e84c6-6a0b-46a4-b1a9-3ab09f514cba"
      },
      "source": [
        "Set1"
      ],
      "execution_count": null,
      "outputs": [
        {
          "output_type": "execute_result",
          "data": {
            "text/plain": [
              "{10, 20, 30, 40, 50, 'a', 'b', 'c'}"
            ]
          },
          "metadata": {
            "tags": []
          },
          "execution_count": 10
        }
      ]
    },
    {
      "cell_type": "code",
      "metadata": {
        "id": "sJkGCW6vNHQJ",
        "colab": {
          "base_uri": "https://localhost:8080/"
        },
        "outputId": "cf2a9307-fd8a-4add-df1e-18e9cb147dbd"
      },
      "source": [
        "Set1.remove(10)\n",
        "Set1"
      ],
      "execution_count": null,
      "outputs": [
        {
          "output_type": "execute_result",
          "data": {
            "text/plain": [
              "{20, 30, 40, 50, 'a', 'b', 'c'}"
            ]
          },
          "metadata": {
            "tags": []
          },
          "execution_count": 11
        }
      ]
    },
    {
      "cell_type": "code",
      "metadata": {
        "id": "SW7sQW2DNfCt",
        "colab": {
          "base_uri": "https://localhost:8080/"
        },
        "outputId": "a3d6fd36-266c-4a8c-a9e0-dcc39e9b5877"
      },
      "source": [
        "Set1.remove('a')\n",
        "Set1"
      ],
      "execution_count": null,
      "outputs": [
        {
          "output_type": "execute_result",
          "data": {
            "text/plain": [
              "{20, 30, 40, 50, 'b', 'c'}"
            ]
          },
          "metadata": {
            "tags": []
          },
          "execution_count": 12
        }
      ]
    },
    {
      "cell_type": "code",
      "metadata": {
        "id": "oqL0qo2DN1jk",
        "colab": {
          "base_uri": "https://localhost:8080/",
          "height": 163
        },
        "outputId": "06ba68ec-ce76-4e3e-f46f-e34e77c68db4"
      },
      "source": [
        "Set1.remove(100)                    # It will give error as 100 is not present in the set"
      ],
      "execution_count": null,
      "outputs": [
        {
          "output_type": "error",
          "ename": "KeyError",
          "evalue": "ignored",
          "traceback": [
            "\u001b[0;31m---------------------------------------------------------------------------\u001b[0m",
            "\u001b[0;31mKeyError\u001b[0m                                  Traceback (most recent call last)",
            "\u001b[0;32m<ipython-input-13-4d07cc02c50d>\u001b[0m in \u001b[0;36m<module>\u001b[0;34m()\u001b[0m\n\u001b[0;32m----> 1\u001b[0;31m \u001b[0mSet1\u001b[0m\u001b[0;34m.\u001b[0m\u001b[0mremove\u001b[0m\u001b[0;34m(\u001b[0m\u001b[0;36m100\u001b[0m\u001b[0;34m)\u001b[0m                    \u001b[0;31m# It will give error as 100 is not present in the set\u001b[0m\u001b[0;34m\u001b[0m\u001b[0;34m\u001b[0m\u001b[0m\n\u001b[0m",
            "\u001b[0;31mKeyError\u001b[0m: 100"
          ]
        }
      ]
    },
    {
      "cell_type": "markdown",
      "metadata": {
        "id": "L-_Ztj2JOGJt"
      },
      "source": [
        "**5.Discard item**\n",
        "\n",
        "It removes the specified item from the set. If specified item is not present it will not raise error\n",
        "\n"
      ]
    },
    {
      "cell_type": "code",
      "metadata": {
        "id": "KdHgAG6ZOPt1",
        "colab": {
          "base_uri": "https://localhost:8080/"
        },
        "outputId": "2c146ce3-70a8-43df-8da7-2a5a22cc6060"
      },
      "source": [
        "Set2={1,2,3,4,5,6}\n",
        "Set2.discard(4)\n",
        "Set2"
      ],
      "execution_count": null,
      "outputs": [
        {
          "output_type": "execute_result",
          "data": {
            "text/plain": [
              "{1, 2, 3, 5, 6}"
            ]
          },
          "metadata": {
            "tags": []
          },
          "execution_count": 14
        }
      ]
    },
    {
      "cell_type": "code",
      "metadata": {
        "id": "LlnpYtGlO_8Z",
        "colab": {
          "base_uri": "https://localhost:8080/"
        },
        "outputId": "ace7c310-c031-428d-be6c-9dd66ecc8141"
      },
      "source": [
        "Set2.discard(10)                          # 10 is not present in set however there is no error\n",
        "Set2"
      ],
      "execution_count": null,
      "outputs": [
        {
          "output_type": "execute_result",
          "data": {
            "text/plain": [
              "{1, 2, 3, 5, 6}"
            ]
          },
          "metadata": {
            "tags": []
          },
          "execution_count": 15
        }
      ]
    },
    {
      "cell_type": "markdown",
      "metadata": {
        "id": "ymOlZEeZPb0x"
      },
      "source": [
        "**6.pop()**"
      ]
    },
    {
      "cell_type": "code",
      "metadata": {
        "id": "oWa3tdcoPNSL",
        "colab": {
          "base_uri": "https://localhost:8080/"
        },
        "outputId": "42ed4efb-55de-4db1-ae61-4425cca64340"
      },
      "source": [
        "Set2={1,2,3,4,5,6}\n",
        "Set2.pop()"
      ],
      "execution_count": null,
      "outputs": [
        {
          "output_type": "execute_result",
          "data": {
            "text/plain": [
              "1"
            ]
          },
          "metadata": {
            "tags": []
          },
          "execution_count": 16
        }
      ]
    },
    {
      "cell_type": "code",
      "metadata": {
        "id": "kixdnlHvP-kM",
        "colab": {
          "base_uri": "https://localhost:8080/"
        },
        "outputId": "003ae7af-ef7e-4e28-e46b-d2bfa65a9fbe"
      },
      "source": [
        "Set2.pop()"
      ],
      "execution_count": null,
      "outputs": [
        {
          "output_type": "execute_result",
          "data": {
            "text/plain": [
              "2"
            ]
          },
          "metadata": {
            "tags": []
          },
          "execution_count": 17
        }
      ]
    },
    {
      "cell_type": "markdown",
      "metadata": {
        "id": "ZIK9L8TIQPWa"
      },
      "source": [
        "**7.clear()**"
      ]
    },
    {
      "cell_type": "code",
      "metadata": {
        "id": "RyKoOC_CQWnD",
        "colab": {
          "base_uri": "https://localhost:8080/"
        },
        "outputId": "9e5d8a3c-4d02-49c9-90c2-4ae5345faedd"
      },
      "source": [
        "Set2={1,2,3,4,5,6}\n",
        "Set2.clear()\n",
        "Set2"
      ],
      "execution_count": null,
      "outputs": [
        {
          "output_type": "execute_result",
          "data": {
            "text/plain": [
              "set()"
            ]
          },
          "metadata": {
            "tags": []
          },
          "execution_count": 18
        }
      ]
    },
    {
      "cell_type": "markdown",
      "metadata": {
        "id": "A4jr4hL_QsRr"
      },
      "source": [
        "**8.union()**\n",
        "\n",
        "Returns a new set with all the elements from SetA and SetB\n",
        "\n"
      ]
    },
    {
      "cell_type": "code",
      "metadata": {
        "id": "QjhIAPx5Q3UJ",
        "colab": {
          "base_uri": "https://localhost:8080/"
        },
        "outputId": "c836242e-1850-4865-cb48-b21202f2ada0"
      },
      "source": [
        "SetA={'a','b','c','d'}\n",
        "SetB={'c','d','e','f'}\n",
        "SetC=SetA.union(SetB)\n",
        "SetC"
      ],
      "execution_count": null,
      "outputs": [
        {
          "output_type": "execute_result",
          "data": {
            "text/plain": [
              "{'a', 'b', 'c', 'd', 'e', 'f'}"
            ]
          },
          "metadata": {
            "tags": []
          },
          "execution_count": 19
        }
      ]
    },
    {
      "cell_type": "markdown",
      "metadata": {
        "id": "fPQvpImLSFUs"
      },
      "source": [
        "**9.intersection()**\n",
        "\n",
        "Returns the common element from both the sets\n",
        "\n"
      ]
    },
    {
      "cell_type": "code",
      "metadata": {
        "colab": {
          "base_uri": "https://localhost:8080/"
        },
        "id": "IY6Hr9hpSNLB",
        "outputId": "bbf1fd0e-8d6f-402b-a0fe-038472ece610"
      },
      "source": [
        "SetA={'a','b','c','d'}\n",
        "SetB={'c','d','e','f'}\n",
        "SetC=SetA.intersection(SetB)\n",
        "SetC"
      ],
      "execution_count": null,
      "outputs": [
        {
          "output_type": "execute_result",
          "data": {
            "text/plain": [
              "{'c', 'd'}"
            ]
          },
          "metadata": {
            "tags": []
          },
          "execution_count": 20
        }
      ]
    }
  ]
}