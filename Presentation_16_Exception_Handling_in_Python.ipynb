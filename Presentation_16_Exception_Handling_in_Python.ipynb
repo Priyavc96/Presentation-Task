{
  "nbformat": 4,
  "nbformat_minor": 0,
  "metadata": {
    "colab": {
      "name": "Presentation 16-Exception Handling in Python.ipynb",
      "provenance": [],
      "collapsed_sections": []
    },
    "kernelspec": {
      "name": "python3",
      "display_name": "Python 3"
    },
    "language_info": {
      "name": "python"
    }
  },
  "cells": [
    {
      "cell_type": "markdown",
      "metadata": {
        "id": "62LamiEJ4KBj"
      },
      "source": [
        "**Exception Handling**\n",
        "\n",
        " Errors are the problems in a program due to which the program will stop the execution.\n",
        "\n",
        " We need to handle this errors or exceptions.\n",
        "\n",
        " In python we use try,except,finally blocks to handle the exception"
      ]
    },
    {
      "cell_type": "markdown",
      "metadata": {
        "id": "ycsqO7bN46eY"
      },
      "source": [
        "**Types of Error**\n",
        "\n",
        "1.Syntax error\n",
        "\n",
        "2.Exceptions"
      ]
    },
    {
      "cell_type": "markdown",
      "metadata": {
        "id": "Mc9CxRS-5ZNH"
      },
      "source": [
        "**Syntax errors**\n",
        "\n",
        "As the name suggests this error is caused by the wrong syntax in the code.\n",
        "\n",
        " It leads to the termination of the program.\n",
        " "
      ]
    },
    {
      "cell_type": "code",
      "metadata": {
        "id": "1NrSboLR3sRc",
        "colab": {
          "base_uri": "https://localhost:8080/",
          "height": 129
        },
        "outputId": "d27f78f5-a0db-4bbd-df6e-17d66c4529a6"
      },
      "source": [
        "# Example 1:\n",
        "\n",
        "if (100>50)\n",
        "  print('100 is greater than 50')\n"
      ],
      "execution_count": null,
      "outputs": [
        {
          "output_type": "error",
          "ename": "SyntaxError",
          "evalue": "ignored",
          "traceback": [
            "\u001b[0;36m  File \u001b[0;32m\"<ipython-input-12-6a2a84b16b87>\"\u001b[0;36m, line \u001b[0;32m3\u001b[0m\n\u001b[0;31m    if (100>50)\u001b[0m\n\u001b[0m               ^\u001b[0m\n\u001b[0;31mSyntaxError\u001b[0m\u001b[0;31m:\u001b[0m invalid syntax\n"
          ]
        }
      ]
    },
    {
      "cell_type": "code",
      "metadata": {
        "id": "eq6yPY-Y7xuP",
        "colab": {
          "base_uri": "https://localhost:8080/",
          "height": 129
        },
        "outputId": "8a4af455-990c-4c89-efe5-63f87d000481"
      },
      "source": [
        "# Cannot be handled using try except\n",
        "try:\n",
        "    if(100>50)\n",
        "        print('A')\n",
        "except:\n",
        "    print(\"Exception\")"
      ],
      "execution_count": null,
      "outputs": [
        {
          "output_type": "error",
          "ename": "SyntaxError",
          "evalue": "ignored",
          "traceback": [
            "\u001b[0;36m  File \u001b[0;32m\"<ipython-input-13-7be4ac79e758>\"\u001b[0;36m, line \u001b[0;32m3\u001b[0m\n\u001b[0;31m    if(100>50)\u001b[0m\n\u001b[0m              ^\u001b[0m\n\u001b[0;31mSyntaxError\u001b[0m\u001b[0;31m:\u001b[0m invalid syntax\n"
          ]
        }
      ]
    },
    {
      "cell_type": "code",
      "metadata": {
        "id": "b8_y1MxF8D1v",
        "colab": {
          "base_uri": "https://localhost:8080/",
          "height": 129
        },
        "outputId": "27c18a19-5c68-41b0-ed59-9ebcc5715602"
      },
      "source": [
        "# Example 2:\n",
        "\n",
        "print(\"Hello World\")\n",
        "  print(\"Python\")"
      ],
      "execution_count": null,
      "outputs": [
        {
          "output_type": "error",
          "ename": "IndentationError",
          "evalue": "ignored",
          "traceback": [
            "\u001b[0;36m  File \u001b[0;32m\"<ipython-input-14-b19ebb423633>\"\u001b[0;36m, line \u001b[0;32m4\u001b[0m\n\u001b[0;31m    print(\"Python\")\u001b[0m\n\u001b[0m    ^\u001b[0m\n\u001b[0;31mIndentationError\u001b[0m\u001b[0;31m:\u001b[0m unexpected indent\n"
          ]
        }
      ]
    },
    {
      "cell_type": "markdown",
      "metadata": {
        "id": "l6Bo3OxI9IG2"
      },
      "source": [
        "**Exceptions**\n",
        "\n",
        "Exceptions are raised when the program is syntactically correct, but the code resulted in an error. This error does not stop the execution of the program, however, it changes the normal flow of the program."
      ]
    },
    {
      "cell_type": "code",
      "metadata": {
        "id": "_jqbnrmp9Ueh",
        "colab": {
          "base_uri": "https://localhost:8080/",
          "height": 231
        },
        "outputId": "95ac1953-cb61-4260-9b9e-9ce3013181f0"
      },
      "source": [
        "print(\"hello world\")\n",
        "print(name)\n",
        "print('Welcome to exception handling')\n",
        "print('Thank you')"
      ],
      "execution_count": null,
      "outputs": [
        {
          "output_type": "stream",
          "text": [
            "hello world\n"
          ],
          "name": "stdout"
        },
        {
          "output_type": "error",
          "ename": "NameError",
          "evalue": "ignored",
          "traceback": [
            "\u001b[0;31m---------------------------------------------------------------------------\u001b[0m",
            "\u001b[0;31mNameError\u001b[0m                                 Traceback (most recent call last)",
            "\u001b[0;32m<ipython-input-15-c7db6c9825c3>\u001b[0m in \u001b[0;36m<module>\u001b[0;34m()\u001b[0m\n\u001b[1;32m      1\u001b[0m \u001b[0mprint\u001b[0m\u001b[0;34m(\u001b[0m\u001b[0;34m\"hello world\"\u001b[0m\u001b[0;34m)\u001b[0m\u001b[0;34m\u001b[0m\u001b[0;34m\u001b[0m\u001b[0m\n\u001b[0;32m----> 2\u001b[0;31m \u001b[0mprint\u001b[0m\u001b[0;34m(\u001b[0m\u001b[0mname\u001b[0m\u001b[0;34m)\u001b[0m\u001b[0;34m\u001b[0m\u001b[0;34m\u001b[0m\u001b[0m\n\u001b[0m\u001b[1;32m      3\u001b[0m \u001b[0mprint\u001b[0m\u001b[0;34m(\u001b[0m\u001b[0;34m'Welcome to exception handling'\u001b[0m\u001b[0;34m)\u001b[0m\u001b[0;34m\u001b[0m\u001b[0;34m\u001b[0m\u001b[0m\n\u001b[1;32m      4\u001b[0m \u001b[0mprint\u001b[0m\u001b[0;34m(\u001b[0m\u001b[0;34m'Thank you'\u001b[0m\u001b[0;34m)\u001b[0m\u001b[0;34m\u001b[0m\u001b[0;34m\u001b[0m\u001b[0m\n",
            "\u001b[0;31mNameError\u001b[0m: name 'name' is not defined"
          ]
        }
      ]
    },
    {
      "cell_type": "markdown",
      "metadata": {
        "id": "BZBNuZds-fyu"
      },
      "source": [
        "\n",
        "**try:**\n",
        "\n",
        "try block will check if there are any exceptions in our code.\n",
        "\n",
        "If there are exception, then it will pass the control to except block\n",
        "\n",
        "If there is no exception then it will not do anything\n"
      ]
    },
    {
      "cell_type": "markdown",
      "metadata": {
        "id": "Si_QjdA3-wCJ"
      },
      "source": [
        "\n",
        "**except**: \n",
        "\n",
        "except block will handle the exception.\n",
        "\n",
        "It prevents the abrupt termination of the program"
      ]
    },
    {
      "cell_type": "code",
      "metadata": {
        "id": "hx4vmYIt-3mm"
      },
      "source": [
        "\"\"\"\n",
        "syntax ---->\n",
        "\n",
        "try:\n",
        "    statement1\n",
        "    statement2\n",
        "    .......\n",
        "except:\n",
        "    statement1\n",
        "    statement2\n",
        "    .......\n",
        "\"\"\""
      ],
      "execution_count": null,
      "outputs": []
    },
    {
      "cell_type": "code",
      "metadata": {
        "colab": {
          "base_uri": "https://localhost:8080/"
        },
        "id": "q5UFiAdd-8QG",
        "outputId": "619bcd9d-f367-4928-83f8-ce9bd283d0c1"
      },
      "source": [
        "# Example 1:\n",
        "\n",
        "print(\"hello world\")\n",
        "\n",
        "try:\n",
        "    print(name)\n",
        "except:\n",
        "    print(\"Name variable is not defined\")\n",
        "      \n",
        "print('Welcome to exception handling')\n",
        "print('Thank you')"
      ],
      "execution_count": null,
      "outputs": [
        {
          "output_type": "stream",
          "text": [
            "hello world\n",
            "Name variable is not defined\n",
            "Welcome to exception handling\n",
            "Thank you\n"
          ],
          "name": "stdout"
        }
      ]
    },
    {
      "cell_type": "code",
      "metadata": {
        "id": "jFzGZ3bI_tZ_",
        "colab": {
          "base_uri": "https://localhost:8080/",
          "height": 214
        },
        "outputId": "420b290a-2507-4a85-b620-b99196f0e2ac"
      },
      "source": [
        "# Example 2:    # Without try and except\n",
        "\n",
        "list1 = [1,2,3,4,5]\n",
        "index=7\n",
        "elem = list1[index]\n",
        "print('element = ',elem)"
      ],
      "execution_count": null,
      "outputs": [
        {
          "output_type": "error",
          "ename": "IndexError",
          "evalue": "ignored",
          "traceback": [
            "\u001b[0;31m---------------------------------------------------------------------------\u001b[0m",
            "\u001b[0;31mIndexError\u001b[0m                                Traceback (most recent call last)",
            "\u001b[0;32m<ipython-input-17-25809976cc76>\u001b[0m in \u001b[0;36m<module>\u001b[0;34m()\u001b[0m\n\u001b[1;32m      3\u001b[0m \u001b[0mlist1\u001b[0m \u001b[0;34m=\u001b[0m \u001b[0;34m[\u001b[0m\u001b[0;36m1\u001b[0m\u001b[0;34m,\u001b[0m\u001b[0;36m2\u001b[0m\u001b[0;34m,\u001b[0m\u001b[0;36m3\u001b[0m\u001b[0;34m,\u001b[0m\u001b[0;36m4\u001b[0m\u001b[0;34m,\u001b[0m\u001b[0;36m5\u001b[0m\u001b[0;34m]\u001b[0m\u001b[0;34m\u001b[0m\u001b[0;34m\u001b[0m\u001b[0m\n\u001b[1;32m      4\u001b[0m \u001b[0mindex\u001b[0m\u001b[0;34m=\u001b[0m\u001b[0;36m7\u001b[0m\u001b[0;34m\u001b[0m\u001b[0;34m\u001b[0m\u001b[0m\n\u001b[0;32m----> 5\u001b[0;31m \u001b[0melem\u001b[0m \u001b[0;34m=\u001b[0m \u001b[0mlist1\u001b[0m\u001b[0;34m[\u001b[0m\u001b[0mindex\u001b[0m\u001b[0;34m]\u001b[0m\u001b[0;34m\u001b[0m\u001b[0;34m\u001b[0m\u001b[0m\n\u001b[0m\u001b[1;32m      6\u001b[0m \u001b[0mprint\u001b[0m\u001b[0;34m(\u001b[0m\u001b[0;34m'element = '\u001b[0m\u001b[0;34m,\u001b[0m\u001b[0melem\u001b[0m\u001b[0;34m)\u001b[0m\u001b[0;34m\u001b[0m\u001b[0;34m\u001b[0m\u001b[0m\n",
            "\u001b[0;31mIndexError\u001b[0m: list index out of range"
          ]
        }
      ]
    },
    {
      "cell_type": "code",
      "metadata": {
        "id": "rRC1Rm9MAuE2",
        "colab": {
          "base_uri": "https://localhost:8080/"
        },
        "outputId": "81bb383e-3c1b-42ab-c07e-78ba2003fe9a"
      },
      "source": [
        "#with try except\n",
        "try:\n",
        "    index = 7\n",
        "    elem = list1[index]\n",
        "    print('element = ',elem)\n",
        "except:\n",
        "    print('Invalid index')"
      ],
      "execution_count": null,
      "outputs": [
        {
          "output_type": "stream",
          "text": [
            "Invalid index\n"
          ],
          "name": "stdout"
        }
      ]
    },
    {
      "cell_type": "markdown",
      "metadata": {
        "id": "TVN35cv0BDJp"
      },
      "source": [
        "\n",
        "**finally**:\n",
        "\n",
        "No matter if the exception occurs or not this block will compulsorily get executed"
      ]
    },
    {
      "cell_type": "code",
      "metadata": {
        "id": "XJBLr4z-BCe-"
      },
      "source": [
        "\"\"\"\n",
        "syntax ---->\n",
        "\n",
        "try:\n",
        "    statement1\n",
        "    statement2\n",
        "    .......\n",
        "except:\n",
        "    statement1\n",
        "    statement2\n",
        "    .......\n",
        "finally:\n",
        "    statement1\n",
        "    statement2\n",
        "    .......\n",
        "\"\"\""
      ],
      "execution_count": null,
      "outputs": []
    },
    {
      "cell_type": "code",
      "metadata": {
        "id": "WvCgcbMXBUDJ",
        "colab": {
          "base_uri": "https://localhost:8080/"
        },
        "outputId": "138e7b46-a90d-45af-94dc-ae0101dfc294"
      },
      "source": [
        "#Example 3:\n",
        "\n",
        "try:\n",
        "    index = 7\n",
        "    elem = list1[index]\n",
        "    print('element = ',elem)\n",
        "except:\n",
        "    print('Invalid index')\n",
        "finally:\n",
        "    print(\"End of program\")"
      ],
      "execution_count": null,
      "outputs": [
        {
          "output_type": "stream",
          "text": [
            "Invalid index\n",
            "End of program\n"
          ],
          "name": "stdout"
        }
      ]
    },
    {
      "cell_type": "markdown",
      "metadata": {
        "id": "VW1luGP4BjG-"
      },
      "source": [
        "**else:**\n",
        "\n",
        "You can also use else block along with try except\n",
        "\n",
        "else block will get execute only if there is no exception\n",
        "\n",
        "it should be placed after the except block and before the finally block"
      ]
    },
    {
      "cell_type": "code",
      "metadata": {
        "id": "Wi85sCMNBmBQ"
      },
      "source": [
        "\n",
        "\"\"\"\n",
        "syntax ---->\n",
        "\n",
        "try:\n",
        "    statement1\n",
        "    statement2\n",
        "    .......\n",
        "except:\n",
        "    statement1\n",
        "    statement2\n",
        "    .......\n",
        "else:\n",
        "    statement1\n",
        "    statement2\n",
        "    .......\n",
        "finally:\n",
        "    statement1\n",
        "    statement2\n",
        "    .......\n",
        "\"\"\""
      ],
      "execution_count": null,
      "outputs": []
    },
    {
      "cell_type": "code",
      "metadata": {
        "id": "DOmBnIP3BzzI",
        "colab": {
          "base_uri": "https://localhost:8080/"
        },
        "outputId": "2b332c50-a0e8-4789-f6df-feed0ceaf39e"
      },
      "source": [
        "# Example 4:\n",
        "\n",
        "try:\n",
        "    index = 7\n",
        "    elem = list1[index]\n",
        "    print('element = ',elem)\n",
        "except:\n",
        "    print('Invalid index')\n",
        "else:\n",
        "    print('No exception')\n",
        "finally:\n",
        "    print(\"End of program\")"
      ],
      "execution_count": null,
      "outputs": [
        {
          "output_type": "stream",
          "text": [
            "Invalid index\n",
            "End of program\n"
          ],
          "name": "stdout"
        }
      ]
    },
    {
      "cell_type": "markdown",
      "metadata": {
        "id": "LZa_am5yEAdf"
      },
      "source": [
        "**Excepting multiple errors**"
      ]
    },
    {
      "cell_type": "markdown",
      "metadata": {
        "id": "fCBCNfWwEES9"
      },
      "source": [
        "Example:1 Dividing two numbers without try except blocks"
      ]
    },
    {
      "cell_type": "code",
      "metadata": {
        "id": "ZPF6E377GPbC",
        "colab": {
          "base_uri": "https://localhost:8080/",
          "height": 282
        },
        "outputId": "e80b9934-0fc3-4966-f7f1-6d3a07b51bb8"
      },
      "source": [
        "print(\"start of the program\")\n",
        "\n",
        "num1 = int(input(\"Enter the numerator : \"))\n",
        "num2 = int(input(\"Enter the denominator : \"))\n",
        "\n",
        "print('Numerator = {} , Denominator = {}'.format(num1,num2))\n",
        "\n",
        "result = num1/num2\n",
        "\n",
        "print(\"result = \",result)\n",
        "print(\"End of program\")"
      ],
      "execution_count": null,
      "outputs": [
        {
          "output_type": "stream",
          "text": [
            "start of the program\n",
            "Enter the numerator : 10\n",
            "Enter the denominator : abc\n"
          ],
          "name": "stdout"
        },
        {
          "output_type": "error",
          "ename": "ValueError",
          "evalue": "ignored",
          "traceback": [
            "\u001b[0;31m---------------------------------------------------------------------------\u001b[0m",
            "\u001b[0;31mValueError\u001b[0m                                Traceback (most recent call last)",
            "\u001b[0;32m<ipython-input-22-8c5a2eeaafcf>\u001b[0m in \u001b[0;36m<module>\u001b[0;34m()\u001b[0m\n\u001b[1;32m      2\u001b[0m \u001b[0;34m\u001b[0m\u001b[0m\n\u001b[1;32m      3\u001b[0m \u001b[0mnum1\u001b[0m \u001b[0;34m=\u001b[0m \u001b[0mint\u001b[0m\u001b[0;34m(\u001b[0m\u001b[0minput\u001b[0m\u001b[0;34m(\u001b[0m\u001b[0;34m\"Enter the numerator : \"\u001b[0m\u001b[0;34m)\u001b[0m\u001b[0;34m)\u001b[0m\u001b[0;34m\u001b[0m\u001b[0;34m\u001b[0m\u001b[0m\n\u001b[0;32m----> 4\u001b[0;31m \u001b[0mnum2\u001b[0m \u001b[0;34m=\u001b[0m \u001b[0mint\u001b[0m\u001b[0;34m(\u001b[0m\u001b[0minput\u001b[0m\u001b[0;34m(\u001b[0m\u001b[0;34m\"Enter the denominator : \"\u001b[0m\u001b[0;34m)\u001b[0m\u001b[0;34m)\u001b[0m\u001b[0;34m\u001b[0m\u001b[0;34m\u001b[0m\u001b[0m\n\u001b[0m\u001b[1;32m      5\u001b[0m \u001b[0;34m\u001b[0m\u001b[0m\n\u001b[1;32m      6\u001b[0m \u001b[0mprint\u001b[0m\u001b[0;34m(\u001b[0m\u001b[0;34m'Numerator = {} , Denominator = {}'\u001b[0m\u001b[0;34m.\u001b[0m\u001b[0mformat\u001b[0m\u001b[0;34m(\u001b[0m\u001b[0mnum1\u001b[0m\u001b[0;34m,\u001b[0m\u001b[0mnum2\u001b[0m\u001b[0;34m)\u001b[0m\u001b[0;34m)\u001b[0m\u001b[0;34m\u001b[0m\u001b[0;34m\u001b[0m\u001b[0m\n",
            "\u001b[0;31mValueError\u001b[0m: invalid literal for int() with base 10: 'abc'"
          ]
        }
      ]
    },
    {
      "cell_type": "markdown",
      "metadata": {
        "id": "86L9GHenGgfI"
      },
      "source": [
        "Example 2: Dividing two numbers with only one except block"
      ]
    },
    {
      "cell_type": "code",
      "metadata": {
        "id": "GJgUcQSkGakR",
        "colab": {
          "base_uri": "https://localhost:8080/"
        },
        "outputId": "acac1dd0-3ec5-40a9-b9e3-b9cf8d97c5cf"
      },
      "source": [
        "print(\"start of the program\")\n",
        "\n",
        "try:\n",
        "    num1 = int(input(\"Enter the numerator : \"))\n",
        "    num2 = int(input(\"Enter the denominator : \"))\n",
        "\n",
        "    print('Numerator = {} , Denominator = {}'.format(num1,num2))\n",
        "\n",
        "    result = num1/num2\n",
        "    print(\"result = \",result)\n",
        "except:\n",
        "    print(\"Something went wrong\")\n",
        "finally:\n",
        "    print(\"End of program\")"
      ],
      "execution_count": null,
      "outputs": [
        {
          "output_type": "stream",
          "text": [
            "start of the program\n",
            "Enter the numerator : 10\n",
            "Enter the denominator : abc\n",
            "Something went wrong\n",
            "End of program\n"
          ],
          "name": "stdout"
        }
      ]
    },
    {
      "cell_type": "markdown",
      "metadata": {
        "id": "7ipXnZOjHPoZ"
      },
      "source": [
        " Example 3: Dividing two numbers with multiple except blocks"
      ]
    },
    {
      "cell_type": "code",
      "metadata": {
        "id": "p7ECqsqPHJ9q"
      },
      "source": [
        "\n",
        "\"\"\"\n",
        "syntax for excepting multiple exceptions\n",
        "\n",
        "try:\n",
        "    statement1\n",
        "    .......\n",
        "except Exception1:\n",
        "    statement1\n",
        "    .......\n",
        "except Exception2:\n",
        "    statement1\n",
        "    .......\n",
        "except:\n",
        "    statement1\n",
        "    .......\n",
        "\n",
        "\"\"\""
      ],
      "execution_count": null,
      "outputs": []
    },
    {
      "cell_type": "code",
      "metadata": {
        "id": "JAjXRnI-HWwo"
      },
      "source": [
        "print(\"start of the program\")\n",
        "\n",
        "try:\n",
        "    num1 = int(input(\"Enter the numerator : \"))\n",
        "    num2 = int(input(\"Enter the denominator : \"))\n",
        "\n",
        "    print('Numerator = {} , Denominator = {}'.format(num1,num2))\n",
        "\n",
        "    result = num1/num2\n",
        "    print(\"result = \",result)\n",
        "    \n",
        "except ZeroDivisionError:\n",
        "    print(\"Enter a non-zero denominator\")\n",
        "    \n",
        "except ValueError:\n",
        "    print(\"Please enter the numbers only\")\n",
        "    \n",
        "except:\n",
        "    print(\"Something went wrong\")\n",
        "    \n",
        "finally:\n",
        "    print(\"End of program\")"
      ],
      "execution_count": null,
      "outputs": []
    }
  ]
}