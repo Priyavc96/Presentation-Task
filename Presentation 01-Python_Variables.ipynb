{
  "nbformat": 4,
  "nbformat_minor": 0,
  "metadata": {
    "colab": {
      "name": "Python Variables.ipynb",
      "provenance": []
    },
    "kernelspec": {
      "name": "python3",
      "display_name": "Python 3"
    },
    "language_info": {
      "name": "python"
    }
  },
  "cells": [
    {
      "cell_type": "markdown",
      "metadata": {
        "id": "JRKCXYGb3y3o"
      },
      "source": [
        "###Python Variables\n",
        "Variables are use to store values of different data type.\n",
        "\n",
        "In python there is no need to declare the type of variable."
      ]
    },
    {
      "cell_type": "code",
      "metadata": {
        "id": "V2glel4p3sNG"
      },
      "source": [
        "#Example:\n",
        "x= 10\n",
        "y= \"Sara\"\n",
        "z= 0.5"
      ],
      "execution_count": null,
      "outputs": []
    },
    {
      "cell_type": "markdown",
      "metadata": {
        "id": "4EJQ4GPc5MGE"
      },
      "source": [
        "**Convention for naming variables**\n",
        "\n",
        "A variable name can only contain alpha-numeric characters and underscores (A-z, 0-9, and _ )\n",
        "\n",
        "A variable name cannot start with a number\n",
        "\n",
        "A variable name must start with a letter or the underscore character\n",
        "\n"
      ]
    },
    {
      "cell_type": "code",
      "metadata": {
        "id": "u484rLbA5xSe"
      },
      "source": [
        "Valid variables:\n",
        "\n",
        "str1='apple'\n",
        "STR='apple'\n",
        "_str1='apple'\n",
        "_str_2= 'apple'\n"
      ],
      "execution_count": null,
      "outputs": []
    },
    {
      "cell_type": "code",
      "metadata": {
        "id": "DAieqzky6-SD"
      },
      "source": [
        "Invalid variable\n",
        "2str='apple'      # starting with number\n",
        "str-23='apple'    # hyphen is not allowed  \n",
        "str 23='apple'    # space in between is not allowed"
      ],
      "execution_count": null,
      "outputs": []
    },
    {
      "cell_type": "markdown",
      "metadata": {
        "id": "OtSqTPOL70nS"
      },
      "source": [
        "**Python print() Function**\n"
      ]
    },
    {
      "cell_type": "code",
      "metadata": {
        "id": "ZS8X_VtC7_5N",
        "colab": {
          "base_uri": "https://localhost:8080/"
        },
        "outputId": "5c04823d-12f2-4206-d956-e8ff659d34f9"
      },
      "source": [
        "print(\"hello world\")"
      ],
      "execution_count": null,
      "outputs": [
        {
          "output_type": "stream",
          "text": [
            "hello world\n"
          ],
          "name": "stdout"
        }
      ]
    },
    {
      "cell_type": "code",
      "metadata": {
        "id": "tOgxH4Kh8W1q",
        "colab": {
          "base_uri": "https://localhost:8080/"
        },
        "outputId": "eff68371-e91e-4294-9c15-7bd4d91be77a"
      },
      "source": [
        "a=\"tom\"\n",
        "print(a)"
      ],
      "execution_count": null,
      "outputs": [
        {
          "output_type": "stream",
          "text": [
            "tom\n"
          ],
          "name": "stdout"
        }
      ]
    },
    {
      "cell_type": "code",
      "metadata": {
        "id": "q3S8vi0o8b_T",
        "colab": {
          "base_uri": "https://localhost:8080/"
        },
        "outputId": "e8dcdc5c-796c-47f3-bd99-8940a117c7b1"
      },
      "source": [
        "first_name = 'Riya'\n",
        "last_name = 'Sharma'\n",
        "\n",
        "print(first_name)\n",
        "print(last_name)\n"
      ],
      "execution_count": null,
      "outputs": [
        {
          "output_type": "stream",
          "text": [
            "Riya\n",
            "Sharma\n"
          ],
          "name": "stdout"
        }
      ]
    },
    {
      "cell_type": "code",
      "metadata": {
        "id": "JZAllybY87lq",
        "colab": {
          "base_uri": "https://localhost:8080/"
        },
        "outputId": "bd984d87-e2ee-4fd7-df52-2522cd5a6d5f"
      },
      "source": [
        "# You can specify the end parameter\n",
        "print(first_name,end = '-')\n",
        "print(last_name)"
      ],
      "execution_count": null,
      "outputs": [
        {
          "output_type": "stream",
          "text": [
            "Riya-Sharma\n"
          ],
          "name": "stdout"
        }
      ]
    },
    {
      "cell_type": "code",
      "metadata": {
        "colab": {
          "base_uri": "https://localhost:8080/"
        },
        "id": "5pZ2MAHT9P0b",
        "outputId": "d3e67b94-f270-408f-b8e8-3fbb4bff78ed"
      },
      "source": [
        "fruit = 'Apple'\n",
        "print(\"I have an \"+fruit)"
      ],
      "execution_count": null,
      "outputs": [
        {
          "output_type": "stream",
          "text": [
            "I have an Apple\n"
          ],
          "name": "stdout"
        }
      ]
    },
    {
      "cell_type": "code",
      "metadata": {
        "colab": {
          "base_uri": "https://localhost:8080/"
        },
        "id": "prFn2WVI9uZS",
        "outputId": "b089ca84-0cff-4407-ff27-60a4291173e9"
      },
      "source": [
        "#print format()\n",
        "fruit1 = 'Apple'\n",
        "fruit2 = 'Banana'\n",
        "print(\" I have 2 fruits, one is {} other one is {}\".format(fruit1,fruit2))"
      ],
      "execution_count": null,
      "outputs": [
        {
          "output_type": "stream",
          "text": [
            " I have 2 fruits, one is Apple other one is Banana\n"
          ],
          "name": "stdout"
        }
      ]
    },
    {
      "cell_type": "markdown",
      "metadata": {
        "id": "63mTok83-EM9"
      },
      "source": [
        "**Python Comments**"
      ]
    },
    {
      "cell_type": "code",
      "metadata": {
        "id": "C_S3kx8J-KKb",
        "colab": {
          "base_uri": "https://localhost:8080/"
        },
        "outputId": "e5c43be1-519e-4715-a274-c51ea211dc0e"
      },
      "source": [
        "#This is a comment                '#' is used for single line comment. Python will ignore the lines starting with '#'\n",
        "\n",
        "print('hello world')                \n",
        "\n"
      ],
      "execution_count": null,
      "outputs": [
        {
          "output_type": "stream",
          "text": [
            "hello world\n"
          ],
          "name": "stdout"
        }
      ]
    },
    {
      "cell_type": "code",
      "metadata": {
        "colab": {
          "base_uri": "https://localhost:8080/"
        },
        "id": "q5mSs7fN-z4d",
        "outputId": "103cf154-df5b-429a-829b-8c973de12862"
      },
      "source": [
        "#Multi line code       \"\"\" .... \"\"\" is used to comment multiple lines of code\n",
        "\"\"\" This is a multiline comment you can use single or double quotes at the start and end of the sentence\"\"\"\n",
        "print(\"Hello There...!!\")"
      ],
      "execution_count": null,
      "outputs": [
        {
          "output_type": "stream",
          "text": [
            "Hello There...!!\n"
          ],
          "name": "stdout"
        }
      ]
    },
    {
      "cell_type": "markdown",
      "metadata": {
        "id": "FohfKKuiBkEE"
      },
      "source": [
        "##Input Function\n",
        "Input function is use to take input form the user.\n",
        "\n",
        "Input function takes input in string format by default.\n",
        "\n",
        "If you are taking integer input from user then make sure to convert input into integer format\n"
      ]
    },
    {
      "cell_type": "code",
      "metadata": {
        "colab": {
          "base_uri": "https://localhost:8080/"
        },
        "id": "bMUiU0TgCIKF",
        "outputId": "9eded3d1-713e-43d6-f825-5581c4481294"
      },
      "source": [
        "num1 = input(\"Enter the number\")\n",
        "print(num1)\n",
        "type(num1) "
      ],
      "execution_count": null,
      "outputs": [
        {
          "output_type": "stream",
          "text": [
            "Enter the number10\n",
            "10\n"
          ],
          "name": "stdout"
        },
        {
          "output_type": "execute_result",
          "data": {
            "text/plain": [
              "str"
            ]
          },
          "metadata": {
            "tags": []
          },
          "execution_count": 12
        }
      ]
    },
    {
      "cell_type": "code",
      "metadata": {
        "colab": {
          "base_uri": "https://localhost:8080/"
        },
        "id": "OFWMfw3iCYlM",
        "outputId": "d42e83f7-c923-4ac8-c821-79e08a3daeb0"
      },
      "source": [
        "num2 = int(input(\"Enter the number\"))\n",
        "print(num2)\n",
        "type(num2)"
      ],
      "execution_count": null,
      "outputs": [
        {
          "output_type": "stream",
          "text": [
            "Enter the number5\n",
            "5\n"
          ],
          "name": "stdout"
        },
        {
          "output_type": "execute_result",
          "data": {
            "text/plain": [
              "int"
            ]
          },
          "metadata": {
            "tags": []
          },
          "execution_count": 14
        }
      ]
    }
  ]
}
