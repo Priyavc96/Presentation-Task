{
  "nbformat": 4,
  "nbformat_minor": 0,
  "metadata": {
    "colab": {
      "name": "Presentation_19 Numpy1.ipynb",
      "provenance": [],
      "collapsed_sections": []
    },
    "kernelspec": {
      "name": "python3",
      "display_name": "Python 3"
    },
    "language_info": {
      "name": "python"
    }
  },
  "cells": [
    {
      "cell_type": "markdown",
      "metadata": {
        "id": "jPqOy8h4_8T5"
      },
      "source": [
        "**NumPy Basics**\n",
        "\n",
        "NumPy stands for Numerical Python and also known as array oriented computing.\n",
        "\n",
        "NumPy is a library written for scientific computing and data analysis.\n",
        "\n",
        "NumPy consists of a powerful data structure called multidimensional arrays.\n",
        "\n",
        "The most basic object in Numpy is the ndarray, or simply an array which is an n-dimensional, homogeneous array. By homogenous, we mean that all the elements in a NumPy array have to be of the same data type, which is commonly numeric (float or integer)."
      ]
    },
    {
      "cell_type": "markdown",
      "metadata": {
        "id": "IAxx4EI-A-8U"
      },
      "source": [
        "**Why NumPy**\n",
        "\n",
        "convenience & speed\n",
        "\n",
        "NumPy is much faster than the standard python ways to do computations.\n",
        "\n",
        "We don't have to do the explicit looping and indexing etc. (all of this happens behind the scenes, in precompiled C-code), and thus it is much more concise.\n",
        "\n",
        "NumPy arrays are more compact than lists, i.e. they take much lesser storage space than lists"
      ]
    },
    {
      "cell_type": "markdown",
      "metadata": {
        "id": "rxozMCOGBttv"
      },
      "source": [
        "**Importing NumPy library**"
      ]
    },
    {
      "cell_type": "code",
      "metadata": {
        "id": "oQYKK2fausKI"
      },
      "source": [
        "import numpy as np"
      ],
      "execution_count": null,
      "outputs": []
    },
    {
      "cell_type": "markdown",
      "metadata": {
        "id": "uA01HaCbCtCB"
      },
      "source": [
        "**Creating array using .array() method**\n"
      ]
    },
    {
      "cell_type": "code",
      "metadata": {
        "id": "AQ65sH12CzzN",
        "colab": {
          "base_uri": "https://localhost:8080/"
        },
        "outputId": "f6421989-5539-4816-8d81-df0b02c935c1"
      },
      "source": [
        "var=np.array([1,4,9,16,25,36])     \n",
        "print(var)"
      ],
      "execution_count": null,
      "outputs": [
        {
          "output_type": "stream",
          "text": [
            "[ 1  4  9 16 25 36]\n"
          ],
          "name": "stdout"
        }
      ]
    },
    {
      "cell_type": "code",
      "metadata": {
        "id": "NVA3M0HID5GX",
        "colab": {
          "base_uri": "https://localhost:8080/"
        },
        "outputId": "1c9866ce-bf97-4a57-975c-6da936f537f1"
      },
      "source": [
        "# to check the type of var\n",
        "type(var)"
      ],
      "execution_count": null,
      "outputs": [
        {
          "output_type": "execute_result",
          "data": {
            "text/plain": [
              "numpy.ndarray"
            ]
          },
          "metadata": {
            "tags": []
          },
          "execution_count": 3
        }
      ]
    },
    {
      "cell_type": "code",
      "metadata": {
        "id": "I8Joya2NEBaW",
        "colab": {
          "base_uri": "https://localhost:8080/"
        },
        "outputId": "a2e67859-f21b-4bf5-ac92-48647c517931"
      },
      "source": [
        "# to get the dimension\n",
        "var.shape"
      ],
      "execution_count": null,
      "outputs": [
        {
          "output_type": "execute_result",
          "data": {
            "text/plain": [
              "(6,)"
            ]
          },
          "metadata": {
            "tags": []
          },
          "execution_count": 4
        }
      ]
    },
    {
      "cell_type": "code",
      "metadata": {
        "id": "jrm1aGM5EMPu",
        "colab": {
          "base_uri": "https://localhost:8080/"
        },
        "outputId": "40be401c-588b-4c43-bd11-94ff758c413d"
      },
      "source": [
        "# to get the datatypes of array elements\n",
        "var.dtype"
      ],
      "execution_count": null,
      "outputs": [
        {
          "output_type": "execute_result",
          "data": {
            "text/plain": [
              "dtype('int64')"
            ]
          },
          "metadata": {
            "tags": []
          },
          "execution_count": 5
        }
      ]
    },
    {
      "cell_type": "markdown",
      "metadata": {
        "id": "Rr3ZSK18FUZY"
      },
      "source": [
        "**Indexing**"
      ]
    },
    {
      "cell_type": "code",
      "metadata": {
        "id": "vwWnOL3fIPYg",
        "colab": {
          "base_uri": "https://localhost:8080/"
        },
        "outputId": "56d51f48-7ad9-4367-ca5c-2efe314cbed9"
      },
      "source": [
        "a= np.array([[1, 2, 3], [4, 5, 6], [6, 7, 8]])\n",
        "print(a)\n",
        "print(a.shape)\n",
        "print(a.dtype)"
      ],
      "execution_count": null,
      "outputs": [
        {
          "output_type": "stream",
          "text": [
            "[[1 2 3]\n",
            " [4 5 6]\n",
            " [6 7 8]]\n",
            "(3, 3)\n",
            "int64\n"
          ],
          "name": "stdout"
        }
      ]
    },
    {
      "cell_type": "code",
      "metadata": {
        "id": "AunnAWQCKdsO",
        "colab": {
          "base_uri": "https://localhost:8080/"
        },
        "outputId": "84f82a12-70a2-492a-e58b-bdd274dc7986"
      },
      "source": [
        "print(a[1,2])"
      ],
      "execution_count": null,
      "outputs": [
        {
          "output_type": "stream",
          "text": [
            "6\n"
          ],
          "name": "stdout"
        }
      ]
    },
    {
      "cell_type": "code",
      "metadata": {
        "id": "ONkFrc62N5dT",
        "colab": {
          "base_uri": "https://localhost:8080/"
        },
        "outputId": "5fda53c3-be3e-436e-9138-49ba11809dc7"
      },
      "source": [
        "print(a[0,0])"
      ],
      "execution_count": null,
      "outputs": [
        {
          "output_type": "stream",
          "text": [
            "1\n"
          ],
          "name": "stdout"
        }
      ]
    },
    {
      "cell_type": "code",
      "metadata": {
        "id": "aLJ44YRWUyrH",
        "colab": {
          "base_uri": "https://localhost:8080/"
        },
        "outputId": "9820c2c0-5ece-4972-cdba-7f2a3a57d6a9"
      },
      "source": [
        "print(a[-1])"
      ],
      "execution_count": null,
      "outputs": [
        {
          "output_type": "stream",
          "text": [
            "[6 7 8]\n"
          ],
          "name": "stdout"
        }
      ]
    },
    {
      "cell_type": "markdown",
      "metadata": {
        "id": "5-GbPuHtVzVR"
      },
      "source": [
        "**Slicing**"
      ]
    },
    {
      "cell_type": "code",
      "metadata": {
        "id": "473GVIHxV17Y",
        "colab": {
          "base_uri": "https://localhost:8080/"
        },
        "outputId": "49302038-7fc6-4915-a32c-50c1de716ead"
      },
      "source": [
        "print(a[1:])"
      ],
      "execution_count": null,
      "outputs": [
        {
          "output_type": "stream",
          "text": [
            "[[4 5 6]\n",
            " [6 7 8]]\n"
          ],
          "name": "stdout"
        }
      ]
    },
    {
      "cell_type": "code",
      "metadata": {
        "id": "i5OH3V2dWAB4",
        "colab": {
          "base_uri": "https://localhost:8080/"
        },
        "outputId": "3419d815-ef68-46ba-8a1c-c66c3cc49211"
      },
      "source": [
        "print(a[0::2])"
      ],
      "execution_count": null,
      "outputs": [
        {
          "output_type": "stream",
          "text": [
            "[[1 2 3]\n",
            " [6 7 8]]\n"
          ],
          "name": "stdout"
        }
      ]
    },
    {
      "cell_type": "markdown",
      "metadata": {
        "id": "lnRUy9TkWjYw"
      },
      "source": [
        "**Numpy will do elementwise calculations**\n"
      ]
    },
    {
      "cell_type": "code",
      "metadata": {
        "id": "1hQivkjbXJkJ",
        "colab": {
          "base_uri": "https://localhost:8080/"
        },
        "outputId": "eabe1262-40e3-4120-9546-19d234b35044"
      },
      "source": [
        "# arange() is similar to range()\n",
        "np_arr1 = np.arange(10)\n",
        "np_arr1"
      ],
      "execution_count": null,
      "outputs": [
        {
          "output_type": "execute_result",
          "data": {
            "text/plain": [
              "array([0, 1, 2, 3, 4, 5, 6, 7, 8, 9])"
            ]
          },
          "metadata": {
            "tags": []
          },
          "execution_count": 12
        }
      ]
    },
    {
      "cell_type": "code",
      "metadata": {
        "id": "aqtdno2xXLXp",
        "colab": {
          "base_uri": "https://localhost:8080/"
        },
        "outputId": "4e9e4feb-437e-45c6-f33e-10c840aed569"
      },
      "source": [
        "np_arr2 = np_arr1 + 2\n",
        "np_arr2"
      ],
      "execution_count": null,
      "outputs": [
        {
          "output_type": "execute_result",
          "data": {
            "text/plain": [
              "array([ 2,  3,  4,  5,  6,  7,  8,  9, 10, 11])"
            ]
          },
          "metadata": {
            "tags": []
          },
          "execution_count": 13
        }
      ]
    },
    {
      "cell_type": "markdown",
      "metadata": {
        "id": "3ixq8oMcXU3o"
      },
      "source": [
        "**Performance Measurement**\n",
        "\n",
        "%timeit is an python function, which can be used to check the time taken by a particular piece of code (A single execution statement, or a single method)\n",
        "\n"
      ]
    },
    {
      "cell_type": "code",
      "metadata": {
        "id": "8jFmryhPXYkZ",
        "colab": {
          "base_uri": "https://localhost:8080/"
        },
        "outputId": "d944de2f-5262-46ae-bc20-884848643986"
      },
      "source": [
        "#Time taken by the normal lists to do a task\n",
        "%timeit [i**3 for i in range(10000)]"
      ],
      "execution_count": null,
      "outputs": [
        {
          "output_type": "stream",
          "text": [
            "100 loops, best of 5: 2.94 ms per loop\n"
          ],
          "name": "stdout"
        }
      ]
    },
    {
      "cell_type": "markdown",
      "metadata": {
        "id": "1QduX9_xr6_k"
      },
      "source": [
        ""
      ]
    },
    {
      "cell_type": "code",
      "metadata": {
        "id": "dUowuO-mYBuo",
        "colab": {
          "base_uri": "https://localhost:8080/"
        },
        "outputId": "f32308b8-41e5-47e1-8e1d-5ec67a2db8b6"
      },
      "source": [
        "#Time taken by Numpy arrays to do the same task\n",
        "%timeit np.arange(10000)**3"
      ],
      "execution_count": null,
      "outputs": [
        {
          "output_type": "stream",
          "text": [
            "The slowest run took 19.18 times longer than the fastest. This could mean that an intermediate result is being cached.\n",
            "10000 loops, best of 5: 32.2 µs per loop\n"
          ],
          "name": "stdout"
        }
      ]
    },
    {
      "cell_type": "markdown",
      "metadata": {
        "id": "eo7ojPvHZzrh"
      },
      "source": [
        "**Creating numpy arrays**"
      ]
    },
    {
      "cell_type": "code",
      "metadata": {
        "id": "YO6VBW8dZ7Cz",
        "colab": {
          "base_uri": "https://localhost:8080/"
        },
        "outputId": "61fee8d6-2452-4eaf-83ad-89cd363de4d7"
      },
      "source": [
        "#np.zeros(shape)\n",
        "np.zeros((3,3))"
      ],
      "execution_count": null,
      "outputs": [
        {
          "output_type": "execute_result",
          "data": {
            "text/plain": [
              "array([[0., 0., 0.],\n",
              "       [0., 0., 0.],\n",
              "       [0., 0., 0.]])"
            ]
          },
          "metadata": {
            "tags": []
          },
          "execution_count": 16
        }
      ]
    },
    {
      "cell_type": "code",
      "metadata": {
        "id": "vKekPeRcaWAj",
        "colab": {
          "base_uri": "https://localhost:8080/"
        },
        "outputId": "385e4c0f-0c09-4678-e4fc-a2deb06c9206"
      },
      "source": [
        "#np.zeros_like(ndarray)\n",
        "a = np.array([[2, 3], [2, 4], [8, 9]])\n",
        "print(a)\n",
        "print(a.shape)"
      ],
      "execution_count": null,
      "outputs": [
        {
          "output_type": "stream",
          "text": [
            "[[2 3]\n",
            " [2 4]\n",
            " [8 9]]\n",
            "(3, 2)\n"
          ],
          "name": "stdout"
        }
      ]
    },
    {
      "cell_type": "code",
      "metadata": {
        "id": "eTs6eebOah0h",
        "colab": {
          "base_uri": "https://localhost:8080/"
        },
        "outputId": "541678de-8164-447f-c2ae-a25ed0a96af9"
      },
      "source": [
        "np.zeros_like(a)\n",
        "print(np.zeros_like(a))\n",
        "print(a.shape)"
      ],
      "execution_count": null,
      "outputs": [
        {
          "output_type": "stream",
          "text": [
            "[[0 0]\n",
            " [0 0]\n",
            " [0 0]]\n",
            "(3, 2)\n"
          ],
          "name": "stdout"
        }
      ]
    },
    {
      "cell_type": "code",
      "metadata": {
        "id": "sqskp21fbEDF",
        "colab": {
          "base_uri": "https://localhost:8080/"
        },
        "outputId": "ccdfa494-4ba7-41e5-e582-cc8b7cc47590"
      },
      "source": [
        "#np.ones(shape)\n",
        "np.ones((3,3))"
      ],
      "execution_count": null,
      "outputs": [
        {
          "output_type": "execute_result",
          "data": {
            "text/plain": [
              "array([[1., 1., 1.],\n",
              "       [1., 1., 1.],\n",
              "       [1., 1., 1.]])"
            ]
          },
          "metadata": {
            "tags": []
          },
          "execution_count": 19
        }
      ]
    },
    {
      "cell_type": "code",
      "metadata": {
        "id": "_Ven2eGPbOKz",
        "colab": {
          "base_uri": "https://localhost:8080/"
        },
        "outputId": "7eb0e769-2b99-477e-c4cc-e9e02e420ce8"
      },
      "source": [
        "#np.ones_like(ndarray)\n",
        "np.ones_like(a)"
      ],
      "execution_count": null,
      "outputs": [
        {
          "output_type": "execute_result",
          "data": {
            "text/plain": [
              "array([[1, 1],\n",
              "       [1, 1],\n",
              "       [1, 1]])"
            ]
          },
          "metadata": {
            "tags": []
          },
          "execution_count": 20
        }
      ]
    },
    {
      "cell_type": "code",
      "metadata": {
        "id": "zkOsMtrLbsuB",
        "colab": {
          "base_uri": "https://localhost:8080/"
        },
        "outputId": "c480a41a-9434-47cc-9a82-5843cb0392f9"
      },
      "source": [
        "#np.full(shape,value)\n",
        "np.full((3,2),2.5)\n"
      ],
      "execution_count": null,
      "outputs": [
        {
          "output_type": "execute_result",
          "data": {
            "text/plain": [
              "array([[2.5, 2.5],\n",
              "       [2.5, 2.5],\n",
              "       [2.5, 2.5]])"
            ]
          },
          "metadata": {
            "tags": []
          },
          "execution_count": 21
        }
      ]
    },
    {
      "cell_type": "code",
      "metadata": {
        "id": "_92LubOdcKrQ",
        "colab": {
          "base_uri": "https://localhost:8080/"
        },
        "outputId": "7237ffa2-1db8-4002-df52-cfd7ec8f63fc"
      },
      "source": [
        "#np.eye(m) : this method is used to create identity matrix , here m = n\n",
        "np.eye(4)\n"
      ],
      "execution_count": null,
      "outputs": [
        {
          "output_type": "execute_result",
          "data": {
            "text/plain": [
              "array([[1., 0., 0., 0.],\n",
              "       [0., 1., 0., 0.],\n",
              "       [0., 0., 1., 0.],\n",
              "       [0., 0., 0., 1.]])"
            ]
          },
          "metadata": {
            "tags": []
          },
          "execution_count": 22
        }
      ]
    },
    {
      "cell_type": "code",
      "metadata": {
        "id": "GnHL_ArfcRXP",
        "colab": {
          "base_uri": "https://localhost:8080/"
        },
        "outputId": "b1cda3d0-8213-4a6d-a1a2-21dd4542d429"
      },
      "source": [
        "#np.diag(list) : is used to create diagonal matrix\n",
        "np.diag([1,2,3,4,5])\n"
      ],
      "execution_count": null,
      "outputs": [
        {
          "output_type": "execute_result",
          "data": {
            "text/plain": [
              "array([[1, 0, 0, 0, 0],\n",
              "       [0, 2, 0, 0, 0],\n",
              "       [0, 0, 3, 0, 0],\n",
              "       [0, 0, 0, 4, 0],\n",
              "       [0, 0, 0, 0, 5]])"
            ]
          },
          "metadata": {
            "tags": []
          },
          "execution_count": 23
        }
      ]
    },
    {
      "cell_type": "markdown",
      "metadata": {
        "id": "zLTIx41WgiZ5"
      },
      "source": [
        "**Copy and View**"
      ]
    },
    {
      "cell_type": "code",
      "metadata": {
        "id": "IpucWORXg8lL",
        "colab": {
          "base_uri": "https://localhost:8080/"
        },
        "outputId": "aec3b1b6-5c1d-48f3-b293-cf881efeca02"
      },
      "source": [
        "A=np.array([\"Netzwerk\", \"Academy\", \"Banglore\", \"Maths\", \"BDS\"])\n",
        "\n",
        "myCopy=A.copy()\n",
        "myview=A.view()\n",
        "\n",
        "A[4]=(\"Python\")\n",
        "\n",
        "print(myCopy)\n",
        "print(myview)"
      ],
      "execution_count": null,
      "outputs": [
        {
          "output_type": "stream",
          "text": [
            "['Netzwerk' 'Academy' 'Banglore' 'Maths' 'BDS']\n",
            "['Netzwerk' 'Academy' 'Banglore' 'Maths' 'Python']\n"
          ],
          "name": "stdout"
        }
      ]
    }
  ]
}