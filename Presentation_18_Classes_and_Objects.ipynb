{
  "nbformat": 4,
  "nbformat_minor": 0,
  "metadata": {
    "colab": {
      "name": "Presentation_18 Classes and Objects.ipynb",
      "provenance": [],
      "collapsed_sections": []
    },
    "kernelspec": {
      "name": "python3",
      "display_name": "Python 3"
    },
    "language_info": {
      "name": "python"
    }
  },
  "cells": [
    {
      "cell_type": "markdown",
      "metadata": {
        "id": "hClPFc74PNqF"
      },
      "source": [
        "**Classes**\n",
        "\n",
        "Like every other Object Oriented Programming language Python also supports classes.\n",
        "\n",
        "Class is like a blueprint or template for creating objects.\n",
        "\n",
        "class keyword is used to create classes in python."
      ]
    },
    {
      "cell_type": "code",
      "metadata": {
        "id": "_YD8GRlAjjcY"
      },
      "source": [
        "\"\"\"\n",
        "syntax ---->\n",
        "\n",
        "class NameOfTheClass:\n",
        "    .......\n",
        "\"\"\"\n"
      ],
      "execution_count": null,
      "outputs": []
    },
    {
      "cell_type": "code",
      "metadata": {
        "id": "oUXEzbGuPwIr"
      },
      "source": [
        "#Ex1) Consider the example\n",
        "class Dog:\n",
        "  pass\n"
      ],
      "execution_count": null,
      "outputs": []
    },
    {
      "cell_type": "markdown",
      "metadata": {
        "id": "ZWurxhCOlPpc"
      },
      "source": [
        "**Object**\n",
        "\n",
        "An object (instance) is an instantiation of a class\n",
        "\n",
        "An object has two characteristics:\n",
        "\n",
        "1) attributes / properties / variables\n",
        "Ex : breed,size,age,color,etc\n",
        "\n",
        "2) behavior / actions / methods\n",
        "Ex : bark(),eat(),sleep() etc"
      ]
    },
    {
      "cell_type": "code",
      "metadata": {
        "id": "nPQf1-rmU2--"
      },
      "source": [
        "#creating object of class Dog\n",
        "dog_obj = Dog()\n"
      ],
      "execution_count": null,
      "outputs": []
    },
    {
      "cell_type": "markdown",
      "metadata": {
        "id": "oQbMhf8TlqPh"
      },
      "source": [
        "**The __init__() Function**\n",
        "\n",
        "All classes have a function called __init__(), which is always executed when the class is being initiated.\n",
        "\n",
        "We use the __init__() function to assign values to object properties, or other operations that are necessary to do when the object is being created\n",
        "\n",
        "The __init__() function is called automatically every time the class is being used to create a new object.\n",
        "\n"
      ]
    },
    {
      "cell_type": "code",
      "metadata": {
        "id": "RCeO51e8U_2h"
      },
      "source": [
        "class Dog:\n",
        "    def __init__(self):\n",
        "        print('Inside init method')"
      ],
      "execution_count": null,
      "outputs": []
    },
    {
      "cell_type": "code",
      "metadata": {
        "id": "ObjnLeA1mNri",
        "colab": {
          "base_uri": "https://localhost:8080/"
        },
        "outputId": "bc394378-4944-4f05-c431-840dbebc3470"
      },
      "source": [
        "dog_obj = Dog()\n"
      ],
      "execution_count": null,
      "outputs": [
        {
          "output_type": "stream",
          "text": [
            "Inside init method\n"
          ],
          "name": "stdout"
        }
      ]
    },
    {
      "cell_type": "markdown",
      "metadata": {
        "id": "zo55cArqmkTC"
      },
      "source": [
        "**Self parameter**\n",
        "\n",
        "The self parameter is a reference to the current instance of the class, and is used to access variables that belongs to the class.\n",
        "\n",
        "\n",
        "\n",
        "\n",
        "\n",
        "\n"
      ]
    },
    {
      "cell_type": "code",
      "metadata": {
        "id": "k_MRxcbkmQL5"
      },
      "source": [
        "class Dog:\n",
        "    def __init__(self,breed,size,age):\n",
        "        self.breed = breed\n",
        "        self.size = size\n",
        "        self.age = age"
      ],
      "execution_count": null,
      "outputs": []
    },
    {
      "cell_type": "code",
      "metadata": {
        "id": "2-n0dHGFnTGR"
      },
      "source": [
        "dog1 = Dog('Pug','small',1)"
      ],
      "execution_count": null,
      "outputs": []
    },
    {
      "cell_type": "code",
      "metadata": {
        "colab": {
          "base_uri": "https://localhost:8080/",
          "height": 35
        },
        "id": "K4o-15w2nZS5",
        "outputId": "13cb04f8-e9fb-460c-bbfa-2c5ca19ee09d"
      },
      "source": [
        "dog1.size"
      ],
      "execution_count": null,
      "outputs": [
        {
          "output_type": "execute_result",
          "data": {
            "application/vnd.google.colaboratory.intrinsic+json": {
              "type": "string"
            },
            "text/plain": [
              "'small'"
            ]
          },
          "metadata": {
            "tags": []
          },
          "execution_count": 18
        }
      ]
    },
    {
      "cell_type": "code",
      "metadata": {
        "colab": {
          "base_uri": "https://localhost:8080/"
        },
        "id": "iddtN1YfnhDs",
        "outputId": "f54b4ed3-99a0-47f2-bfc6-39f2af2297f3"
      },
      "source": [
        "dog1.age"
      ],
      "execution_count": null,
      "outputs": [
        {
          "output_type": "execute_result",
          "data": {
            "text/plain": [
              "1"
            ]
          },
          "metadata": {
            "tags": []
          },
          "execution_count": 19
        }
      ]
    },
    {
      "cell_type": "code",
      "metadata": {
        "colab": {
          "base_uri": "https://localhost:8080/",
          "height": 35
        },
        "id": "kssYMDPDnmMb",
        "outputId": "8c7fab7b-fe9f-437a-c124-f8a138cafb0c"
      },
      "source": [
        "dog1.breed"
      ],
      "execution_count": null,
      "outputs": [
        {
          "output_type": "execute_result",
          "data": {
            "application/vnd.google.colaboratory.intrinsic+json": {
              "type": "string"
            },
            "text/plain": [
              "'Pug'"
            ]
          },
          "metadata": {
            "tags": []
          },
          "execution_count": 20
        }
      ]
    },
    {
      "cell_type": "code",
      "metadata": {
        "id": "d3oFi0AnnpGh"
      },
      "source": [
        "dog2=Dog('Bulldog','medium',3)"
      ],
      "execution_count": null,
      "outputs": []
    },
    {
      "cell_type": "code",
      "metadata": {
        "colab": {
          "base_uri": "https://localhost:8080/",
          "height": 35
        },
        "id": "57ThwwSPn6FJ",
        "outputId": "1e5f8cac-f785-457f-e84e-528889f9e175"
      },
      "source": [
        "dog2.breed"
      ],
      "execution_count": null,
      "outputs": [
        {
          "output_type": "execute_result",
          "data": {
            "application/vnd.google.colaboratory.intrinsic+json": {
              "type": "string"
            },
            "text/plain": [
              "'Bulldog'"
            ]
          },
          "metadata": {
            "tags": []
          },
          "execution_count": 23
        }
      ]
    },
    {
      "cell_type": "code",
      "metadata": {
        "colab": {
          "base_uri": "https://localhost:8080/"
        },
        "id": "X9Wy1Kzbn9JJ",
        "outputId": "c6e45f22-1185-4225-b23a-440a9f46b464"
      },
      "source": [
        "dog2.age"
      ],
      "execution_count": null,
      "outputs": [
        {
          "output_type": "execute_result",
          "data": {
            "text/plain": [
              "3"
            ]
          },
          "metadata": {
            "tags": []
          },
          "execution_count": 24
        }
      ]
    },
    {
      "cell_type": "code",
      "metadata": {
        "colab": {
          "base_uri": "https://localhost:8080/",
          "height": 35
        },
        "id": "-y8OtHZmn-1O",
        "outputId": "c55998c7-b433-4cc8-f811-cc9a9cce4061"
      },
      "source": [
        "dog2.size"
      ],
      "execution_count": null,
      "outputs": [
        {
          "output_type": "execute_result",
          "data": {
            "application/vnd.google.colaboratory.intrinsic+json": {
              "type": "string"
            },
            "text/plain": [
              "'medium'"
            ]
          },
          "metadata": {
            "tags": []
          },
          "execution_count": 25
        }
      ]
    },
    {
      "cell_type": "markdown",
      "metadata": {
        "id": "-5HwfRckoEKj"
      },
      "source": [
        "**Class variable and Instance variable**\n",
        "\n",
        "Class variables are the variables that are common to all the objects.\n",
        "\n",
        "\n",
        "Instance variables are the variables that are specific to the particular objects"
      ]
    },
    {
      "cell_type": "code",
      "metadata": {
        "id": "Obm5aM43ociT"
      },
      "source": [
        "class Dog:\n",
        "    #class variables\n",
        "    species = 'mammal'\n",
        "    city = 'Pune' #Assumed for this example\n",
        "    \n",
        "    def __init__(self,breed,size,age):\n",
        "        #instance variables\n",
        "        self.breed = breed\n",
        "        self.size = size\n",
        "        self.age = age"
      ],
      "execution_count": null,
      "outputs": []
    },
    {
      "cell_type": "code",
      "metadata": {
        "id": "agMwUNwRopPd"
      },
      "source": [
        "dog1 = Dog('Pug','small',1)\n",
        "dog2= Dog('Bulldog','medium',3)"
      ],
      "execution_count": null,
      "outputs": []
    },
    {
      "cell_type": "code",
      "metadata": {
        "colab": {
          "base_uri": "https://localhost:8080/",
          "height": 35
        },
        "id": "Wxg1UhObo0IZ",
        "outputId": "b2a2041a-47bc-4d6c-e3da-407d603d2411"
      },
      "source": [
        "dog1.species"
      ],
      "execution_count": null,
      "outputs": [
        {
          "output_type": "execute_result",
          "data": {
            "application/vnd.google.colaboratory.intrinsic+json": {
              "type": "string"
            },
            "text/plain": [
              "'mammal'"
            ]
          },
          "metadata": {
            "tags": []
          },
          "execution_count": 29
        }
      ]
    },
    {
      "cell_type": "code",
      "metadata": {
        "colab": {
          "base_uri": "https://localhost:8080/",
          "height": 35
        },
        "id": "9sGZaEqKpFgr",
        "outputId": "17a642dc-915d-4a7c-8253-a19651f9a2a9"
      },
      "source": [
        "dog2.species"
      ],
      "execution_count": null,
      "outputs": [
        {
          "output_type": "execute_result",
          "data": {
            "application/vnd.google.colaboratory.intrinsic+json": {
              "type": "string"
            },
            "text/plain": [
              "'mammal'"
            ]
          },
          "metadata": {
            "tags": []
          },
          "execution_count": 30
        }
      ]
    },
    {
      "cell_type": "code",
      "metadata": {
        "colab": {
          "base_uri": "https://localhost:8080/",
          "height": 35
        },
        "id": "ZokZsfYHpJFb",
        "outputId": "a4021be6-1f59-4ed5-e643-75c1048f497b"
      },
      "source": [
        "dog1.city"
      ],
      "execution_count": null,
      "outputs": [
        {
          "output_type": "execute_result",
          "data": {
            "application/vnd.google.colaboratory.intrinsic+json": {
              "type": "string"
            },
            "text/plain": [
              "'Pune'"
            ]
          },
          "metadata": {
            "tags": []
          },
          "execution_count": 31
        }
      ]
    },
    {
      "cell_type": "code",
      "metadata": {
        "colab": {
          "base_uri": "https://localhost:8080/",
          "height": 35
        },
        "id": "p-27f8QTpLIi",
        "outputId": "03e416d8-865f-42df-e185-57050452b229"
      },
      "source": [
        "dog2.city"
      ],
      "execution_count": null,
      "outputs": [
        {
          "output_type": "execute_result",
          "data": {
            "application/vnd.google.colaboratory.intrinsic+json": {
              "type": "string"
            },
            "text/plain": [
              "'Pune'"
            ]
          },
          "metadata": {
            "tags": []
          },
          "execution_count": 32
        }
      ]
    },
    {
      "cell_type": "code",
      "metadata": {
        "colab": {
          "base_uri": "https://localhost:8080/",
          "height": 35
        },
        "id": "wU0HhsYRpN2T",
        "outputId": "0346f63c-2b10-47bc-c31c-8d499edc0a56"
      },
      "source": [
        "dog1.breed"
      ],
      "execution_count": null,
      "outputs": [
        {
          "output_type": "execute_result",
          "data": {
            "application/vnd.google.colaboratory.intrinsic+json": {
              "type": "string"
            },
            "text/plain": [
              "'Pug'"
            ]
          },
          "metadata": {
            "tags": []
          },
          "execution_count": 33
        }
      ]
    },
    {
      "cell_type": "code",
      "metadata": {
        "colab": {
          "base_uri": "https://localhost:8080/",
          "height": 35
        },
        "id": "utK5kkNqpRI6",
        "outputId": "5c3432a9-c94a-432f-f242-8beff532dafd"
      },
      "source": [
        "dog2.breed"
      ],
      "execution_count": null,
      "outputs": [
        {
          "output_type": "execute_result",
          "data": {
            "application/vnd.google.colaboratory.intrinsic+json": {
              "type": "string"
            },
            "text/plain": [
              "'Bulldog'"
            ]
          },
          "metadata": {
            "tags": []
          },
          "execution_count": 34
        }
      ]
    },
    {
      "cell_type": "markdown",
      "metadata": {
        "id": "VI10ptxIpa57"
      },
      "source": [
        "**We can access the class variable by using class name itself**\n",
        "\n",
        "ClassName.class_variable"
      ]
    },
    {
      "cell_type": "code",
      "metadata": {
        "colab": {
          "base_uri": "https://localhost:8080/",
          "height": 35
        },
        "id": "0XBgfLK7pugc",
        "outputId": "9d6923c0-ae7b-488c-d60d-01148274aeda"
      },
      "source": [
        "Dog.species"
      ],
      "execution_count": null,
      "outputs": [
        {
          "output_type": "execute_result",
          "data": {
            "application/vnd.google.colaboratory.intrinsic+json": {
              "type": "string"
            },
            "text/plain": [
              "'mammal'"
            ]
          },
          "metadata": {
            "tags": []
          },
          "execution_count": 35
        }
      ]
    },
    {
      "cell_type": "code",
      "metadata": {
        "colab": {
          "base_uri": "https://localhost:8080/",
          "height": 35
        },
        "id": "hqCDD3j0pzSq",
        "outputId": "2f71f2f2-d736-48ba-866a-fdf062d30e84"
      },
      "source": [
        "Dog.city"
      ],
      "execution_count": null,
      "outputs": [
        {
          "output_type": "execute_result",
          "data": {
            "application/vnd.google.colaboratory.intrinsic+json": {
              "type": "string"
            },
            "text/plain": [
              "'Pune'"
            ]
          },
          "metadata": {
            "tags": []
          },
          "execution_count": 36
        }
      ]
    },
    {
      "cell_type": "markdown",
      "metadata": {
        "id": "tRr_jmktqTbz"
      },
      "source": [
        "**Object Methods**\n",
        "\n",
        "Objects can also contain methods. Methods in objects are functions that belong to the object.\n"
      ]
    },
    {
      "cell_type": "code",
      "metadata": {
        "id": "bhhvlC6jqquc"
      },
      "source": [
        "class Dog:\n",
        "    #class variables\n",
        "    species = 'mammal'\n",
        "    \n",
        "    def __init__(self,breed,size,age):\n",
        "        #instance variables\n",
        "        self.breed = breed\n",
        "        self.size = size\n",
        "        self.age = age\n",
        "    \n",
        "    #without any parameters\n",
        "    def bark(self):\n",
        "        print('Boww Boww. I am '+self.breed)\n",
        "        \n",
        "    #with one parameter\n",
        "    def eat(self,food):\n",
        "        print('I will eat '+food)\n",
        "        \n",
        "    def sleep(self,hours = 1):\n",
        "        print(\"HI i am {} and I sleep for {} hours\".format(self.breed,hours))"
      ],
      "execution_count": null,
      "outputs": []
    },
    {
      "cell_type": "code",
      "metadata": {
        "id": "ocvXrFWDrDa6"
      },
      "source": [
        "dog1 = Dog('pug','small',1)"
      ],
      "execution_count": null,
      "outputs": []
    },
    {
      "cell_type": "code",
      "metadata": {
        "colab": {
          "base_uri": "https://localhost:8080/"
        },
        "id": "uTU3jBtlrO-U",
        "outputId": "32693ace-dec5-4b3d-e992-87bc4094619b"
      },
      "source": [
        "dog1.bark()"
      ],
      "execution_count": null,
      "outputs": [
        {
          "output_type": "stream",
          "text": [
            "Boww Boww. I am pug\n"
          ],
          "name": "stdout"
        }
      ]
    },
    {
      "cell_type": "code",
      "metadata": {
        "colab": {
          "base_uri": "https://localhost:8080/"
        },
        "id": "51HKSbq_reqe",
        "outputId": "107023a0-a331-4c31-8921-f1de979db125"
      },
      "source": [
        "dog1.eat('pedigree')\n"
      ],
      "execution_count": null,
      "outputs": [
        {
          "output_type": "stream",
          "text": [
            "I will eat pedigree\n"
          ],
          "name": "stdout"
        }
      ]
    },
    {
      "cell_type": "code",
      "metadata": {
        "colab": {
          "base_uri": "https://localhost:8080/"
        },
        "id": "-w3wSvPorkkd",
        "outputId": "f1ee650e-d586-429a-be18-d5d63b13aeb6"
      },
      "source": [
        "dog1.sleep(4)\n"
      ],
      "execution_count": null,
      "outputs": [
        {
          "output_type": "stream",
          "text": [
            "HI i am pug and I sleep for 4 hours\n"
          ],
          "name": "stdout"
        }
      ]
    },
    {
      "cell_type": "code",
      "metadata": {
        "id": "7__37XSNry6z"
      },
      "source": [
        "dog2 = Dog('bulldog','medium',3)"
      ],
      "execution_count": null,
      "outputs": []
    },
    {
      "cell_type": "code",
      "metadata": {
        "colab": {
          "base_uri": "https://localhost:8080/"
        },
        "id": "oiGzUHGlr5Bu",
        "outputId": "758dc995-7f16-431c-aea9-f5007d2193c2"
      },
      "source": [
        "dog2.bark()"
      ],
      "execution_count": null,
      "outputs": [
        {
          "output_type": "stream",
          "text": [
            "Boww Boww. I am bulldog\n"
          ],
          "name": "stdout"
        }
      ]
    },
    {
      "cell_type": "code",
      "metadata": {
        "colab": {
          "base_uri": "https://localhost:8080/"
        },
        "id": "gsaoqEkHsIdc",
        "outputId": "544703e0-cce1-4b3e-9a09-767fd86759ba"
      },
      "source": [
        "dog2.eat('chicken')"
      ],
      "execution_count": null,
      "outputs": [
        {
          "output_type": "stream",
          "text": [
            "I will eat chicken\n"
          ],
          "name": "stdout"
        }
      ]
    },
    {
      "cell_type": "code",
      "metadata": {
        "colab": {
          "base_uri": "https://localhost:8080/"
        },
        "id": "KVGI9FlIsTYE",
        "outputId": "0a114ec8-db6f-468a-8161-b3948f20fee1"
      },
      "source": [
        "dog2.sleep(10)"
      ],
      "execution_count": null,
      "outputs": [
        {
          "output_type": "stream",
          "text": [
            "HI i am bulldog and I sleep for 10 hours\n"
          ],
          "name": "stdout"
        }
      ]
    },
    {
      "cell_type": "markdown",
      "metadata": {
        "id": "b7fjGsrfsvO9"
      },
      "source": [
        "**Circle**"
      ]
    },
    {
      "cell_type": "code",
      "metadata": {
        "id": "Jc0QB3yhs3te"
      },
      "source": [
        "\n",
        "class CircleClass:\n",
        "    #class variable\n",
        "    pie = 3.14\n",
        "    \n",
        "    def __init__(self,radius):\n",
        "        self.radius = radius\n",
        "        \n",
        "    def get_area(self):\n",
        "        return self.pie * self.radius * self.radius\n",
        "    \n",
        "    def get_circumference(self):\n",
        "        return 2 * self.pie * self.radius"
      ],
      "execution_count": null,
      "outputs": []
    },
    {
      "cell_type": "code",
      "metadata": {
        "id": "OIdUlvZ5tR1K"
      },
      "source": [
        "cir1 = CircleClass(10)\n",
        "cir2 = CircleClass(20)\n",
        "cir3 = CircleClass(30)"
      ],
      "execution_count": null,
      "outputs": []
    },
    {
      "cell_type": "code",
      "metadata": {
        "colab": {
          "base_uri": "https://localhost:8080/"
        },
        "id": "JSWtKQ4JtpLd",
        "outputId": "f9080494-7023-4ff1-fd8b-b412d96ef846"
      },
      "source": [
        "cir1.get_area()"
      ],
      "execution_count": null,
      "outputs": [
        {
          "output_type": "execute_result",
          "data": {
            "text/plain": [
              "314.0"
            ]
          },
          "metadata": {
            "tags": []
          },
          "execution_count": 50
        }
      ]
    },
    {
      "cell_type": "code",
      "metadata": {
        "colab": {
          "base_uri": "https://localhost:8080/"
        },
        "id": "1d8R-0o2t5_t",
        "outputId": "4053367f-9cd8-48f3-a236-3108627a48e4"
      },
      "source": [
        "cir2.get_circumference()"
      ],
      "execution_count": null,
      "outputs": [
        {
          "output_type": "execute_result",
          "data": {
            "text/plain": [
              "125.60000000000001"
            ]
          },
          "metadata": {
            "tags": []
          },
          "execution_count": 51
        }
      ]
    },
    {
      "cell_type": "code",
      "metadata": {
        "colab": {
          "base_uri": "https://localhost:8080/"
        },
        "id": "FW2ZtFK6uUhk",
        "outputId": "bcf5fcd7-7053-4786-a800-c36f85abba15"
      },
      "source": [
        "cir3.radius"
      ],
      "execution_count": null,
      "outputs": [
        {
          "output_type": "execute_result",
          "data": {
            "text/plain": [
              "30"
            ]
          },
          "metadata": {
            "tags": []
          },
          "execution_count": 52
        }
      ]
    },
    {
      "cell_type": "code",
      "metadata": {
        "colab": {
          "base_uri": "https://localhost:8080/"
        },
        "id": "2jynBu17uGIm",
        "outputId": "ab9ccac7-9de6-47af-af25-e2a802fbcdab"
      },
      "source": [
        "CircleClass.pie"
      ],
      "execution_count": null,
      "outputs": [
        {
          "output_type": "execute_result",
          "data": {
            "text/plain": [
              "3.14"
            ]
          },
          "metadata": {
            "tags": []
          },
          "execution_count": 53
        }
      ]
    }
  ]
}