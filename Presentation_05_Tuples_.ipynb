{
  "nbformat": 4,
  "nbformat_minor": 0,
  "metadata": {
    "colab": {
      "name": "Presentation 05-Tuples .ipynb",
      "provenance": [],
      "collapsed_sections": []
    },
    "kernelspec": {
      "name": "python3",
      "display_name": "Python 3"
    },
    "language_info": {
      "name": "python"
    }
  },
  "cells": [
    {
      "cell_type": "markdown",
      "metadata": {
        "id": "1fU1F_tDsNmh"
      },
      "source": [
        "#Tuples\n",
        "In python tuple is used to store multiple values in a single variable enclosed in reound brackets."
      ]
    },
    {
      "cell_type": "markdown",
      "metadata": {
        "id": "HnrM0sDpkjIj"
      },
      "source": [
        "**Important properties of Tuples**\n",
        "\n",
        "1.Can store different data type\n",
        "\n",
        "2.Order is retained.\n",
        "\n",
        "3.Immutable\n",
        "\n",
        "4.Duplicate values are allowed.\n",
        "\n",
        "5.Indexing and slicing is possible.\n"
      ]
    },
    {
      "cell_type": "code",
      "metadata": {
        "colab": {
          "base_uri": "https://localhost:8080/"
        },
        "id": "TIC2KunFlkgS",
        "outputId": "d09b990e-ffd4-4d21-88cf-517b6e8c6dee"
      },
      "source": [
        "##Example of Tuple\n",
        "\n",
        "A=(1,2,3,3.5,\"tom\",True,)\n",
        "type(A)"
      ],
      "execution_count": null,
      "outputs": [
        {
          "output_type": "execute_result",
          "data": {
            "text/plain": [
              "tuple"
            ]
          },
          "metadata": {
            "tags": []
          },
          "execution_count": 37
        }
      ]
    },
    {
      "cell_type": "code",
      "metadata": {
        "colab": {
          "base_uri": "https://localhost:8080/"
        },
        "id": "pT7kH5j_mebZ",
        "outputId": "e62a10ce-ef96-47b8-f31e-541f8d38898c"
      },
      "source": [
        "# Check length of tuple\n",
        "len(A)"
      ],
      "execution_count": null,
      "outputs": [
        {
          "output_type": "execute_result",
          "data": {
            "text/plain": [
              "6"
            ]
          },
          "metadata": {
            "tags": []
          },
          "execution_count": 38
        }
      ]
    },
    {
      "cell_type": "code",
      "metadata": {
        "colab": {
          "base_uri": "https://localhost:8080/"
        },
        "id": "85jOhev7mvnJ",
        "outputId": "e6198129-cd8b-49cd-9e2f-d4898f2e0c6c"
      },
      "source": [
        "# Creating a tuple with one element\n",
        "\n",
        "Tup1=(\"english\")\n",
        "type(Tup1)"
      ],
      "execution_count": null,
      "outputs": [
        {
          "output_type": "execute_result",
          "data": {
            "text/plain": [
              "str"
            ]
          },
          "metadata": {
            "tags": []
          },
          "execution_count": 39
        }
      ]
    },
    {
      "cell_type": "code",
      "metadata": {
        "colab": {
          "base_uri": "https://localhost:8080/"
        },
        "id": "8V3egb0bnS_m",
        "outputId": "802af1bd-0fed-45c6-9d86-33ec2c540bd0"
      },
      "source": [
        "Tup2=(\"English\",)        # Always use (,) after the value to create tuple with one element\n",
        "type(Tup2)"
      ],
      "execution_count": null,
      "outputs": [
        {
          "output_type": "execute_result",
          "data": {
            "text/plain": [
              "tuple"
            ]
          },
          "metadata": {
            "tags": []
          },
          "execution_count": 40
        }
      ]
    },
    {
      "cell_type": "markdown",
      "metadata": {
        "id": "wGMqGNPzn58G"
      },
      "source": [
        "Indexing"
      ]
    },
    {
      "cell_type": "code",
      "metadata": {
        "colab": {
          "base_uri": "https://localhost:8080/"
        },
        "id": "--ahkzusn8Tx",
        "outputId": "eae83a27-3ecb-4f84-fb8c-038886bed688"
      },
      "source": [
        "#Indexing always start with zero\n",
        "A=(1,2,3,3.5,\"tom\",True,)\n",
        "A[0]\n"
      ],
      "execution_count": null,
      "outputs": [
        {
          "output_type": "execute_result",
          "data": {
            "text/plain": [
              "1"
            ]
          },
          "metadata": {
            "tags": []
          },
          "execution_count": 41
        }
      ]
    },
    {
      "cell_type": "code",
      "metadata": {
        "colab": {
          "base_uri": "https://localhost:8080/"
        },
        "id": "L8RJLqtqoTn-",
        "outputId": "d5e59473-3870-470c-85b0-7481853efa27"
      },
      "source": [
        "A[3]"
      ],
      "execution_count": null,
      "outputs": [
        {
          "output_type": "execute_result",
          "data": {
            "text/plain": [
              "3.5"
            ]
          },
          "metadata": {
            "tags": []
          },
          "execution_count": 42
        }
      ]
    },
    {
      "cell_type": "code",
      "metadata": {
        "colab": {
          "base_uri": "https://localhost:8080/",
          "height": 35
        },
        "id": "94lOIHjaodFH",
        "outputId": "fc1cd9ba-75fa-4503-ca51-c7f82723f9b5"
      },
      "source": [
        "A[-2]     # to get values in reverse order we use (-) sign"
      ],
      "execution_count": null,
      "outputs": [
        {
          "output_type": "execute_result",
          "data": {
            "application/vnd.google.colaboratory.intrinsic+json": {
              "type": "string"
            },
            "text/plain": [
              "'tom'"
            ]
          },
          "metadata": {
            "tags": []
          },
          "execution_count": 43
        }
      ]
    },
    {
      "cell_type": "code",
      "metadata": {
        "colab": {
          "base_uri": "https://localhost:8080/"
        },
        "id": "Gm5aADLqo4L4",
        "outputId": "60d8167a-af71-4aaf-bb20-c88ff413ab85"
      },
      "source": [
        "A[-1]"
      ],
      "execution_count": null,
      "outputs": [
        {
          "output_type": "execute_result",
          "data": {
            "text/plain": [
              "True"
            ]
          },
          "metadata": {
            "tags": []
          },
          "execution_count": 44
        }
      ]
    },
    {
      "cell_type": "markdown",
      "metadata": {
        "id": "XTU_eB2FpARv"
      },
      "source": [
        "Slicing"
      ]
    },
    {
      "cell_type": "code",
      "metadata": {
        "id": "-T2fK82qpC7Y"
      },
      "source": [
        "# [start:stop:step]\n",
        "\n",
        "# start = starting position (default value is 0)\n",
        "# stop = end position(exclusive) (default value is end position)\n",
        "# step = step size or increment size (default value is 1)"
      ],
      "execution_count": null,
      "outputs": []
    },
    {
      "cell_type": "code",
      "metadata": {
        "colab": {
          "base_uri": "https://localhost:8080/"
        },
        "id": "yr7j9yOcpZp5",
        "outputId": "a986ed56-8737-4c7f-f10a-e5540fad7498"
      },
      "source": [
        "# to get first 3 elements\n",
        "A[:3]"
      ],
      "execution_count": null,
      "outputs": [
        {
          "output_type": "execute_result",
          "data": {
            "text/plain": [
              "(1, 2, 3)"
            ]
          },
          "metadata": {
            "tags": []
          },
          "execution_count": 45
        }
      ]
    },
    {
      "cell_type": "code",
      "metadata": {
        "colab": {
          "base_uri": "https://localhost:8080/"
        },
        "id": "wVaSLte6p6NH",
        "outputId": "bfe153aa-535c-41d4-dc1e-cb53a2897495"
      },
      "source": [
        "# to get the last 2 elements\n",
        "A[-2:]"
      ],
      "execution_count": null,
      "outputs": [
        {
          "output_type": "execute_result",
          "data": {
            "text/plain": [
              "('tom', True)"
            ]
          },
          "metadata": {
            "tags": []
          },
          "execution_count": 46
        }
      ]
    },
    {
      "cell_type": "code",
      "metadata": {
        "colab": {
          "base_uri": "https://localhost:8080/"
        },
        "id": "-d1Ifkd5qJDg",
        "outputId": "b8ace0ee-6cf3-4c46-d7e5-5991eb1b4f03"
      },
      "source": [
        "# to get alternate elements\n",
        "A[::2]"
      ],
      "execution_count": null,
      "outputs": [
        {
          "output_type": "execute_result",
          "data": {
            "text/plain": [
              "(1, 3, 'tom')"
            ]
          },
          "metadata": {
            "tags": []
          },
          "execution_count": 47
        }
      ]
    },
    {
      "cell_type": "markdown",
      "metadata": {
        "id": "8nSa0ZPyq0Jv"
      },
      "source": [
        "Immutable"
      ]
    },
    {
      "cell_type": "code",
      "metadata": {
        "colab": {
          "base_uri": "https://localhost:8080/",
          "height": 197
        },
        "id": "E9bnz_3Aq4Ya",
        "outputId": "50c31b69-d7e8-4195-a153-5e710bcdf2bc"
      },
      "source": [
        "#Modify tuple value\n",
        "A=(1,2,3,3.5,\"tom\",True,)\n",
        "A[0]=100"
      ],
      "execution_count": null,
      "outputs": [
        {
          "output_type": "error",
          "ename": "TypeError",
          "evalue": "ignored",
          "traceback": [
            "\u001b[0;31m---------------------------------------------------------------------------\u001b[0m",
            "\u001b[0;31mTypeError\u001b[0m                                 Traceback (most recent call last)",
            "\u001b[0;32m<ipython-input-48-aaaa0ea3af44>\u001b[0m in \u001b[0;36m<module>\u001b[0;34m()\u001b[0m\n\u001b[1;32m      1\u001b[0m \u001b[0;31m#Modify tuple value\u001b[0m\u001b[0;34m\u001b[0m\u001b[0;34m\u001b[0m\u001b[0;34m\u001b[0m\u001b[0m\n\u001b[1;32m      2\u001b[0m \u001b[0mA\u001b[0m\u001b[0;34m=\u001b[0m\u001b[0;34m(\u001b[0m\u001b[0;36m1\u001b[0m\u001b[0;34m,\u001b[0m\u001b[0;36m2\u001b[0m\u001b[0;34m,\u001b[0m\u001b[0;36m3\u001b[0m\u001b[0;34m,\u001b[0m\u001b[0;36m3.5\u001b[0m\u001b[0;34m,\u001b[0m\u001b[0;34m\"tom\"\u001b[0m\u001b[0;34m,\u001b[0m\u001b[0;32mTrue\u001b[0m\u001b[0;34m,\u001b[0m\u001b[0;34m)\u001b[0m\u001b[0;34m\u001b[0m\u001b[0;34m\u001b[0m\u001b[0m\n\u001b[0;32m----> 3\u001b[0;31m \u001b[0mA\u001b[0m\u001b[0;34m[\u001b[0m\u001b[0;36m0\u001b[0m\u001b[0;34m]\u001b[0m\u001b[0;34m=\u001b[0m\u001b[0;36m100\u001b[0m\u001b[0;34m\u001b[0m\u001b[0;34m\u001b[0m\u001b[0m\n\u001b[0m",
            "\u001b[0;31mTypeError\u001b[0m: 'tuple' object does not support item assignment"
          ]
        }
      ]
    },
    {
      "cell_type": "code",
      "metadata": {
        "colab": {
          "base_uri": "https://localhost:8080/",
          "height": 180
        },
        "id": "hXX3uNTcrSuY",
        "outputId": "9e02eff2-3d36-4842-e33e-b4f486c751fa"
      },
      "source": [
        "#remove\n",
        "A.pop()"
      ],
      "execution_count": null,
      "outputs": [
        {
          "output_type": "error",
          "ename": "AttributeError",
          "evalue": "ignored",
          "traceback": [
            "\u001b[0;31m---------------------------------------------------------------------------\u001b[0m",
            "\u001b[0;31mAttributeError\u001b[0m                            Traceback (most recent call last)",
            "\u001b[0;32m<ipython-input-49-0ca7b16247c0>\u001b[0m in \u001b[0;36m<module>\u001b[0;34m()\u001b[0m\n\u001b[1;32m      1\u001b[0m \u001b[0;31m#remove\u001b[0m\u001b[0;34m\u001b[0m\u001b[0;34m\u001b[0m\u001b[0;34m\u001b[0m\u001b[0m\n\u001b[0;32m----> 2\u001b[0;31m \u001b[0mA\u001b[0m\u001b[0;34m.\u001b[0m\u001b[0mpop\u001b[0m\u001b[0;34m(\u001b[0m\u001b[0;34m)\u001b[0m\u001b[0;34m\u001b[0m\u001b[0;34m\u001b[0m\u001b[0m\n\u001b[0m",
            "\u001b[0;31mAttributeError\u001b[0m: 'tuple' object has no attribute 'pop'"
          ]
        }
      ]
    },
    {
      "cell_type": "markdown",
      "metadata": {
        "id": "9YUR7ASDr-SH"
      },
      "source": [
        "We can modify tuples by converting them in to list and then performing the fuctions."
      ]
    },
    {
      "cell_type": "code",
      "metadata": {
        "colab": {
          "base_uri": "https://localhost:8080/"
        },
        "id": "A5PIadDcsHOJ",
        "outputId": "cf90bb1d-6296-4071-afab-339eb2bfc84d"
      },
      "source": [
        "A=(1,2,3,3.5,\"tom\",True,)                           #Step1:Convert tuple in to list\n",
        "List=list(A)\n",
        "print(List)"
      ],
      "execution_count": null,
      "outputs": [
        {
          "output_type": "stream",
          "text": [
            "[1, 2, 3, 3.5, 'tom', True]\n"
          ],
          "name": "stdout"
        }
      ]
    },
    {
      "cell_type": "code",
      "metadata": {
        "colab": {
          "base_uri": "https://localhost:8080/"
        },
        "id": "bDFZtg5dsYMJ",
        "outputId": "ec90fe29-4377-4b52-ab40-962555c9f4c9"
      },
      "source": [
        "List[0]=100                                         #Step2:Perform the fuction\n",
        "print(List)"
      ],
      "execution_count": null,
      "outputs": [
        {
          "output_type": "stream",
          "text": [
            "[100, 2, 3, 3.5, 'tom', True]\n"
          ],
          "name": "stdout"
        }
      ]
    },
    {
      "cell_type": "code",
      "metadata": {
        "colab": {
          "base_uri": "https://localhost:8080/"
        },
        "id": "RY-gmtyqspSf",
        "outputId": "ab139588-1a10-41c6-8b5e-484d0bf305a3"
      },
      "source": [
        "TupA=tuple(List)                                    #Step3:Again convert list in to tuple\n",
        "print(TupA)"
      ],
      "execution_count": null,
      "outputs": [
        {
          "output_type": "stream",
          "text": [
            "(100, 2, 3, 3.5, 'tom', True)\n"
          ],
          "name": "stdout"
        }
      ]
    },
    {
      "cell_type": "code",
      "metadata": {
        "colab": {
          "base_uri": "https://localhost:8080/"
        },
        "id": "xtILq64gtcnv",
        "outputId": "d1ae1673-0c86-4f8d-8f0e-7edebc094c1c"
      },
      "source": [
        "## To check if particular value is prezent in tuple\n",
        "\n",
        "TupA\n",
        "print(100 in TupA)\n"
      ],
      "execution_count": null,
      "outputs": [
        {
          "output_type": "stream",
          "text": [
            "True\n"
          ],
          "name": "stdout"
        }
      ]
    },
    {
      "cell_type": "code",
      "metadata": {
        "colab": {
          "base_uri": "https://localhost:8080/"
        },
        "id": "W9Z5qBjKt3VK",
        "outputId": "45bd3c66-ff83-4053-e931-17ccaa8c9efe"
      },
      "source": [
        "TupA\n",
        "print(10 in TupA)"
      ],
      "execution_count": null,
      "outputs": [
        {
          "output_type": "stream",
          "text": [
            "False\n"
          ],
          "name": "stdout"
        }
      ]
    },
    {
      "cell_type": "code",
      "metadata": {
        "colab": {
          "base_uri": "https://localhost:8080/"
        },
        "id": "-EMLvx-Kt8CK",
        "outputId": "7cb65e19-e836-477b-9bf0-e80c0b2c46f4"
      },
      "source": [
        "#Joining tuples\n",
        "TupA=(100, 2, 3, 3.5, 'tom', True)\n",
        "TupB=(200,2,4,\"false\")\n",
        "\n",
        "TupC=TupA+TupB\n",
        "print(TupC)"
      ],
      "execution_count": null,
      "outputs": [
        {
          "output_type": "stream",
          "text": [
            "(100, 2, 3, 3.5, 'tom', True, 200, 2, 4, 'false')\n"
          ],
          "name": "stdout"
        }
      ]
    },
    {
      "cell_type": "code",
      "metadata": {
        "colab": {
          "base_uri": "https://localhost:8080/"
        },
        "id": "BbsgsgutupJ8",
        "outputId": "d3efa3e4-4cf6-483c-fa27-5265c8ee28fb"
      },
      "source": [
        "# Count item\n",
        "TupC.count(2)"
      ],
      "execution_count": null,
      "outputs": [
        {
          "output_type": "execute_result",
          "data": {
            "text/plain": [
              "2"
            ]
          },
          "metadata": {
            "tags": []
          },
          "execution_count": 56
        }
      ]
    },
    {
      "cell_type": "code",
      "metadata": {
        "colab": {
          "base_uri": "https://localhost:8080/"
        },
        "id": "pZ9zZKnLu95m",
        "outputId": "a7492db3-5987-445e-8f30-d4be8b297671"
      },
      "source": [
        "# To get index of an item\n",
        "TupC.index(3.5)"
      ],
      "execution_count": null,
      "outputs": [
        {
          "output_type": "execute_result",
          "data": {
            "text/plain": [
              "3"
            ]
          },
          "metadata": {
            "tags": []
          },
          "execution_count": 58
        }
      ]
    }
  ]
}