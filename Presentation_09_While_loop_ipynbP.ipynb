{
  "nbformat": 4,
  "nbformat_minor": 0,
  "metadata": {
    "colab": {
      "name": "Presentation 09-While loop.ipynbP",
      "provenance": [],
      "collapsed_sections": []
    },
    "kernelspec": {
      "name": "python3",
      "display_name": "Python 3"
    },
    "language_info": {
      "name": "python"
    }
  },
  "cells": [
    {
      "cell_type": "markdown",
      "metadata": {
        "id": "PFZJzIV02Tuz"
      },
      "source": [
        "**Loops**\n",
        "\n",
        "A loop is a sequence of instructions that is continually repeated until a certain condition is reached.\n",
        "\n",
        "There are 2 types of loops:\n",
        "\n",
        "1.While loop\n",
        "\n",
        "2.For loop"
      ]
    },
    {
      "cell_type": "code",
      "metadata": {
        "colab": {
          "base_uri": "https://localhost:8080/"
        },
        "id": "fLQS2iIe1BSP",
        "outputId": "17ef61ba-24ff-4c01-9ba5-e19fbbf72128"
      },
      "source": [
        "print(1)\n",
        "print(2)\n",
        "print(3)\n",
        "print(4)\n",
        "print(5)"
      ],
      "execution_count": null,
      "outputs": [
        {
          "output_type": "stream",
          "text": [
            "1\n",
            "2\n",
            "3\n",
            "4\n",
            "5\n"
          ],
          "name": "stdout"
        }
      ]
    },
    {
      "cell_type": "markdown",
      "metadata": {
        "id": "BZoIXfl03qpf"
      },
      "source": [
        "**While loop**"
      ]
    },
    {
      "cell_type": "code",
      "metadata": {
        "id": "QoUkFURj4hQk"
      },
      "source": [
        "\"\"\"\n",
        "syntax\n",
        "\n",
        "while(condition/s):\n",
        "    statement1\n",
        "    statement2\n",
        "    ..........\n",
        "\"\"\""
      ],
      "execution_count": null,
      "outputs": []
    },
    {
      "cell_type": "code",
      "metadata": {
        "colab": {
          "base_uri": "https://localhost:8080/"
        },
        "id": "mcsofqpo4nv3",
        "outputId": "50bcf369-7321-452d-f2c7-92d75002443e"
      },
      "source": [
        "#Example:\n",
        "i = 1\n",
        "while i < 6:\n",
        "  print(i)\n",
        "  i += 1\n"
      ],
      "execution_count": null,
      "outputs": [
        {
          "output_type": "stream",
          "text": [
            "1\n",
            "2\n",
            "3\n",
            "4\n",
            "5\n"
          ],
          "name": "stdout"
        }
      ]
    },
    {
      "cell_type": "markdown",
      "metadata": {
        "id": "m7Nc1AcB5V9B"
      },
      "source": [
        "***While-else***\n",
        "\n",
        "With the else statement we can run a block of code once when the condition no longer is true:\n",
        "\n",
        "\n"
      ]
    },
    {
      "cell_type": "code",
      "metadata": {
        "colab": {
          "base_uri": "https://localhost:8080/"
        },
        "id": "bFL3-LNm5Y_X",
        "outputId": "52f7c366-4dda-4e75-9c7c-03b7df722f9a"
      },
      "source": [
        "#Example\n",
        "i = 1\n",
        "while i < 6:\n",
        "  print(i)\n",
        "  i += 1\n",
        "else:\n",
        "  print('End of while loop')\n",
        "  print(i)"
      ],
      "execution_count": null,
      "outputs": [
        {
          "output_type": "stream",
          "text": [
            "1\n",
            "2\n",
            "3\n",
            "4\n",
            "5\n",
            "End of while loop\n",
            "6\n"
          ],
          "name": "stdout"
        }
      ]
    },
    {
      "cell_type": "markdown",
      "metadata": {
        "id": "n3l9HoON6Eaj"
      },
      "source": [
        "**break**\n",
        "\n",
        "With the break statement we can stop the loop even if the while condition is true:\n",
        "\n"
      ]
    },
    {
      "cell_type": "code",
      "metadata": {
        "colab": {
          "base_uri": "https://localhost:8080/"
        },
        "id": "uC65QZtT6IrV",
        "outputId": "a26ad65b-5232-4cd4-9345-15357028fb30"
      },
      "source": [
        "i = 1\n",
        "while i < 6:\n",
        "  print(i)\n",
        "  if i == 4:\n",
        "    break\n",
        "  i += 1"
      ],
      "execution_count": null,
      "outputs": [
        {
          "output_type": "stream",
          "text": [
            "1\n",
            "2\n",
            "3\n",
            "4\n"
          ],
          "name": "stdout"
        }
      ]
    },
    {
      "cell_type": "markdown",
      "metadata": {
        "id": "EPn150f-6ZCX"
      },
      "source": [
        "**Continue**\n",
        "\n",
        "With the continue statement we can stop the current iteration, and continue with the next:\n",
        "\n"
      ]
    },
    {
      "cell_type": "code",
      "metadata": {
        "colab": {
          "base_uri": "https://localhost:8080/"
        },
        "id": "7gEJ1vmQ6hQo",
        "outputId": "07b7e1b2-3059-49d3-a836-77218c4d33cb"
      },
      "source": [
        "i = 0\n",
        "while i < 6:\n",
        "  i += 1\n",
        "  if i == 3:\n",
        "    continue\n",
        "  print(i)"
      ],
      "execution_count": null,
      "outputs": [
        {
          "output_type": "stream",
          "text": [
            "1\n",
            "2\n",
            "4\n",
            "5\n",
            "6\n"
          ],
          "name": "stdout"
        }
      ]
    }
  ]
}