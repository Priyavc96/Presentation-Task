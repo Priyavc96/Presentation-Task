{
  "nbformat": 4,
  "nbformat_minor": 0,
  "metadata": {
    "colab": {
      "name": "Presentation_20 Numpy2.ipynb",
      "provenance": [],
      "collapsed_sections": []
    },
    "kernelspec": {
      "display_name": "Python 3",
      "name": "python3"
    },
    "language_info": {
      "name": "python"
    }
  },
  "cells": [
    {
      "cell_type": "markdown",
      "metadata": {
        "id": "5laDheRNEzRx"
      },
      "source": [
        "**Random numbers in numpy**\n",
        "\n",
        "np.random.random()\n",
        "\n",
        "generates a random number from 0 to 1"
      ]
    },
    {
      "cell_type": "code",
      "metadata": {
        "id": "KB5mM5uoFI_2"
      },
      "source": [
        "import numpy as np"
      ],
      "execution_count": null,
      "outputs": []
    },
    {
      "cell_type": "code",
      "metadata": {
        "colab": {
          "base_uri": "https://localhost:8080/"
        },
        "id": "q9-jEqh3FUyk",
        "outputId": "5fda03b2-78f2-4af0-c5c3-15df1fe33f06"
      },
      "source": [
        "print(np.random.random())"
      ],
      "execution_count": null,
      "outputs": [
        {
          "output_type": "stream",
          "text": [
            "0.6290880984912425\n"
          ],
          "name": "stdout"
        }
      ]
    },
    {
      "cell_type": "code",
      "metadata": {
        "colab": {
          "base_uri": "https://localhost:8080/"
        },
        "id": "F1UO5yr3Fa6p",
        "outputId": "2c195e87-be69-4801-e6bc-d742713aa578"
      },
      "source": [
        "print(np.random.random())\n",
        "print(np.random.random())\n",
        "print(np.random.random())"
      ],
      "execution_count": null,
      "outputs": [
        {
          "output_type": "stream",
          "text": [
            "0.6519208764282111\n",
            "0.858591103900052\n",
            "0.5868027470643755\n"
          ],
          "name": "stdout"
        }
      ]
    },
    {
      "cell_type": "code",
      "metadata": {
        "colab": {
          "base_uri": "https://localhost:8080/"
        },
        "id": "gRFHq6A3Ickp",
        "outputId": "d59c2ce4-dfed-4d97-946a-dde297ad53ee"
      },
      "source": [
        "print(np.random.random())\n",
        "print(np.random.random())\n",
        "print(np.random.random())"
      ],
      "execution_count": null,
      "outputs": [
        {
          "output_type": "stream",
          "text": [
            "0.1123682339992198\n",
            "0.18239130207484522\n",
            "0.6970481291717412\n"
          ],
          "name": "stdout"
        }
      ]
    },
    {
      "cell_type": "markdown",
      "metadata": {
        "id": "9IgsvZ5gHISy"
      },
      "source": [
        "\n",
        "**np.random.seed()**"
      ]
    },
    {
      "cell_type": "code",
      "metadata": {
        "id": "SjP6eE87FgsS"
      },
      "source": [
        "np.random.seed()"
      ],
      "execution_count": null,
      "outputs": []
    },
    {
      "cell_type": "code",
      "metadata": {
        "colab": {
          "base_uri": "https://localhost:8080/"
        },
        "id": "hQFg4wx3ITqZ",
        "outputId": "fb676531-5d26-4d75-b7bd-7405559649c3"
      },
      "source": [
        "np.random.seed(10)\n",
        "print(np.random.random())\n",
        "print(np.random.random())\n",
        "print(np.random.random())\n",
        "print(np.random.random())"
      ],
      "execution_count": null,
      "outputs": [
        {
          "output_type": "stream",
          "text": [
            "0.771320643266746\n",
            "0.0207519493594015\n",
            "0.6336482349262754\n",
            "0.7488038825386119\n"
          ],
          "name": "stdout"
        }
      ]
    },
    {
      "cell_type": "code",
      "metadata": {
        "colab": {
          "base_uri": "https://localhost:8080/"
        },
        "id": "FPyiC7O2Igmb",
        "outputId": "8fce69dc-6604-44ce-94fe-b9efc91ad8e6"
      },
      "source": [
        "np.random.seed(10)\n",
        "print(np.random.random())\n",
        "print(np.random.random())\n",
        "print(np.random.random())\n",
        "print(np.random.random())"
      ],
      "execution_count": null,
      "outputs": [
        {
          "output_type": "stream",
          "text": [
            "0.771320643266746\n",
            "0.0207519493594015\n",
            "0.6336482349262754\n",
            "0.7488038825386119\n"
          ],
          "name": "stdout"
        }
      ]
    },
    {
      "cell_type": "code",
      "metadata": {
        "colab": {
          "base_uri": "https://localhost:8080/"
        },
        "id": "Cm-pwyKLIlzp",
        "outputId": "b1eb3822-f1fd-4360-9ee4-a65d0ec2577c"
      },
      "source": [
        "np.random.seed(300)\n",
        "print(np.random.random())\n",
        "print(np.random.random())\n",
        "print(np.random.random())\n",
        "print(np.random.random())"
      ],
      "execution_count": null,
      "outputs": [
        {
          "output_type": "stream",
          "text": [
            "0.45112256870005474\n",
            "0.2210223417135454\n",
            "0.3690812525293783\n",
            "0.2907757037664177\n"
          ],
          "name": "stdout"
        }
      ]
    },
    {
      "cell_type": "code",
      "metadata": {
        "colab": {
          "base_uri": "https://localhost:8080/"
        },
        "id": "ITN4k3JrIzfS",
        "outputId": "698efc11-b0b3-4735-ab1c-6c9b5cdc6a8b"
      },
      "source": [
        "# you can specify the shape\n",
        "x = np.random.random((4, 4))\n",
        "x"
      ],
      "execution_count": null,
      "outputs": [
        {
          "output_type": "execute_result",
          "data": {
            "text/plain": [
              "array([[0.24107793, 0.78204643, 0.81109437, 0.40079054],\n",
              "       [0.0259992 , 0.60937305, 0.6290881 , 0.65192088],\n",
              "       [0.8585911 , 0.58680275, 0.70416835, 0.48590168],\n",
              "       [0.68441634, 0.11236823, 0.1823913 , 0.69704813]])"
            ]
          },
          "metadata": {
            "tags": []
          },
          "execution_count": 24
        }
      ]
    },
    {
      "cell_type": "markdown",
      "metadata": {
        "id": "0_VfHSn3J_UC"
      },
      "source": [
        "**np.random.randint()**"
      ]
    },
    {
      "cell_type": "code",
      "metadata": {
        "colab": {
          "base_uri": "https://localhost:8080/"
        },
        "id": "awKvsCUwJ6Tq",
        "outputId": "5ab40683-2483-478c-f192-a4bd37e4ee18"
      },
      "source": [
        "num = np.random.randint(low = 20, high =100)\n",
        "num"
      ],
      "execution_count": null,
      "outputs": [
        {
          "output_type": "execute_result",
          "data": {
            "text/plain": [
              "64"
            ]
          },
          "metadata": {
            "tags": []
          },
          "execution_count": 26
        }
      ]
    },
    {
      "cell_type": "code",
      "metadata": {
        "colab": {
          "base_uri": "https://localhost:8080/"
        },
        "id": "TKsk_JLwKMcK",
        "outputId": "14918f18-5308-4731-b462-f573e7e34b16"
      },
      "source": [
        "num = np.random.randint(low = 20, high =100,size = 5)\n",
        "num"
      ],
      "execution_count": null,
      "outputs": [
        {
          "output_type": "execute_result",
          "data": {
            "text/plain": [
              "array([56, 80, 44, 48, 99])"
            ]
          },
          "metadata": {
            "tags": []
          },
          "execution_count": 27
        }
      ]
    },
    {
      "cell_type": "code",
      "metadata": {
        "colab": {
          "base_uri": "https://localhost:8080/"
        },
        "id": "uAuIoGEBKO9Z",
        "outputId": "06022ba0-b033-4560-8907-6d377b9875db"
      },
      "source": [
        "num = np.random.randint(low = 20, high =100,size = (5,5))\n",
        "num"
      ],
      "execution_count": null,
      "outputs": [
        {
          "output_type": "execute_result",
          "data": {
            "text/plain": [
              "array([[33, 75, 43, 75, 63],\n",
              "       [90, 77, 22, 30, 53],\n",
              "       [33, 46, 57, 45, 25],\n",
              "       [77, 20, 60, 45, 63],\n",
              "       [53, 81, 62, 77, 21]])"
            ]
          },
          "metadata": {
            "tags": []
          },
          "execution_count": 28
        }
      ]
    },
    {
      "cell_type": "markdown",
      "metadata": {
        "id": "Sy5uSilDKp_z"
      },
      "source": [
        "**np.random.choice(list_of_choice,num_of_ele)**"
      ]
    },
    {
      "cell_type": "code",
      "metadata": {
        "colab": {
          "base_uri": "https://localhost:8080/"
        },
        "id": "F1buBMrQKlq5",
        "outputId": "8ad4e355-d24e-4298-aebc-f5b6e95c274c"
      },
      "source": [
        "a = [24,27,22,47,35,82,-33,25,2.3,18]\n",
        "a"
      ],
      "execution_count": null,
      "outputs": [
        {
          "output_type": "execute_result",
          "data": {
            "text/plain": [
              "[24, 27, 22, 47, 35, 82, -33, 25, 2.3, 18]"
            ]
          },
          "metadata": {
            "tags": []
          },
          "execution_count": 29
        }
      ]
    },
    {
      "cell_type": "code",
      "metadata": {
        "colab": {
          "base_uri": "https://localhost:8080/"
        },
        "id": "bSjq9AXMKw1D",
        "outputId": "b3f1dc54-b9c3-470f-8856-132beeedfa49"
      },
      "source": [
        "np.random.choice(a,size = 3)\n"
      ],
      "execution_count": null,
      "outputs": [
        {
          "output_type": "execute_result",
          "data": {
            "text/plain": [
              "array([22., 24., 18.])"
            ]
          },
          "metadata": {
            "tags": []
          },
          "execution_count": 31
        }
      ]
    },
    {
      "cell_type": "code",
      "metadata": {
        "colab": {
          "base_uri": "https://localhost:8080/"
        },
        "id": "A-MTrWxCK5Qp",
        "outputId": "8f0eb857-901e-44b3-cab1-60bf3a27bff3"
      },
      "source": [
        "np.random.choice(a,size = (5,5))\n"
      ],
      "execution_count": null,
      "outputs": [
        {
          "output_type": "execute_result",
          "data": {
            "text/plain": [
              "array([[ 47. ,  82. ,  24. ,   2.3,  22. ],\n",
              "       [  2.3,  35. ,  35. ,  18. , -33. ],\n",
              "       [  2.3,   2.3,  18. ,  47. , -33. ],\n",
              "       [-33. ,  35. , -33. ,  47. ,  47. ],\n",
              "       [  2.3,  82. ,  22. ,  22. ,  47. ]])"
            ]
          },
          "metadata": {
            "tags": []
          },
          "execution_count": 32
        }
      ]
    },
    {
      "cell_type": "markdown",
      "metadata": {
        "id": "Yi8KQG45LBlT"
      },
      "source": [
        "**Other Important Functions**"
      ]
    },
    {
      "cell_type": "code",
      "metadata": {
        "colab": {
          "base_uri": "https://localhost:8080/"
        },
        "id": "6ZPfbCOoLHeA",
        "outputId": "f582bc71-4924-4c53-9513-a689851f8a8d"
      },
      "source": [
        "x = np.random.random((4, 4))\n",
        "x"
      ],
      "execution_count": null,
      "outputs": [
        {
          "output_type": "execute_result",
          "data": {
            "text/plain": [
              "array([[0.72796828, 0.3214473 , 0.86039918, 0.12032787],\n",
              "       [0.54648103, 0.4960796 , 0.93685416, 0.06511093],\n",
              "       [0.7374975 , 0.43061243, 0.84057618, 0.76492548],\n",
              "       [0.27638725, 0.08058355, 0.64784155, 0.19585336]])"
            ]
          },
          "metadata": {
            "tags": []
          },
          "execution_count": 33
        }
      ]
    },
    {
      "cell_type": "markdown",
      "metadata": {
        "id": "elV9FH96MAdE"
      },
      "source": [
        "\n",
        "**np.round()**\n",
        "\n",
        "rounds an array to given number of decimals"
      ]
    },
    {
      "cell_type": "code",
      "metadata": {
        "colab": {
          "base_uri": "https://localhost:8080/"
        },
        "id": "NsKZVocDL-GD",
        "outputId": "bf75ecc3-91f2-4dad-bd5f-647ae3a70255"
      },
      "source": [
        "# to round it to 3 decimal points\n",
        "rounded = np.round(x, 3)\n",
        "rounded"
      ],
      "execution_count": null,
      "outputs": [
        {
          "output_type": "execute_result",
          "data": {
            "text/plain": [
              "array([[0.728, 0.321, 0.86 , 0.12 ],\n",
              "       [0.546, 0.496, 0.937, 0.065],\n",
              "       [0.737, 0.431, 0.841, 0.765],\n",
              "       [0.276, 0.081, 0.648, 0.196]])"
            ]
          },
          "metadata": {
            "tags": []
          },
          "execution_count": 34
        }
      ]
    },
    {
      "cell_type": "code",
      "metadata": {
        "colab": {
          "base_uri": "https://localhost:8080/"
        },
        "id": "WA3smqCoM1bk",
        "outputId": "f8edb366-53d0-473d-939b-f0f7354a4792"
      },
      "source": [
        "new = rounded * 100\n",
        "new"
      ],
      "execution_count": null,
      "outputs": [
        {
          "output_type": "execute_result",
          "data": {
            "text/plain": [
              "array([[72.8, 32.1, 86. , 12. ],\n",
              "       [54.6, 49.6, 93.7,  6.5],\n",
              "       [73.7, 43.1, 84.1, 76.5],\n",
              "       [27.6,  8.1, 64.8, 19.6]])"
            ]
          },
          "metadata": {
            "tags": []
          },
          "execution_count": 35
        }
      ]
    },
    {
      "cell_type": "markdown",
      "metadata": {
        "id": "MH9yiTH1MOfK"
      },
      "source": [
        "\n",
        "**astype()**\n",
        "\n",
        "to change the data type of elements"
      ]
    },
    {
      "cell_type": "code",
      "metadata": {
        "colab": {
          "base_uri": "https://localhost:8080/"
        },
        "id": "dsCU6Zh1MuhT",
        "outputId": "d40deb22-c592-407f-9825-ce7be967284c"
      },
      "source": [
        "\n",
        "# to change the data type of elements to integers\n",
        "intt = new.astype(int)\n",
        "intt"
      ],
      "execution_count": null,
      "outputs": [
        {
          "output_type": "execute_result",
          "data": {
            "text/plain": [
              "array([[72, 32, 86, 12],\n",
              "       [54, 49, 93,  6],\n",
              "       [73, 43, 84, 76],\n",
              "       [27,  8, 64, 19]])"
            ]
          },
          "metadata": {
            "tags": []
          },
          "execution_count": 36
        }
      ]
    },
    {
      "cell_type": "code",
      "metadata": {
        "colab": {
          "base_uri": "https://localhost:8080/"
        },
        "id": "86kGM4dEM4Xb",
        "outputId": "78a3c7f9-0781-4a87-a76a-89e7f2f013a7"
      },
      "source": [
        "# to change the data type of elements to float\n",
        "flt = intt.astype(float)\n",
        "flt"
      ],
      "execution_count": null,
      "outputs": [
        {
          "output_type": "execute_result",
          "data": {
            "text/plain": [
              "array([[72., 32., 86., 12.],\n",
              "       [54., 49., 93.,  6.],\n",
              "       [73., 43., 84., 76.],\n",
              "       [27.,  8., 64., 19.]])"
            ]
          },
          "metadata": {
            "tags": []
          },
          "execution_count": 37
        }
      ]
    },
    {
      "cell_type": "markdown",
      "metadata": {
        "id": "RptUbJzQNU2N"
      },
      "source": [
        "\n",
        "**reshape()**\n",
        "\n",
        "to reshape an array"
      ]
    },
    {
      "cell_type": "code",
      "metadata": {
        "colab": {
          "base_uri": "https://localhost:8080/"
        },
        "id": "778oIwifNPlJ",
        "outputId": "00bcbd61-c95d-4732-8ab6-44a628a3bc52"
      },
      "source": [
        "x = np.arange(32)\n",
        "x"
      ],
      "execution_count": null,
      "outputs": [
        {
          "output_type": "execute_result",
          "data": {
            "text/plain": [
              "array([ 0,  1,  2,  3,  4,  5,  6,  7,  8,  9, 10, 11, 12, 13, 14, 15, 16,\n",
              "       17, 18, 19, 20, 21, 22, 23, 24, 25, 26, 27, 28, 29, 30, 31])"
            ]
          },
          "metadata": {
            "tags": []
          },
          "execution_count": 38
        }
      ]
    },
    {
      "cell_type": "code",
      "metadata": {
        "colab": {
          "base_uri": "https://localhost:8080/"
        },
        "id": "lrNeeI-TNwJ9",
        "outputId": "7ef22339-42e3-46b0-e442-10b3a7172e5d"
      },
      "source": [
        "x.shape"
      ],
      "execution_count": null,
      "outputs": [
        {
          "output_type": "execute_result",
          "data": {
            "text/plain": [
              "(32,)"
            ]
          },
          "metadata": {
            "tags": []
          },
          "execution_count": 39
        }
      ]
    },
    {
      "cell_type": "code",
      "metadata": {
        "id": "JNMiEsSGNx70"
      },
      "source": [
        "x = x.reshape(8,4)\n",
        "x"
      ],
      "execution_count": null,
      "outputs": []
    },
    {
      "cell_type": "code",
      "metadata": {
        "colab": {
          "background_save": true
        },
        "id": "hQ7yD_rAN2H0",
        "outputId": "3b7fbb6d-7028-4567-c7da-eacb353cdc4c"
      },
      "source": [
        "x.shape"
      ],
      "execution_count": null,
      "outputs": [
        {
          "output_type": "execute_result",
          "data": {
            "text/plain": [
              "(8, 4)"
            ]
          },
          "metadata": {
            "tags": []
          },
          "execution_count": 0
        }
      ]
    },
    {
      "cell_type": "markdown",
      "metadata": {
        "id": "BP5TgfHFOF5i"
      },
      "source": [
        "**Some other mathematical functions**"
      ]
    },
    {
      "cell_type": "code",
      "metadata": {
        "colab": {
          "base_uri": "https://localhost:8080/"
        },
        "id": "rZYE8Sh3OKZD",
        "outputId": "722c7660-2ce5-44ba-de6a-ca09a728f15e"
      },
      "source": [
        "a = np.arange(10)\n",
        "a"
      ],
      "execution_count": null,
      "outputs": [
        {
          "output_type": "execute_result",
          "data": {
            "text/plain": [
              "array([0, 1, 2, 3, 4, 5, 6, 7, 8, 9])"
            ]
          },
          "metadata": {
            "tags": []
          },
          "execution_count": 39
        }
      ]
    },
    {
      "cell_type": "code",
      "metadata": {
        "colab": {
          "base_uri": "https://localhost:8080/"
        },
        "id": "yyBYlUyxOk2z",
        "outputId": "3194c4af-7f2b-4a5e-95e4-1b680089fa97"
      },
      "source": [
        "#np.sin()\n",
        "np.sin(a)"
      ],
      "execution_count": null,
      "outputs": [
        {
          "output_type": "execute_result",
          "data": {
            "text/plain": [
              "array([ 0.        ,  0.84147098,  0.90929743,  0.14112001, -0.7568025 ,\n",
              "       -0.95892427, -0.2794155 ,  0.6569866 ,  0.98935825,  0.41211849])"
            ]
          },
          "metadata": {
            "tags": []
          },
          "execution_count": 40
        }
      ]
    },
    {
      "cell_type": "code",
      "metadata": {
        "id": "7-lska3mOsfU"
      },
      "source": [
        "#to get the exponential values i,e., e^num\n",
        "np.exp(a)"
      ],
      "execution_count": null,
      "outputs": []
    },
    {
      "cell_type": "code",
      "metadata": {
        "id": "UT_m8taQPCCl"
      },
      "source": [
        "#creating and reshaping the array\n",
        "a = np.arange(1,10).reshape(3,3)\n",
        "a"
      ],
      "execution_count": null,
      "outputs": []
    },
    {
      "cell_type": "code",
      "metadata": {
        "id": "Gehx19WHPJd0"
      },
      "source": [
        "#np.sum()  to get the sum of all the elements\n",
        "np.sum(a)"
      ],
      "execution_count": null,
      "outputs": []
    },
    {
      "cell_type": "code",
      "metadata": {
        "id": "GVg2bX_PPddD"
      },
      "source": [
        "# along the column\n",
        "np.sum(a,axis = 0)"
      ],
      "execution_count": null,
      "outputs": []
    },
    {
      "cell_type": "code",
      "metadata": {
        "id": "Qke6sZD1Phol"
      },
      "source": [
        "# along the row\n",
        "np.sum(a,axis = 1)"
      ],
      "execution_count": null,
      "outputs": []
    },
    {
      "cell_type": "markdown",
      "metadata": {
        "id": "ilR7jjK0Puck"
      },
      "source": [
        "**Transpose**"
      ]
    },
    {
      "cell_type": "code",
      "metadata": {
        "id": "-hVTYMpWPk2z"
      },
      "source": [
        "a"
      ],
      "execution_count": null,
      "outputs": []
    },
    {
      "cell_type": "code",
      "metadata": {
        "id": "alPvTmoMPz78"
      },
      "source": [
        "b=a.T\n",
        "b"
      ],
      "execution_count": null,
      "outputs": []
    },
    {
      "cell_type": "code",
      "metadata": {
        "id": "HrVcEF0HQU0N"
      },
      "source": [
        "# to get the maximum element\n",
        "a = np.array([1,4,2,6,10,13,5,7,3])\n",
        "a"
      ],
      "execution_count": null,
      "outputs": []
    },
    {
      "cell_type": "code",
      "metadata": {
        "id": "j6UmrXYKQYol"
      },
      "source": [
        "a.max()\n"
      ],
      "execution_count": null,
      "outputs": []
    },
    {
      "cell_type": "code",
      "metadata": {
        "id": "aIXnMpAfQce1"
      },
      "source": [
        "# to get the index at which the maximum element is present\n",
        "a.argmax()"
      ],
      "execution_count": null,
      "outputs": []
    }
  ]
}