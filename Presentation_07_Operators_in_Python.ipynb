{
  "nbformat": 4,
  "nbformat_minor": 0,
  "metadata": {
    "colab": {
      "name": "Presentation 07-Operators in Python.ipynb",
      "provenance": [],
      "collapsed_sections": []
    },
    "kernelspec": {
      "name": "python3",
      "display_name": "Python 3"
    },
    "language_info": {
      "name": "python"
    }
  },
  "cells": [
    {
      "cell_type": "markdown",
      "metadata": {
        "id": "ESI2HfMQrRiG"
      },
      "source": [
        "##Operators in Python"
      ]
    },
    {
      "cell_type": "markdown",
      "metadata": {
        "id": "q7ySgCuirZg9"
      },
      "source": [
        "We will see 4 types of operators in Python:\n",
        "\n",
        "**1.Arithmatic Operators**\n",
        "\n",
        "**2.Assignment Operators**\n",
        "\n",
        "**3.Comparison Operators**\n",
        "\n",
        "**4.Logical Operators**"
      ]
    },
    {
      "cell_type": "markdown",
      "metadata": {
        "id": "yaN4nW2ZsigM"
      },
      "source": [
        "**1.Arithmatic Operator  ( + , - , * , / , // , % , ** )**"
      ]
    },
    {
      "cell_type": "code",
      "metadata": {
        "id": "UQSjgwkatWtF"
      },
      "source": [
        "x=25\n",
        "y=3"
      ],
      "execution_count": null,
      "outputs": []
    },
    {
      "cell_type": "code",
      "metadata": {
        "colab": {
          "base_uri": "https://localhost:8080/"
        },
        "id": "0x5Loebrtemq",
        "outputId": "6a182224-f2d0-446a-f693-c0344b3667df"
      },
      "source": [
        "#Addition\n",
        "x+y"
      ],
      "execution_count": null,
      "outputs": [
        {
          "output_type": "execute_result",
          "data": {
            "text/plain": [
              "28"
            ]
          },
          "metadata": {
            "tags": []
          },
          "execution_count": 45
        }
      ]
    },
    {
      "cell_type": "code",
      "metadata": {
        "colab": {
          "base_uri": "https://localhost:8080/"
        },
        "id": "gOA0IbtMssCq",
        "outputId": "5badb6a8-6f78-447f-b748-8fade318340a"
      },
      "source": [
        "#Subtraction\n",
        "x-y"
      ],
      "execution_count": null,
      "outputs": [
        {
          "output_type": "execute_result",
          "data": {
            "text/plain": [
              "22"
            ]
          },
          "metadata": {
            "tags": []
          },
          "execution_count": 46
        }
      ]
    },
    {
      "cell_type": "code",
      "metadata": {
        "colab": {
          "base_uri": "https://localhost:8080/"
        },
        "id": "FlljECsPuGGc",
        "outputId": "83d028fd-861b-47d4-a152-acaaa7d64f0e"
      },
      "source": [
        "#Multiplication\n",
        "x*y"
      ],
      "execution_count": null,
      "outputs": [
        {
          "output_type": "execute_result",
          "data": {
            "text/plain": [
              "75"
            ]
          },
          "metadata": {
            "tags": []
          },
          "execution_count": 47
        }
      ]
    },
    {
      "cell_type": "code",
      "metadata": {
        "colab": {
          "base_uri": "https://localhost:8080/"
        },
        "id": "vMcitFaauQkj",
        "outputId": "dc3815dc-2d8b-4272-922e-10b99eb17a0c"
      },
      "source": [
        "#Division\n",
        "x/y"
      ],
      "execution_count": null,
      "outputs": [
        {
          "output_type": "execute_result",
          "data": {
            "text/plain": [
              "8.333333333333334"
            ]
          },
          "metadata": {
            "tags": []
          },
          "execution_count": 48
        }
      ]
    },
    {
      "cell_type": "code",
      "metadata": {
        "colab": {
          "base_uri": "https://localhost:8080/"
        },
        "id": "ecZj3V-iuXti",
        "outputId": "38dbe78f-636c-4958-fda7-ceac6cfab746"
      },
      "source": [
        "#Floor Divison\n",
        "x//y"
      ],
      "execution_count": null,
      "outputs": [
        {
          "output_type": "execute_result",
          "data": {
            "text/plain": [
              "8"
            ]
          },
          "metadata": {
            "tags": []
          },
          "execution_count": 49
        }
      ]
    },
    {
      "cell_type": "code",
      "metadata": {
        "colab": {
          "base_uri": "https://localhost:8080/"
        },
        "id": "EyRd1V6puokC",
        "outputId": "ffce1daf-528e-4ad0-c3ff-f6a1adadd69b"
      },
      "source": [
        "#Remainder\n",
        "x%y"
      ],
      "execution_count": null,
      "outputs": [
        {
          "output_type": "execute_result",
          "data": {
            "text/plain": [
              "1"
            ]
          },
          "metadata": {
            "tags": []
          },
          "execution_count": 50
        }
      ]
    },
    {
      "cell_type": "code",
      "metadata": {
        "colab": {
          "base_uri": "https://localhost:8080/"
        },
        "id": "d5u1_blzuzoz",
        "outputId": "ef875400-328a-4d4e-ba36-a5e4364669c8"
      },
      "source": [
        "#Exponential\n",
        "x**y"
      ],
      "execution_count": null,
      "outputs": [
        {
          "output_type": "execute_result",
          "data": {
            "text/plain": [
              "15625"
            ]
          },
          "metadata": {
            "tags": []
          },
          "execution_count": 51
        }
      ]
    },
    {
      "cell_type": "markdown",
      "metadata": {
        "id": "sH4wGWFqvXRk"
      },
      "source": [
        "**2.Assignment Operators( = , += , -= , *= , /= )**"
      ]
    },
    {
      "cell_type": "code",
      "metadata": {
        "colab": {
          "base_uri": "https://localhost:8080/"
        },
        "id": "bAeEpaOpvdzz",
        "outputId": "5e851a26-9cbf-467e-a6c2-093baf49cafd"
      },
      "source": [
        "x=10\n",
        "x"
      ],
      "execution_count": null,
      "outputs": [
        {
          "output_type": "execute_result",
          "data": {
            "text/plain": [
              "10"
            ]
          },
          "metadata": {
            "tags": []
          },
          "execution_count": 53
        }
      ]
    },
    {
      "cell_type": "code",
      "metadata": {
        "colab": {
          "base_uri": "https://localhost:8080/"
        },
        "id": "75MEf4CCwLoZ",
        "outputId": "f3b4cdbe-5998-4b0f-d94b-ffc4c03000aa"
      },
      "source": [
        "x=x+3\n",
        "x"
      ],
      "execution_count": null,
      "outputs": [
        {
          "output_type": "execute_result",
          "data": {
            "text/plain": [
              "13"
            ]
          },
          "metadata": {
            "tags": []
          },
          "execution_count": 54
        }
      ]
    },
    {
      "cell_type": "code",
      "metadata": {
        "colab": {
          "base_uri": "https://localhost:8080/"
        },
        "id": "mskdSay4woPh",
        "outputId": "fbbd551a-c47c-44b8-b717-35d25ec147d7"
      },
      "source": [
        "x+=3             # x = x+3\n",
        "x"
      ],
      "execution_count": null,
      "outputs": [
        {
          "output_type": "execute_result",
          "data": {
            "text/plain": [
              "16"
            ]
          },
          "metadata": {
            "tags": []
          },
          "execution_count": 55
        }
      ]
    },
    {
      "cell_type": "code",
      "metadata": {
        "colab": {
          "base_uri": "https://localhost:8080/"
        },
        "id": "fFLtO-Z7xM5J",
        "outputId": "5d6065cf-f851-440a-aca9-f57a37ea89be"
      },
      "source": [
        "x-=5             # x = x-5\n",
        "x"
      ],
      "execution_count": null,
      "outputs": [
        {
          "output_type": "execute_result",
          "data": {
            "text/plain": [
              "11"
            ]
          },
          "metadata": {
            "tags": []
          },
          "execution_count": 56
        }
      ]
    },
    {
      "cell_type": "code",
      "metadata": {
        "colab": {
          "base_uri": "https://localhost:8080/"
        },
        "id": "M15WOocwx3Xh",
        "outputId": "7ea0e27d-a926-4721-a444-935d5797603a"
      },
      "source": [
        "x*=3             # x = x*3\n",
        "x"
      ],
      "execution_count": null,
      "outputs": [
        {
          "output_type": "execute_result",
          "data": {
            "text/plain": [
              "33"
            ]
          },
          "metadata": {
            "tags": []
          },
          "execution_count": 57
        }
      ]
    },
    {
      "cell_type": "code",
      "metadata": {
        "colab": {
          "base_uri": "https://localhost:8080/"
        },
        "id": "96AIaRfaySma",
        "outputId": "23a5e1bd-cf66-4e36-d909-9b6e0ff1662e"
      },
      "source": [
        "x/=2 \n",
        "x            # x = x/2"
      ],
      "execution_count": null,
      "outputs": [
        {
          "output_type": "execute_result",
          "data": {
            "text/plain": [
              "16.5"
            ]
          },
          "metadata": {
            "tags": []
          },
          "execution_count": 58
        }
      ]
    },
    {
      "cell_type": "markdown",
      "metadata": {
        "id": "zbaYbEnJyuSp"
      },
      "source": [
        "**Comparision Operators ( == , != , > , < , >= , <= )**"
      ]
    },
    {
      "cell_type": "code",
      "metadata": {
        "id": "PmBeiBmLy1vw"
      },
      "source": [
        "x=8\n",
        "y=4"
      ],
      "execution_count": null,
      "outputs": []
    },
    {
      "cell_type": "code",
      "metadata": {
        "colab": {
          "base_uri": "https://localhost:8080/"
        },
        "id": "85SSHYHhAH8w",
        "outputId": "65e5e8eb-ec00-4972-bfd2-6d0a050dbaa2"
      },
      "source": [
        "x==y       "
      ],
      "execution_count": null,
      "outputs": [
        {
          "output_type": "execute_result",
          "data": {
            "text/plain": [
              "False"
            ]
          },
          "metadata": {
            "tags": []
          },
          "execution_count": 60
        }
      ]
    },
    {
      "cell_type": "code",
      "metadata": {
        "colab": {
          "base_uri": "https://localhost:8080/"
        },
        "id": "eNywD6DcAObW",
        "outputId": "a53ea202-4b16-49cd-8b46-3306a654ed5e"
      },
      "source": [
        "x!=y"
      ],
      "execution_count": null,
      "outputs": [
        {
          "output_type": "execute_result",
          "data": {
            "text/plain": [
              "True"
            ]
          },
          "metadata": {
            "tags": []
          },
          "execution_count": 61
        }
      ]
    },
    {
      "cell_type": "code",
      "metadata": {
        "colab": {
          "base_uri": "https://localhost:8080/"
        },
        "id": "D3H10M8-AR00",
        "outputId": "4817c390-5615-4f14-fb11-b7f352f9cfed"
      },
      "source": [
        "x>y"
      ],
      "execution_count": null,
      "outputs": [
        {
          "output_type": "execute_result",
          "data": {
            "text/plain": [
              "True"
            ]
          },
          "metadata": {
            "tags": []
          },
          "execution_count": 62
        }
      ]
    },
    {
      "cell_type": "code",
      "metadata": {
        "colab": {
          "base_uri": "https://localhost:8080/"
        },
        "id": "v1gi7cLNAWAu",
        "outputId": "f23f5bd3-3eff-4624-f130-2e29bc539982"
      },
      "source": [
        "x<y"
      ],
      "execution_count": null,
      "outputs": [
        {
          "output_type": "execute_result",
          "data": {
            "text/plain": [
              "False"
            ]
          },
          "metadata": {
            "tags": []
          },
          "execution_count": 66
        }
      ]
    },
    {
      "cell_type": "code",
      "metadata": {
        "colab": {
          "base_uri": "https://localhost:8080/"
        },
        "id": "VOaxlZW2Am8H",
        "outputId": "6f8ffeb5-5ed3-4538-9c24-2db10d70ae06"
      },
      "source": [
        "x >= y"
      ],
      "execution_count": null,
      "outputs": [
        {
          "output_type": "execute_result",
          "data": {
            "text/plain": [
              "True"
            ]
          },
          "metadata": {
            "tags": []
          },
          "execution_count": 65
        }
      ]
    },
    {
      "cell_type": "code",
      "metadata": {
        "colab": {
          "base_uri": "https://localhost:8080/"
        },
        "id": "rvSE1VS7Aqrc",
        "outputId": "3f1dd5e7-83c5-4374-e64d-0819c563f131"
      },
      "source": [
        "x <= y "
      ],
      "execution_count": null,
      "outputs": [
        {
          "output_type": "execute_result",
          "data": {
            "text/plain": [
              "False"
            ]
          },
          "metadata": {
            "tags": []
          },
          "execution_count": 67
        }
      ]
    },
    {
      "cell_type": "markdown",
      "metadata": {
        "id": "t-EA-moAAyGU"
      },
      "source": [
        "**4.Logical operators ( or , and , not )**"
      ]
    },
    {
      "cell_type": "markdown",
      "metadata": {
        "id": "XdDCpNCBBL0l"
      },
      "source": [
        "![truthTable.png](data:image/png;base64,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)"
      ]
    },
    {
      "cell_type": "code",
      "metadata": {
        "id": "FZ5B0dtzBD_6"
      },
      "source": [
        "x= True\n",
        "y= False"
      ],
      "execution_count": null,
      "outputs": []
    },
    {
      "cell_type": "code",
      "metadata": {
        "colab": {
          "base_uri": "https://localhost:8080/"
        },
        "id": "ryvcQmYjBhOr",
        "outputId": "d5a95554-15fb-494b-b281-38ff33e5c05f"
      },
      "source": [
        "x  and y"
      ],
      "execution_count": null,
      "outputs": [
        {
          "output_type": "execute_result",
          "data": {
            "text/plain": [
              "False"
            ]
          },
          "metadata": {
            "tags": []
          },
          "execution_count": 70
        }
      ]
    },
    {
      "cell_type": "code",
      "metadata": {
        "colab": {
          "base_uri": "https://localhost:8080/"
        },
        "id": "gPZ51SWjBmK3",
        "outputId": "0e592810-97a7-4a41-f6fb-9eaab2e2480d"
      },
      "source": [
        "x or y"
      ],
      "execution_count": null,
      "outputs": [
        {
          "output_type": "execute_result",
          "data": {
            "text/plain": [
              "True"
            ]
          },
          "metadata": {
            "tags": []
          },
          "execution_count": 71
        }
      ]
    },
    {
      "cell_type": "code",
      "metadata": {
        "colab": {
          "base_uri": "https://localhost:8080/"
        },
        "id": "jCz-evO6Bn9J",
        "outputId": "417c206f-83e4-49e1-b742-d38778e22131"
      },
      "source": [
        "not x"
      ],
      "execution_count": null,
      "outputs": [
        {
          "output_type": "execute_result",
          "data": {
            "text/plain": [
              "False"
            ]
          },
          "metadata": {
            "tags": []
          },
          "execution_count": 72
        }
      ]
    },
    {
      "cell_type": "code",
      "metadata": {
        "colab": {
          "base_uri": "https://localhost:8080/"
        },
        "id": "QgiPz_VcBtCX",
        "outputId": "7e53e265-f384-4a04-9677-e7de49510772"
      },
      "source": [
        "not y"
      ],
      "execution_count": null,
      "outputs": [
        {
          "output_type": "execute_result",
          "data": {
            "text/plain": [
              "True"
            ]
          },
          "metadata": {
            "tags": []
          },
          "execution_count": 73
        }
      ]
    }
  ]
}